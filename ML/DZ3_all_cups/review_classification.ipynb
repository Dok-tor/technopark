{
 "cells": [
  {
   "cell_type": "markdown",
   "metadata": {
    "id": "x90yAt8E9LAR",
    "toc": true
   },
   "source": [
    "<h1>Table of Contents<span class=\"tocSkip\"></span></h1>\n",
    "<div class=\"toc\"><ul class=\"toc-item\"><li><span><a href=\"#Где-брать-данные?\" data-toc-modified-id=\"Где-брать-данные?-1\"><span class=\"toc-item-num\">1&nbsp;&nbsp;</span>Где брать данные?</a></span></li><li><span><a href=\"#Exploratory-Data-Analysis\" data-toc-modified-id=\"Exploratory-Data-Analysis-2\"><span class=\"toc-item-num\">2&nbsp;&nbsp;</span>Exploratory Data Analysis</a></span><ul class=\"toc-item\"><li><ul class=\"toc-item\"><li><span><a href=\"#Какие-бывают-значения-рейтинга?\" data-toc-modified-id=\"Какие-бывают-значения-рейтинга?-2.0.1\"><span class=\"toc-item-num\">2.0.1&nbsp;&nbsp;</span>Какие бывают значения рейтинга?</a></span></li><li><span><a href=\"#Добавьте-целевую-переменную\" data-toc-modified-id=\"Добавьте-целевую-переменную-2.0.2\"><span class=\"toc-item-num\">2.0.2&nbsp;&nbsp;</span>Добавьте целевую переменную</a></span></li><li><span><a href=\"#Худший-и-лучший-банк\" data-toc-modified-id=\"Худший-и-лучший-банк-2.0.3\"><span class=\"toc-item-num\">2.0.3&nbsp;&nbsp;</span>Худший и лучший банк</a></span></li><li><span><a href=\"#Отличается-ли-длина-у-хороших-и-плохих-отзывов?\" data-toc-modified-id=\"Отличается-ли-длина-у-хороших-и-плохих-отзывов?-2.0.4\"><span class=\"toc-item-num\">2.0.4&nbsp;&nbsp;</span>Отличается ли длина у хороших и плохих отзывов?</a></span></li><li><span><a href=\"#Отличается-ли-распределение-количества-восклицательных-знаков?\" data-toc-modified-id=\"Отличается-ли-распределение-количества-восклицательных-знаков?-2.0.5\"><span class=\"toc-item-num\">2.0.5&nbsp;&nbsp;</span>Отличается ли распределение количества восклицательных знаков?</a></span></li></ul></li></ul></li><li><span><a href=\"#Бейзлайн-модель-классификации\" data-toc-modified-id=\"Бейзлайн-модель-классификации-3\"><span class=\"toc-item-num\">3&nbsp;&nbsp;</span>Бейзлайн модель классификации</a></span></li><li><span><a href=\"#Обработка-текста\" data-toc-modified-id=\"Обработка-текста-4\"><span class=\"toc-item-num\">4&nbsp;&nbsp;</span>Обработка текста</a></span><ul class=\"toc-item\"><li><span><a href=\"#Модель-на-словах.-CountVectorizer\" data-toc-modified-id=\"Модель-на-словах.-CountVectorizer-4.1\"><span class=\"toc-item-num\">4.1&nbsp;&nbsp;</span>Модель на словах. CountVectorizer</a></span></li><li><span><a href=\"#Модель-на-n-gram'ах-символов.-TfidfVectorizer\" data-toc-modified-id=\"Модель-на-n-gram'ах-символов.-TfidfVectorizer-4.2\"><span class=\"toc-item-num\">4.2&nbsp;&nbsp;</span>Модель на n-gram'ах символов. TfidfVectorizer</a></span></li><li><span><a href=\"#Подбор-параметров-с-помощью-кросс-валидации\" data-toc-modified-id=\"Подбор-параметров-с-помощью-кросс-валидации-4.3\"><span class=\"toc-item-num\">4.3&nbsp;&nbsp;</span>Подбор параметров с помощью кросс-валидации</a></span></li><li><span><a href=\"#Объединение-признаков\" data-toc-modified-id=\"Объединение-признаков-4.4\"><span class=\"toc-item-num\">4.4&nbsp;&nbsp;</span>Объединение признаков</a></span></li><li><span><a href=\"#Визуализация-отзывов\" data-toc-modified-id=\"Визуализация-отзывов-4.5\"><span class=\"toc-item-num\">4.5&nbsp;&nbsp;</span>Визуализация отзывов</a></span></li></ul></li><li><span><a href=\"#Проблемы-анализа-тональности\" data-toc-modified-id=\"Проблемы-анализа-тональности-5\"><span class=\"toc-item-num\">5&nbsp;&nbsp;</span>Проблемы анализа тональности</a></span></li></ul></div>"
   ]
  },
  {
   "cell_type": "code",
   "execution_count": 1,
   "metadata": {
    "colab": {
     "base_uri": "https://localhost:8080/"
    },
    "id": "5PuwMVGk9LAV",
    "outputId": "e3550495-1ee8-4c57-c4e8-f63ab38d21cf",
    "ExecuteTime": {
     "end_time": "2024-04-07T19:00:44.509363Z",
     "start_time": "2024-04-07T19:00:42.616920Z"
    }
   },
   "source": [
    "import json\n",
    "import re\n",
    "import requests\n",
    "\n",
    "import nltk\n",
    "nltk.download('stopwords')\n",
    "import pandas as pd\n",
    "import numpy as np\n",
    "import matplotlib.pyplot as plt\n",
    "plt.style.use('ggplot')\n",
    "from bs4 import BeautifulSoup\n",
    "from sklearn.model_selection import train_test_split, GridSearchCV\n",
    "from sklearn.preprocessing  import StandardScaler\n",
    "from sklearn.feature_extraction.text import TfidfVectorizer, CountVectorizer\n",
    "from sklearn.linear_model import LogisticRegression, SGDClassifier\n",
    "from sklearn.tree import DecisionTreeClassifier, plot_tree\n",
    "from sklearn.pipeline import Pipeline, FeatureUnion\n",
    "from sklearn.compose import ColumnTransformer\n",
    "from sklearn.metrics import f1_score\n",
    "from IPython.core.display import HTML, display"
   ],
   "outputs": []
  },
  {
   "cell_type": "code",
   "execution_count": 2,
   "metadata": {
    "id": "7wyPh1Tg9LAX",
    "ExecuteTime": {
     "end_time": "2024-04-07T19:01:04.975382Z",
     "start_time": "2024-04-07T19:01:04.961383Z"
    }
   },
   "source": [
    "SEED = 42\n",
    "\n",
    "TOKEN_PATTERN = \"[а-яё]+\"\n",
    "\n",
    "DATA_PATH = 'data/parsed_reviews.csv.gz'"
   ],
   "outputs": []
  },
  {
   "cell_type": "markdown",
   "metadata": {
    "id": "wWdBlg_69LAX"
   },
   "source": [
    "Uncomment if you are using colab"
   ]
  },
  {
   "cell_type": "code",
   "execution_count": 3,
   "metadata": {
    "colab": {
     "base_uri": "https://localhost:8080/"
    },
    "id": "JlA0KumP9LAY",
    "outputId": "4b22c224-6b19-4f87-8471-ac89cd6ed018",
    "ExecuteTime": {
     "end_time": "2024-04-07T19:01:21.140249Z",
     "start_time": "2024-04-07T19:01:21.133249Z"
    }
   },
   "source": [
    "#!mkdir ./data\n",
    "#!wget https://raw.githubusercontent.com/vadim0912/MLIntro2022_Spring/master/lecture06/data/parsed_reviews.csv.gz -O $DATA_PATH"
   ],
   "outputs": []
  },
  {
   "cell_type": "markdown",
   "metadata": {
    "ExecuteTime": {
     "end_time": "2020-10-30T21:16:23.760727Z",
     "start_time": "2020-10-30T21:16:23.698135Z"
    },
    "id": "l6qBL_Aw9LAa"
   },
   "source": [
    "# Exploratory Data Analysis"
   ]
  },
  {
   "cell_type": "code",
   "execution_count": 4,
   "metadata": {
    "colab": {
     "base_uri": "https://localhost:8080/"
    },
    "id": "4Y3x6Iue9LAa",
    "outputId": "f3d8f272-9061-46e0-abcf-396ca864509f",
    "ExecuteTime": {
     "end_time": "2024-04-07T19:01:23.827812Z",
     "start_time": "2024-04-07T19:01:23.785246Z"
    }
   },
   "source": [
    "!ls -lah $DATA_PATH"
   ],
   "outputs": []
  },
  {
   "cell_type": "code",
   "execution_count": 5,
   "metadata": {
    "colab": {
     "base_uri": "https://localhost:8080/"
    },
    "id": "T0vOkxtO9LAb",
    "outputId": "a5a98488-d81c-449b-ccf8-c5a07a831297",
    "ExecuteTime": {
     "end_time": "2024-04-07T19:02:07.100172Z",
     "start_time": "2024-04-07T19:02:07.056169Z"
    }
   },
   "source": [
    "!gunzip -c $DATA_PATH | wc -l"
   ],
   "outputs": []
  },
  {
   "cell_type": "code",
   "execution_count": 6,
   "metadata": {
    "id": "y-J6GuDU9LAb",
    "ExecuteTime": {
     "end_time": "2024-04-07T19:02:08.971929Z",
     "start_time": "2024-04-07T19:02:07.815109Z"
    }
   },
   "source": [
    "df = pd.read_csv(DATA_PATH, nrows=50_000)"
   ],
   "outputs": []
  },
  {
   "cell_type": "markdown",
   "metadata": {
    "id": "Dt-s2hD89LAb"
   },
   "source": [
    "### Какие бывают значения рейтинга?"
   ]
  },
  {
   "cell_type": "code",
   "execution_count": 7,
   "metadata": {
    "colab": {
     "base_uri": "https://localhost:8080/"
    },
    "id": "-fCAGM0t9LAc",
    "outputId": "ed149141-7f2c-4b37-cf4f-74aedabce457",
    "ExecuteTime": {
     "end_time": "2024-04-07T19:02:17.501851Z",
     "start_time": "2024-04-07T19:02:17.490852Z"
    }
   },
   "source": [
    "df['rating'].value_counts()"
   ],
   "outputs": []
  },
  {
   "cell_type": "markdown",
   "metadata": {
    "id": "p7Fgl-Sv9LAc"
   },
   "source": [
    "### Добавьте целевую переменную\n",
    "* $y = 1$, если рейтинг высокий\n",
    "* $y = 0$, если рейтинг низкий"
   ]
  },
  {
   "cell_type": "code",
   "execution_count": 8,
   "metadata": {
    "id": "VVUlrQwA9LAc",
    "ExecuteTime": {
     "end_time": "2024-04-07T19:02:38.004897Z",
     "start_time": "2024-04-07T19:02:37.986896Z"
    }
   },
   "source": [
    "df = df[df.rating != 3].reset_index(drop=True)"
   ],
   "outputs": []
  },
  {
   "cell_type": "code",
   "execution_count": 9,
   "metadata": {
    "id": "ntmdqPFG9LAc",
    "ExecuteTime": {
     "end_time": "2024-04-07T19:02:38.656374Z",
     "start_time": "2024-04-07T19:02:38.641371Z"
    }
   },
   "source": [
    "df['y'] = df.rating.apply(lambda x: int(x > 3)).values"
   ],
   "outputs": []
  },
  {
   "cell_type": "code",
   "execution_count": 10,
   "metadata": {
    "colab": {
     "base_uri": "https://localhost:8080/",
     "height": 206
    },
    "id": "Y8VqS48M9LAd",
    "outputId": "f9d4b40c-275b-401f-d326-538f52cc17dc",
    "ExecuteTime": {
     "end_time": "2024-04-07T19:02:41.158296Z",
     "start_time": "2024-04-07T19:02:41.143301Z"
    }
   },
   "source": [
    "df.head()"
   ],
   "outputs": []
  },
  {
   "cell_type": "markdown",
   "metadata": {
    "id": "YPJzu4KS9LAd"
   },
   "source": [
    "какой баланс классов?"
   ]
  },
  {
   "cell_type": "code",
   "execution_count": 11,
   "metadata": {
    "colab": {
     "base_uri": "https://localhost:8080/"
    },
    "id": "D5-Vd48S9LAd",
    "outputId": "7d094b3f-7f18-4e45-f11a-3e0ccbbc4e41",
    "ExecuteTime": {
     "end_time": "2024-04-07T19:04:07.744544Z",
     "start_time": "2024-04-07T19:04:07.733510Z"
    }
   },
   "source": [
    "df['y'].value_counts()"
   ],
   "outputs": []
  },
  {
   "cell_type": "markdown",
   "metadata": {
    "id": "RvtC_JVD9LAd"
   },
   "source": [
    "### Худший и лучший банк"
   ]
  },
  {
   "cell_type": "code",
   "execution_count": 12,
   "metadata": {
    "id": "UbInFEBl9LAe",
    "ExecuteTime": {
     "end_time": "2024-04-07T19:04:12.350920Z",
     "start_time": "2024-04-07T19:04:12.337412Z"
    }
   },
   "source": [
    "stat = (\n",
    "    df[['bank_name',  'date', 'rating']]\n",
    "    .groupby('bank_name', as_index=False)\n",
    "    .agg({'date': 'count', 'rating': 'mean'})\n",
    "    .rename({'date': 'review_count', 'rating': 'mean_rating'}, axis=1)\n",
    ")"
   ],
   "outputs": []
  },
  {
   "cell_type": "code",
   "execution_count": 13,
   "metadata": {
    "colab": {
     "base_uri": "https://localhost:8080/",
     "height": 206
    },
    "id": "PNJGkzOy9LAe",
    "outputId": "4b8934bf-2d86-4a09-9b46-c726a79d8407",
    "ExecuteTime": {
     "end_time": "2024-04-07T19:04:14.790864Z",
     "start_time": "2024-04-07T19:04:14.775761Z"
    }
   },
   "source": [
    "(\n",
    "    stat[stat['review_count'] > 3_000]\n",
    "    .sort_values('mean_rating', ascending=False)\n",
    ")"
   ],
   "outputs": []
  },
  {
   "cell_type": "markdown",
   "metadata": {
    "id": "rNvowgEt9LAe"
   },
   "source": [
    "### Отличается ли длина у хороших и плохих отзывов?\n",
    "\n",
    "посчитайте длины хороших и плохих отзывов"
   ]
  },
  {
   "cell_type": "code",
   "execution_count": 14,
   "metadata": {
    "id": "g4EkxHsS9LAe",
    "ExecuteTime": {
     "end_time": "2024-04-07T19:04:21.717480Z",
     "start_time": "2024-04-07T19:04:21.699481Z"
    }
   },
   "source": [
    "body_len_0 = df.loc[df['y'] == 0, 'body'].str.len().values\n",
    "body_len_1 = df.loc[df['y'] == 1, 'body'].str.len().values"
   ],
   "outputs": []
  },
  {
   "cell_type": "markdown",
   "metadata": {
    "id": "Jpaez9rZ9LAe"
   },
   "source": [
    "постройте гистограммы для для хороших и плохих отзывов (ограничьте максимальную длину `max_body_length`)"
   ]
  },
  {
   "cell_type": "code",
   "execution_count": 15,
   "metadata": {
    "colab": {
     "base_uri": "https://localhost:8080/",
     "height": 265
    },
    "id": "ucLaLINA9LAf",
    "outputId": "0d5c90a2-dec4-4759-cc7b-a773a8ba1f00",
    "ExecuteTime": {
     "end_time": "2024-04-07T19:04:25.977145Z",
     "start_time": "2024-04-07T19:04:25.673471Z"
    }
   },
   "source": [
    "max_body_length = 5_000\n",
    "\n",
    "bins=100\n",
    "alpha=0.5\n",
    "\n",
    "plt.hist(body_len_0[body_len_0 <= max_body_length], alpha=alpha, bins=bins, label=r'$y = 0$')\n",
    "plt.hist(body_len_1[body_len_1 <= max_body_length], alpha=alpha, bins=bins, label=r'$y = 1$')\n",
    "plt.legend();"
   ],
   "outputs": []
  },
  {
   "cell_type": "markdown",
   "metadata": {
    "id": "tK1MvSxs9LAf"
   },
   "source": [
    "отличаются ли медианы распределений?"
   ]
  },
  {
   "cell_type": "code",
   "execution_count": 16,
   "metadata": {
    "colab": {
     "base_uri": "https://localhost:8080/"
    },
    "id": "Nv03nD9E9LAf",
    "outputId": "1af5722b-fab9-4753-fb46-89e69005e408",
    "ExecuteTime": {
     "end_time": "2024-04-07T19:04:30.479513Z",
     "start_time": "2024-04-07T19:04:30.461514Z"
    }
   },
   "source": [
    "np.median(body_len_0), np.median(body_len_1)"
   ],
   "outputs": []
  },
  {
   "cell_type": "markdown",
   "metadata": {
    "id": "d_G4HzNg9LAg"
   },
   "source": [
    "### Отличается ли распределение количества восклицательных знаков?"
   ]
  },
  {
   "cell_type": "code",
   "execution_count": 17,
   "metadata": {
    "id": "hRdissgr9LAg",
    "ExecuteTime": {
     "end_time": "2024-04-07T19:04:33.712493Z",
     "start_time": "2024-04-07T19:04:33.648131Z"
    }
   },
   "source": [
    "body_exclamation_0 = df[df.y == 0].body.str.count('!')\n",
    "body_exclamation_1 = df[df.y == 1].body.str.count('!')\n",
    "\n",
    "title_exclamation_0 = df[df.y == 0].title.str.count('!')\n",
    "title_exclamation_1 = df[df.y == 1].title.str.count('!')"
   ],
   "outputs": []
  },
  {
   "cell_type": "code",
   "execution_count": 18,
   "metadata": {
    "colab": {
     "base_uri": "https://localhost:8080/",
     "height": 513
    },
    "id": "oSFaYWfa9LAg",
    "outputId": "27c094ff-13fa-4f94-ec46-fe0e15f285b8",
    "ExecuteTime": {
     "end_time": "2024-04-07T19:04:34.313437Z",
     "start_time": "2024-04-07T19:04:34.140403Z"
    }
   },
   "source": [
    "max_symbols = 25\n",
    "title_max_symbols = 10\n",
    "\n",
    "plt.hist(\n",
    "    body_exclamation_1[body_exclamation_1 <= max_symbols],\n",
    "    label=r'$y = 1$', bins=max_symbols, alpha=alpha\n",
    ")\n",
    "plt.hist(\n",
    "    body_exclamation_0[body_exclamation_0 <= max_symbols],\n",
    "    label=r'$y = 0$', bins=max_symbols, alpha=alpha\n",
    ")\n",
    "plt.legend()\n",
    "plt.show()\n",
    "\n",
    "plt.hist(\n",
    "    title_exclamation_1[title_exclamation_1 <= title_max_symbols],\n",
    "    label=r'$y = 1$', bins=title_max_symbols, alpha=alpha\n",
    ")\n",
    "plt.hist(\n",
    "    title_exclamation_0[title_exclamation_0 <= title_max_symbols],\n",
    "    label=r'$y = 0$', bins=title_max_symbols, alpha=alpha\n",
    ")\n",
    "plt.legend()\n",
    "plt.show()"
   ],
   "outputs": []
  },
  {
   "cell_type": "code",
   "execution_count": 19,
   "metadata": {
    "colab": {
     "base_uri": "https://localhost:8080/"
    },
    "id": "C6apPg5D9LAg",
    "outputId": "7fc906c2-ac55-4ec8-abee-9b36a4a67897",
    "ExecuteTime": {
     "end_time": "2024-04-07T19:04:36.390904Z",
     "start_time": "2024-04-07T19:04:36.375906Z"
    }
   },
   "source": [
    "np.median(body_exclamation_0), np.median(body_exclamation_1)"
   ],
   "outputs": []
  },
  {
   "cell_type": "markdown",
   "metadata": {
    "id": "C5HJk3wj9LAh"
   },
   "source": [
    "# Бейзлайн модель классификации"
   ]
  },
  {
   "cell_type": "code",
   "execution_count": 20,
   "metadata": {
    "id": "7A2fAOK69LAh",
    "ExecuteTime": {
     "end_time": "2024-04-07T19:04:37.467994Z",
     "start_time": "2024-04-07T19:04:37.383487Z"
    }
   },
   "source": [
    "df['body_len'] = df.body.str.len()\n",
    "df['title_len'] = df.title.str.len()\n",
    "df['body_!'] = df.body.str.count('!')\n",
    "df['title_!'] = df.title.str.count('!')\n",
    "\n",
    "baseline_features = ['body_len', 'title_len', 'body_!', 'title_!']"
   ],
   "outputs": []
  },
  {
   "cell_type": "code",
   "execution_count": 21,
   "metadata": {
    "colab": {
     "base_uri": "https://localhost:8080/",
     "height": 337
    },
    "id": "L2qmxRdI9LAh",
    "outputId": "7372302a-bbd5-49e8-d75e-582974e38d28",
    "ExecuteTime": {
     "end_time": "2024-04-07T19:04:39.499485Z",
     "start_time": "2024-04-07T19:04:39.485483Z"
    }
   },
   "source": [
    "df.head()"
   ],
   "outputs": []
  },
  {
   "cell_type": "code",
   "execution_count": 22,
   "metadata": {
    "id": "DaUP9QaM9LAh",
    "ExecuteTime": {
     "end_time": "2024-04-07T19:04:41.770027Z",
     "start_time": "2024-04-07T19:04:41.743434Z"
    }
   },
   "source": [
    "df_train, df_test = train_test_split(df, test_size=0.2, random_state=SEED)\n",
    "df_train, df_val = train_test_split(df_train, test_size=0.2, random_state=SEED)"
   ],
   "outputs": []
  },
  {
   "cell_type": "code",
   "execution_count": 23,
   "metadata": {
    "id": "a_RIEFSU9LAh",
    "ExecuteTime": {
     "end_time": "2024-04-07T19:04:45.556692Z",
     "start_time": "2024-04-07T19:04:45.543690Z"
    }
   },
   "source": [
    "x_train = df_train[baseline_features].values\n",
    "y_train = df_train.y.values\n",
    "\n",
    "x_val = df_val[baseline_features].values\n",
    "y_val = df_val.y.values"
   ],
   "outputs": []
  },
  {
   "cell_type": "code",
   "execution_count": 24,
   "metadata": {
    "id": "Af-bab_69LAi",
    "ExecuteTime": {
     "end_time": "2024-04-07T19:04:46.080254Z",
     "start_time": "2024-04-07T19:04:46.049739Z"
    }
   },
   "source": [
    "baseline = Pipeline([\n",
    "    ('scaler', StandardScaler()),\n",
    "    ('clf', LogisticRegression(random_state=SEED, solver='lbfgs', class_weight='balanced'))\n",
    "]).fit(x_train, y_train)"
   ],
   "outputs": []
  },
  {
   "cell_type": "code",
   "execution_count": 25,
   "metadata": {
    "colab": {
     "base_uri": "https://localhost:8080/"
    },
    "id": "HEAobkbt9LAi",
    "outputId": "b194166a-b28a-4b1c-c246-44a105e30e37",
    "ExecuteTime": {
     "end_time": "2024-04-07T19:05:28.539506Z",
     "start_time": "2024-04-07T19:05:28.524507Z"
    }
   },
   "source": [
    "y_train_pred = baseline.predict(x_train)\n",
    "f1_score(y_train, y_train_pred)"
   ],
   "outputs": []
  },
  {
   "cell_type": "code",
   "execution_count": 26,
   "metadata": {
    "colab": {
     "base_uri": "https://localhost:8080/"
    },
    "id": "Dg-HLgH09LAi",
    "outputId": "48a4803b-1c75-40bc-a2e4-bab7ddac9326",
    "ExecuteTime": {
     "end_time": "2024-04-07T19:05:29.093602Z",
     "start_time": "2024-04-07T19:05:29.079599Z"
    }
   },
   "source": [
    "y_val_pred = baseline.predict(x_val)\n",
    "f1_score(y_val, y_val_pred)"
   ],
   "outputs": []
  },
  {
   "cell_type": "markdown",
   "metadata": {
    "id": "oyM4KQsG9LAi"
   },
   "source": [
    "оцените важность признаков. проинтерпретируйте полученный результат"
   ]
  },
  {
   "cell_type": "code",
   "execution_count": 27,
   "metadata": {
    "id": "CDJWnJHt9LAi",
    "ExecuteTime": {
     "end_time": "2024-04-07T19:05:30.823503Z",
     "start_time": "2024-04-07T19:05:30.820503Z"
    }
   },
   "source": [
    "baseline_clf = baseline.steps[1][1]"
   ],
   "outputs": []
  },
  {
   "cell_type": "code",
   "execution_count": 28,
   "metadata": {
    "ExecuteTime": {
     "end_time": "2021-04-14T09:49:58.593977Z",
     "start_time": "2021-04-14T09:49:58.590013Z"
    },
    "colab": {
     "base_uri": "https://localhost:8080/"
    },
    "id": "BWxCMeGS9LAi",
    "outputId": "4691a7a3-e7e7-4cc1-f70a-4d7d98fdb1b1"
   },
   "source": [
    "baseline_features"
   ],
   "outputs": []
  },
  {
   "cell_type": "code",
   "execution_count": 29,
   "metadata": {
    "ExecuteTime": {
     "end_time": "2021-04-14T09:49:58.600986Z",
     "start_time": "2021-04-14T09:49:58.596226Z"
    },
    "colab": {
     "base_uri": "https://localhost:8080/"
    },
    "id": "az4gazGx9LAj",
    "outputId": "0e3bde44-f9c4-4f47-bfd9-d2c3483a2a3a"
   },
   "source": [
    "baseline_clf.coef_"
   ],
   "outputs": []
  },
  {
   "cell_type": "code",
   "execution_count": 30,
   "metadata": {
    "ExecuteTime": {
     "end_time": "2021-04-14T09:49:58.607668Z",
     "start_time": "2021-04-14T09:49:58.603238Z"
    },
    "colab": {
     "base_uri": "https://localhost:8080/"
    },
    "id": "pKtfawxP9LAj",
    "outputId": "a8fd1737-8127-4fc5-8de6-c716b64b992b"
   },
   "source": [
    "baseline_clf.intercept_"
   ],
   "outputs": []
  },
  {
   "cell_type": "markdown",
   "metadata": {
    "id": "5Ji9zp3W9LAj"
   },
   "source": [
    "# Обработка текста"
   ]
  },
  {
   "cell_type": "markdown",
   "metadata": {
    "id": "MphqJcwE9LAj"
   },
   "source": [
    "## Модель на словах. CountVectorizer"
   ]
  },
  {
   "cell_type": "code",
   "execution_count": 28,
   "metadata": {
    "id": "zJUNNXUw9LAj",
    "ExecuteTime": {
     "end_time": "2024-04-07T19:05:47.491078Z",
     "start_time": "2024-04-07T19:05:47.481078Z"
    }
   },
   "source": [
    "stop_words = nltk.corpus.stopwords.words('russian')"
   ],
   "outputs": []
  },
  {
   "cell_type": "code",
   "execution_count": 29,
   "metadata": {
    "id": "V9VAoVeH9LAj",
    "ExecuteTime": {
     "end_time": "2024-04-07T19:05:47.915962Z",
     "start_time": "2024-04-07T19:05:47.900458Z"
    }
   },
   "source": [
    "count_model = Pipeline([\n",
    "    (\n",
    "        'vectorizer',\n",
    "        CountVectorizer(\n",
    "            lowercase=True, ngram_range=(1, 1), token_pattern=TOKEN_PATTERN,\n",
    "            stop_words=stop_words, min_df=3, max_df=0.8\n",
    "        )\n",
    "    ),\n",
    "    ('clf', SGDClassifier(random_state=SEED, loss='log', class_weight='balanced'))\n",
    "])"
   ],
   "outputs": []
  },
  {
   "cell_type": "code",
   "execution_count": 33,
   "metadata": {
    "id": "x3Ls3Xrm9LAj",
    "ExecuteTime": {
     "end_time": "2024-04-07T19:07:17.267873Z",
     "start_time": "2024-04-07T19:07:17.253366Z"
    }
   },
   "source": [
    "x_train = df_train['body'].values\n",
    "x_val = df_val['body'].values"
   ],
   "outputs": []
  },
  {
   "cell_type": "code",
   "execution_count": 34,
   "metadata": {
    "id": "-Az9cBfn9LAk",
    "ExecuteTime": {
     "end_time": "2024-04-07T19:07:19.590704Z",
     "start_time": "2024-04-07T19:07:17.677397Z"
    }
   },
   "source": [
    "count_model.fit(x_train, y_train)"
   ],
   "outputs": []
  },
  {
   "cell_type": "code",
   "execution_count": 35,
   "metadata": {
    "id": "Aa3hoPhL9LAk",
    "ExecuteTime": {
     "end_time": "2024-04-07T19:07:21.556746Z",
     "start_time": "2024-04-07T19:07:21.548740Z"
    }
   },
   "source": [
    "vectorizer = count_model.steps[0][1]"
   ],
   "outputs": []
  },
  {
   "cell_type": "code",
   "execution_count": 36,
   "metadata": {
    "id": "zeDRoIYs9LAk",
    "ExecuteTime": {
     "end_time": "2024-04-07T19:07:24.302346Z",
     "start_time": "2024-04-07T19:07:24.277346Z"
    }
   },
   "source": [
    "features = np.array(vectorizer.get_feature_names_out())\n",
    "\n",
    "len(features)"
   ],
   "outputs": []
  },
  {
   "cell_type": "code",
   "execution_count": 37,
   "metadata": {
    "id": "BkZQ-BIN9LAk",
    "ExecuteTime": {
     "end_time": "2024-04-07T19:07:24.808317Z",
     "start_time": "2024-04-07T19:07:24.798320Z"
    }
   },
   "source": [
    "count_features = vectorizer.transform(x_train[[0]]).toarray()[0]"
   ],
   "outputs": []
  },
  {
   "cell_type": "code",
   "execution_count": 38,
   "metadata": {
    "id": "BwHUdIZf9LAk",
    "scrolled": true,
    "ExecuteTime": {
     "end_time": "2024-04-07T19:07:25.314904Z",
     "start_time": "2024-04-07T19:07:25.307903Z"
    }
   },
   "source": [
    "pd.DataFrame({\n",
    "    'token': features[count_features > 0], \n",
    "    'count':count_features[count_features > 0]\n",
    "})"
   ],
   "outputs": []
  },
  {
   "cell_type": "code",
   "execution_count": 39,
   "metadata": {
    "id": "V_cFshcd9LAk",
    "ExecuteTime": {
     "end_time": "2024-04-07T19:07:28.004758Z",
     "start_time": "2024-04-07T19:07:26.439357Z"
    }
   },
   "source": [
    "f1_score(y_train, count_model.predict(x_train))"
   ],
   "outputs": []
  },
  {
   "cell_type": "code",
   "execution_count": 40,
   "metadata": {
    "id": "SwHMpkQE9LAl",
    "ExecuteTime": {
     "end_time": "2024-04-07T19:07:29.671725Z",
     "start_time": "2024-04-07T19:07:29.231621Z"
    }
   },
   "source": [
    "f1_score(y_val, count_model.predict(x_val))"
   ],
   "outputs": []
  },
  {
   "cell_type": "code",
   "source": [
    "x_train[0]"
   ],
   "metadata": {
    "collapsed": false,
    "ExecuteTime": {
     "end_time": "2024-04-07T19:08:25.451624Z",
     "start_time": "2024-04-07T19:08:25.435624Z"
    }
   },
   "execution_count": 45,
   "outputs": []
  },
  {
   "cell_type": "code",
   "execution_count": 41,
   "metadata": {
    "id": "xKKqe2Ob9LAl",
    "ExecuteTime": {
     "end_time": "2024-04-07T19:07:33.545835Z",
     "start_time": "2024-04-07T19:07:33.536837Z"
    }
   },
   "source": [
    "tree_model = Pipeline([\n",
    "    (\n",
    "        'vectorizer',\n",
    "        CountVectorizer(\n",
    "            lowercase=True, ngram_range=(1, 1), token_pattern=TOKEN_PATTERN,\n",
    "            stop_words=stop_words, min_df=3, max_df=0.8\n",
    "        )\n",
    "    ),\n",
    "    ('clf', DecisionTreeClassifier(random_state=SEED, criterion='entropy', max_depth=10))\n",
    "])"
   ],
   "outputs": []
  },
  {
   "cell_type": "markdown",
   "metadata": {
    "id": "YN0iAIdy9LAl"
   },
   "source": [
    "обучите деревянную модель. сравните качество на тренировочном и валидационном наборах"
   ]
  },
  {
   "cell_type": "code",
   "execution_count": 42,
   "metadata": {
    "ExecuteTime": {
     "end_time": "2021-04-14T09:50:15.984473Z",
     "start_time": "2021-04-14T09:50:08.006981Z"
    },
    "id": "I2O5z8fs9LAl"
   },
   "source": [
    "tree_model.fit(x_train, y_train)"
   ],
   "outputs": []
  },
  {
   "cell_type": "code",
   "execution_count": 43,
   "metadata": {
    "ExecuteTime": {
     "end_time": "2021-04-14T09:50:19.979550Z",
     "start_time": "2021-04-14T09:50:15.986339Z"
    },
    "id": "SZqZAwmo9LAl"
   },
   "source": [
    "f1_score(\n",
    "    y_train,\n",
    "    tree_model.predict(x_train)\n",
    ")"
   ],
   "outputs": []
  },
  {
   "cell_type": "code",
   "execution_count": 44,
   "metadata": {
    "ExecuteTime": {
     "end_time": "2021-04-14T09:50:21.136459Z",
     "start_time": "2021-04-14T09:50:19.981614Z"
    },
    "id": "1MwvyNb_9LAl"
   },
   "source": [
    "f1_score(\n",
    "    y_val,\n",
    "    tree_model.predict(x_val)\n",
    ")"
   ],
   "outputs": []
  },
  {
   "cell_type": "code",
   "execution_count": 45,
   "metadata": {
    "ExecuteTime": {
     "end_time": "2021-04-14T09:50:21.141445Z",
     "start_time": "2021-04-14T09:50:21.138806Z"
    },
    "id": "V75EiYED9LAl"
   },
   "source": [
    "clf = tree_model.steps[1][1]"
   ],
   "outputs": []
  },
  {
   "cell_type": "code",
   "execution_count": 46,
   "metadata": {
    "ExecuteTime": {
     "end_time": "2021-04-14T09:50:22.075229Z",
     "start_time": "2021-04-14T09:50:21.145520Z"
    },
    "id": "OFfXWxkS9LAm"
   },
   "source": [
    "plt.style.use('default')\n",
    "plt.figure(figsize=(28,12))\n",
    "plot_tree(\n",
    "    clf, max_depth=3, fontsize=14, filled=True, precision=0, label='root',\n",
    "    impurity=False, feature_names=tree_model.steps[0][1].get_feature_names_out()\n",
    ");"
   ],
   "outputs": []
  },
  {
   "cell_type": "code",
   "execution_count": 47,
   "metadata": {
    "ExecuteTime": {
     "end_time": "2021-04-14T09:50:22.081038Z",
     "start_time": "2021-04-14T09:50:22.077866Z"
    },
    "id": "gvhDcIaz9LAm"
   },
   "source": [
    "plt.style.use('ggplot')"
   ],
   "outputs": []
  },
  {
   "cell_type": "markdown",
   "metadata": {
    "id": "D9quXb-w9LAm"
   },
   "source": [
    "## Модель на n-gram'ах символов. TfidfVectorizer"
   ]
  },
  {
   "cell_type": "code",
   "execution_count": 48,
   "metadata": {
    "ExecuteTime": {
     "end_time": "2021-04-14T09:50:22.086630Z",
     "start_time": "2021-04-14T09:50:22.083072Z"
    },
    "id": "pn0AZa-d9LAm"
   },
   "source": [
    "def preprocessor(text):\n",
    "    whitespaced_text = re.sub(\"[^а-яё!:)(]\", ' ', text.lower())\n",
    "    return re.sub(' +', ' ',  whitespaced_text)"
   ],
   "outputs": []
  },
  {
   "cell_type": "code",
   "execution_count": 49,
   "metadata": {
    "ExecuteTime": {
     "end_time": "2021-04-14T09:50:22.095529Z",
     "start_time": "2021-04-14T09:50:22.088941Z"
    },
    "id": "TnO9u3UA9LAp"
   },
   "source": [
    "char_tfidf_model = Pipeline([\n",
    "    (\n",
    "        'vectorizer',\n",
    "        TfidfVectorizer(\n",
    "            lowercase=True, ngram_range=(2, 4), analyzer='char',\n",
    "            preprocessor=preprocessor, min_df=5, max_df=0.8\n",
    "        )\n",
    "    ),\n",
    "    ('clf', SGDClassifier(random_state=SEED, loss='log', class_weight='balanced'))\n",
    "])"
   ],
   "outputs": []
  },
  {
   "cell_type": "code",
   "execution_count": 50,
   "metadata": {
    "ExecuteTime": {
     "end_time": "2021-04-14T09:51:24.000810Z",
     "start_time": "2021-04-14T09:50:22.098036Z"
    },
    "id": "Y3MnN3vh9LAq"
   },
   "source": [
    "char_tfidf_model.fit(x_train, y_train)"
   ],
   "outputs": []
  },
  {
   "cell_type": "code",
   "execution_count": 51,
   "metadata": {
    "ExecuteTime": {
     "end_time": "2021-04-14T09:51:24.076720Z",
     "start_time": "2021-04-14T09:51:24.003599Z"
    },
    "id": "j-kqO6hn9LAq"
   },
   "source": [
    "len(char_tfidf_model.steps[0][1].get_feature_names_out())"
   ],
   "outputs": []
  },
  {
   "cell_type": "code",
   "execution_count": 52,
   "metadata": {
    "ExecuteTime": {
     "end_time": "2021-04-14T09:51:24.085628Z",
     "start_time": "2021-04-14T09:51:24.079009Z"
    },
    "id": "6HCcrbTX9LAq"
   },
   "source": [
    "weights = char_tfidf_model.steps[1][1].coef_[0]"
   ],
   "outputs": []
  },
  {
   "cell_type": "code",
   "execution_count": 53,
   "metadata": {
    "ExecuteTime": {
     "end_time": "2021-04-14T09:51:24.168292Z",
     "start_time": "2021-04-14T09:51:24.088468Z"
    },
    "id": "QIYROc7k9LAq"
   },
   "source": [
    "feature_names = np.array(\n",
    "    char_tfidf_model.steps[0][1].get_feature_names_out()\n",
    ")"
   ],
   "outputs": []
  },
  {
   "cell_type": "code",
   "execution_count": 54,
   "metadata": {
    "ExecuteTime": {
     "end_time": "2021-04-14T09:51:24.178655Z",
     "start_time": "2021-04-14T09:51:24.170353Z"
    },
    "id": "mI15-XkN9LAq"
   },
   "source": [
    "order = weights.argsort()"
   ],
   "outputs": []
  },
  {
   "cell_type": "code",
   "execution_count": 55,
   "metadata": {
    "ExecuteTime": {
     "end_time": "2021-04-14T09:51:24.187880Z",
     "start_time": "2021-04-14T09:51:24.180975Z"
    },
    "id": "EDRg1nVA9LAq"
   },
   "source": [
    "feature_names[order][-20:]"
   ],
   "outputs": []
  },
  {
   "cell_type": "code",
   "execution_count": 56,
   "metadata": {
    "ExecuteTime": {
     "end_time": "2021-04-14T09:52:40.667860Z",
     "start_time": "2021-04-14T09:51:24.190979Z"
    },
    "id": "G45PzSwo9LAq"
   },
   "source": [
    "f1_score(y_train, char_tfidf_model.predict(x_train))"
   ],
   "outputs": []
  },
  {
   "cell_type": "code",
   "execution_count": 57,
   "metadata": {
    "ExecuteTime": {
     "end_time": "2021-04-14T09:53:02.189911Z",
     "start_time": "2021-04-14T09:52:40.672648Z"
    },
    "id": "PZ3Uwncr9LAq"
   },
   "source": [
    "f1_score(y_val, char_tfidf_model.predict(x_val))"
   ],
   "outputs": []
  },
  {
   "cell_type": "markdown",
   "metadata": {
    "id": "p4eSeShA9LAr"
   },
   "source": [
    "## Подбор параметров с помощью кросс-валидации"
   ]
  },
  {
   "cell_type": "code",
   "execution_count": 58,
   "metadata": {
    "ExecuteTime": {
     "end_time": "2021-04-14T09:53:02.213214Z",
     "start_time": "2021-04-14T09:53:02.193438Z"
    },
    "id": "FVN-uNDM9LAr"
   },
   "source": [
    "parameters = {\n",
    "    'vectorizer__max_df': (0.5, 0.75),\n",
    "    'vectorizer__min_df': (3, 5, 7),\n",
    "    'clf__alpha': (0.0001, 0.001, 0.01),\n",
    "}"
   ],
   "outputs": []
  },
  {
   "cell_type": "code",
   "execution_count": 59,
   "metadata": {
    "ExecuteTime": {
     "end_time": "2021-04-14T09:53:02.233709Z",
     "start_time": "2021-04-14T09:53:02.219464Z"
    },
    "id": "rjjxnty19LAr"
   },
   "source": [
    "grid_search = GridSearchCV(count_model, parameters, cv=3, n_jobs=-1, scoring='f1', verbose=1)"
   ],
   "outputs": []
  },
  {
   "cell_type": "code",
   "execution_count": 60,
   "metadata": {
    "ExecuteTime": {
     "end_time": "2021-04-14T09:54:54.112666Z",
     "start_time": "2021-04-14T09:53:02.238243Z"
    },
    "id": "jdeGTqud9LAr"
   },
   "source": [
    "grid_search.fit(x_train, y_train)"
   ],
   "outputs": []
  },
  {
   "cell_type": "code",
   "execution_count": 61,
   "metadata": {
    "ExecuteTime": {
     "end_time": "2021-04-14T09:54:54.126044Z",
     "start_time": "2021-04-14T09:54:54.120479Z"
    },
    "id": "6u-yZNAT9LAr"
   },
   "source": [
    "best_parameters = grid_search.best_estimator_.get_params()"
   ],
   "outputs": []
  },
  {
   "cell_type": "code",
   "execution_count": 62,
   "metadata": {
    "ExecuteTime": {
     "end_time": "2021-04-14T09:54:54.137345Z",
     "start_time": "2021-04-14T09:54:54.129618Z"
    },
    "id": "GZjiaYha9LAr"
   },
   "source": [
    "for param_name in sorted(parameters.keys()):\n",
    "    print(\"\\t%s: %r\" % (param_name, best_parameters[param_name]))"
   ],
   "outputs": []
  },
  {
   "cell_type": "code",
   "execution_count": 63,
   "metadata": {
    "ExecuteTime": {
     "end_time": "2021-04-14T09:54:54.366562Z",
     "start_time": "2021-04-14T09:54:54.141028Z"
    },
    "id": "5LcpZZqk9LAr"
   },
   "source": [
    "mean_score = grid_search.cv_results_['mean_test_score']\n",
    "std_score = grid_search.cv_results_['std_test_score']\n",
    "x = np.arange(0, mean_score.size)\n",
    "\n",
    "plt.errorbar(x, mean_score, yerr=std_score);"
   ],
   "outputs": []
  },
  {
   "cell_type": "code",
   "execution_count": 64,
   "metadata": {
    "ExecuteTime": {
     "end_time": "2021-04-14T09:54:54.381908Z",
     "start_time": "2021-04-14T09:54:54.369523Z"
    },
    "id": "QVm6h-c29LAs"
   },
   "source": [
    "grid_search.cv_results_"
   ],
   "outputs": []
  },
  {
   "cell_type": "code",
   "execution_count": 65,
   "metadata": {
    "ExecuteTime": {
     "end_time": "2021-04-14T09:54:54.387929Z",
     "start_time": "2021-04-14T09:54:54.385323Z"
    },
    "id": "lgu7Vr4e9LAs"
   },
   "source": [
    "cv_tuned_pipeline = grid_search.best_estimator_"
   ],
   "outputs": []
  },
  {
   "cell_type": "code",
   "execution_count": 66,
   "metadata": {
    "ExecuteTime": {
     "end_time": "2021-04-14T09:54:58.439473Z",
     "start_time": "2021-04-14T09:54:54.390309Z"
    },
    "id": "KB-f8bwn9LAs"
   },
   "source": [
    "f1_score(\n",
    "    y_train,\n",
    "    cv_tuned_pipeline.predict(x_train)\n",
    ")"
   ],
   "outputs": []
  },
  {
   "cell_type": "code",
   "execution_count": 67,
   "metadata": {
    "ExecuteTime": {
     "end_time": "2021-04-14T09:54:59.595016Z",
     "start_time": "2021-04-14T09:54:58.441418Z"
    },
    "id": "iJUeBgJ59LAs"
   },
   "source": [
    "f1_score(\n",
    "    y_val,\n",
    "    cv_tuned_pipeline.predict(x_val)\n",
    ")"
   ],
   "outputs": []
  },
  {
   "cell_type": "markdown",
   "metadata": {
    "id": "BJNFKqHM9LAs"
   },
   "source": [
    "## Объединение признаков"
   ]
  },
  {
   "cell_type": "code",
   "execution_count": 68,
   "metadata": {
    "ExecuteTime": {
     "end_time": "2021-04-14T09:54:59.608168Z",
     "start_time": "2021-04-14T09:54:59.598178Z"
    },
    "id": "2qixQkws9LAs"
   },
   "source": [
    "pipeline = Pipeline([\n",
    "    (\n",
    "        'features', \n",
    "        ColumnTransformer([\n",
    "            (\n",
    "                'title', \n",
    "                TfidfVectorizer(\n",
    "                    lowercase=True, ngram_range=(1, 2), token_pattern=TOKEN_PATTERN,\n",
    "                    stop_words=stop_words, min_df=5, max_df=0.75\n",
    "                ), \n",
    "                'title'\n",
    "            ),\n",
    "            (\n",
    "                'body',\n",
    "                CountVectorizer(\n",
    "                    lowercase=True, ngram_range=(1, 1), token_pattern=TOKEN_PATTERN,\n",
    "                    stop_words=stop_words, min_df=3, max_df=0.75\n",
    "                ), \n",
    "                'body'\n",
    "            )\n",
    "        ])\n",
    "    ),\n",
    "    ('clf', SGDClassifier(random_state=SEED, alpha=0.01))\n",
    "])"
   ],
   "outputs": []
  },
  {
   "cell_type": "code",
   "execution_count": 69,
   "metadata": {
    "ExecuteTime": {
     "end_time": "2021-04-14T09:55:04.182966Z",
     "start_time": "2021-04-14T09:54:59.610731Z"
    },
    "id": "EuRQ3D3m9LAs"
   },
   "source": [
    "pipeline.fit(df_train, y_train)"
   ],
   "outputs": []
  },
  {
   "cell_type": "code",
   "execution_count": 70,
   "metadata": {
    "ExecuteTime": {
     "end_time": "2021-04-14T09:55:09.048104Z",
     "start_time": "2021-04-14T09:55:04.185068Z"
    },
    "id": "-2IMfL5z9LAs"
   },
   "source": [
    "f1_score(\n",
    "    y_train,\n",
    "    pipeline.predict(df_train)\n",
    ")"
   ],
   "outputs": []
  },
  {
   "cell_type": "code",
   "execution_count": 71,
   "metadata": {
    "ExecuteTime": {
     "end_time": "2021-04-14T09:55:10.146528Z",
     "start_time": "2021-04-14T09:55:09.054258Z"
    },
    "id": "_i1knTOQ9LAt"
   },
   "source": [
    "f1_score(\n",
    "    y_val,\n",
    "    pipeline.predict(df_val)\n",
    ")"
   ],
   "outputs": []
  },
  {
   "cell_type": "markdown",
   "metadata": {
    "id": "FkRQzcnm9LAt"
   },
   "source": [
    "получите признаки из векторизатора. посмотрите на добавленные биграммы"
   ]
  },
  {
   "cell_type": "code",
   "execution_count": 72,
   "metadata": {
    "ExecuteTime": {
     "end_time": "2021-04-14T09:55:10.156282Z",
     "start_time": "2021-04-14T09:55:10.149609Z"
    },
    "id": "IRyhvA6v9LAt"
   },
   "source": [
    "vectorizer = pipeline[\"features\"].named_transformers_[\"title\"]"
   ],
   "outputs": []
  },
  {
   "cell_type": "code",
   "execution_count": 73,
   "metadata": {
    "ExecuteTime": {
     "end_time": "2021-04-14T09:55:10.176543Z",
     "start_time": "2021-04-14T09:55:10.158706Z"
    },
    "id": "UM2gPdH19LAt"
   },
   "source": [
    "vectorizer.get_feature_names_out()"
   ],
   "outputs": []
  },
  {
   "cell_type": "markdown",
   "metadata": {
    "id": "Vqy-VO9P9LAt"
   },
   "source": [
    "## Визуализация отзывов"
   ]
  },
  {
   "cell_type": "markdown",
   "metadata": {
    "ExecuteTime": {
     "end_time": "2020-11-01T21:14:31.607959Z",
     "start_time": "2020-11-01T21:14:31.540967Z"
    },
    "id": "IehAXYGs9LAt"
   },
   "source": [
    "Мы обучали модель классификации с помощью бинарной кросс-энтропии (log_loss):\n",
    "$$\n",
    "L = - y \\log\\left(\\hat{y}\\right) - (1 - y) \\log\\left(1 - \\hat{y}\\right)\n",
    "$$\n",
    "\n",
    "первое слагаемое в функции потерь отвечает за ложно-положительные срабатывания, второе — за ложно-отрицательные\n",
    "\n",
    "посмотрим, на каких примерах полученная модель сильнее всего ошибается в одну и другую сторону"
   ]
  },
  {
   "cell_type": "code",
   "execution_count": 74,
   "metadata": {
    "ExecuteTime": {
     "end_time": "2021-04-14T09:55:11.223876Z",
     "start_time": "2021-04-14T09:55:10.181762Z"
    },
    "id": "sTv6omdh9LAt"
   },
   "source": [
    "y_val_proba = count_model.predict_proba(x_val)[:, 1]\n",
    "\n",
    "y_val_rating = df_val.reset_index().rating.values"
   ],
   "outputs": []
  },
  {
   "cell_type": "code",
   "execution_count": 75,
   "metadata": {
    "ExecuteTime": {
     "end_time": "2021-04-14T09:55:11.279674Z",
     "start_time": "2021-04-14T09:55:11.226124Z"
    },
    "id": "ULP6Co-l9LAu"
   },
   "source": [
    "def false_positive(y, y_proba, eps=1e-15):\n",
    "    if y:\n",
    "        return (-y) * np.log(y_proba + eps)\n",
    "    else:\n",
    "        return 0.0\n",
    "\n",
    "def false_negative(y, y_proba, eps=1e-15):\n",
    "    if y:\n",
    "        return 0.0\n",
    "    else:\n",
    "        return (y - 1) * np.log(1 - y_proba + eps)\n",
    "\n",
    "\n",
    "review_count = 5\n",
    "\n",
    "\n",
    "positive_error = np.array([false_positive(y, y_proba) for (y, y_proba) in zip(y_val, y_val_proba)])\n",
    "\n",
    "negative_error = np.array([false_negative(y, y_proba) for (y, y_proba) in zip(y_val, y_val_proba)])\n",
    "\n",
    "max_loss_ids = np.concatenate((\n",
    "    positive_error.argsort()[::-1][:review_count],\n",
    "    negative_error.argsort()[::-1][:review_count]\n",
    "))"
   ],
   "outputs": []
  },
  {
   "cell_type": "code",
   "execution_count": 76,
   "metadata": {
    "ExecuteTime": {
     "end_time": "2021-04-14T09:55:11.334296Z",
     "start_time": "2021-04-14T09:55:11.283374Z"
    },
    "id": "tTUQmeJD9LAu"
   },
   "source": [
    "vectorizer = count_model.steps[0][1]\n",
    "\n",
    "token2id = {token: i for i, token in enumerate(vectorizer.get_feature_names_out())}\n",
    "\n",
    "importance = count_model.steps[1][1].coef_[0]\n",
    "\n",
    "min_importance = importance.min()\n",
    "max_importance = importance.max()"
   ],
   "outputs": []
  },
  {
   "cell_type": "code",
   "execution_count": 77,
   "metadata": {
    "ExecuteTime": {
     "end_time": "2021-04-14T09:55:11.403249Z",
     "start_time": "2021-04-14T09:55:11.338947Z"
    },
    "id": "nR_tpdHj9LAu",
    "scrolled": false
   },
   "source": [
    "for i in max_loss_ids:\n",
    "    review_body = x_val[i]\n",
    "    \n",
    "    print(f'rating: {y_val_rating[i]}')\n",
    "    print(f'predicted proba: {y_val_proba[i]}')\n",
    "    \n",
    "    review_tokens = re.findall(TOKEN_PATTERN, review_body.lower())\n",
    "    \n",
    "    html_string = '''\n",
    "    <p style=\"font-size:16px; color:#000000; border: 2px solid #000; text-align: justify; background-color:#ffffff; border-radius: 25px; padding: 20px;\">\n",
    "    '''\n",
    "\n",
    "    for token in review_tokens:\n",
    "        if token in token2id:\n",
    "            weight = importance[token2id[token]]\n",
    "            if weight < 0:\n",
    "                component = hex(int(255 - 255 * weight / min_importance))[2:]\n",
    "                color = f'{component}{component}ff'\n",
    "            else:\n",
    "                component = hex(int(255 - 255 * weight / max_importance))[2:]\n",
    "                color = f'ff{component}{component}'\n",
    "        else:\n",
    "            weight = 0.0\n",
    "            color = 'ffffff'\n",
    "        html_string += f'<span style=\"background-color: #{color}\"; title=\"{weight:.2f}\">{token}</span> '\n",
    "\n",
    "    html_string += '</p>'\n",
    "\n",
    "    display(HTML(html_string))"
   ],
   "outputs": []
  },
  {
   "cell_type": "markdown",
   "metadata": {
    "id": "iNYeNi_09LAu"
   },
   "source": [
    "если присмотреться, то ошибки модели связаны с ошибками в разметке"
   ]
  },
  {
   "cell_type": "markdown",
   "metadata": {
    "ExecuteTime": {
     "end_time": "2020-11-01T20:52:06.817264Z",
     "start_time": "2020-11-01T20:52:06.810876Z"
    },
    "id": "Mi4eYw359LAu"
   },
   "source": [
    "# Проблемы анализа тональности\n",
    "\n",
    "это двойные отрицания и сарказм"
   ]
  },
  {
   "cell_type": "code",
   "execution_count": 78,
   "metadata": {
    "ExecuteTime": {
     "end_time": "2021-04-14T09:55:11.416372Z",
     "start_time": "2021-04-14T09:55:11.406714Z"
    },
    "id": "7zJuUteo9LAv"
   },
   "source": [
    "sentences = [\n",
    "    'ну да, блин, отношение к клиентам супер, спасибо вам...',\n",
    "    'такой клиентоориентированности я еще не видел, сказочные ...',\n",
    "    'выражаю огромную благодарность банку, третий раз пытаюсь оформить доставку карты, но воз и ныне там',\n",
    "    'я думал, что банк окажется хуже некуда, но обошлось',\n",
    "    'раньше ненавидел сбербанк, а теперь всем советую'\n",
    "]\n",
    "\n",
    "labels = [0, 0, 0, 1, 1]\n",
    "\n",
    "predictions = count_model.predict_proba(sentences)[:, 1]\n",
    "\n",
    "\n",
    "for sentence, label, prediction in zip(sentences, labels, predictions):\n",
    "    print(sentence)\n",
    "    print(f\"TRUE: {label} PREDICTED: {prediction:.2f}\\n\")\n",
    "    print(\"#\" * 100, end='\\n\\n')"
   ],
   "outputs": []
  },
  {
   "cell_type": "code",
   "execution_count": null,
   "metadata": {},
   "source": [],
   "outputs": []
  }
 ],
 "metadata": {
  "colab": {
   "name": "review_classification.ipynb",
   "provenance": []
  },
  "kernelspec": {
   "display_name": "Python 3 (ipykernel)",
   "language": "python",
   "name": "python3"
  },
  "language_info": {
   "codemirror_mode": {
    "name": "ipython",
    "version": 3
   },
   "file_extension": ".py",
   "mimetype": "text/x-python",
   "name": "python",
   "nbconvert_exporter": "python",
   "pygments_lexer": "ipython3",
   "version": "3.10.9"
  },
  "toc": {
   "base_numbering": 1,
   "nav_menu": {},
   "number_sections": true,
   "sideBar": true,
   "skip_h1_title": false,
   "title_cell": "Table of Contents",
   "title_sidebar": "Contents",
   "toc_cell": true,
   "toc_position": {},
   "toc_section_display": true,
   "toc_window_display": false
  }
 },
 "nbformat": 4,
 "nbformat_minor": 1
}
