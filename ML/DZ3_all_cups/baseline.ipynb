{
 "cells": [
  {
   "cell_type": "code",
   "execution_count": 148,
   "metadata": {
    "ExecuteTime": {
     "end_time": "2024-04-08T14:10:25.766607Z",
     "start_time": "2024-04-08T14:10:25.744098Z"
    }
   },
   "source": [
    "import numpy as np\n",
    "import pandas as pd"
   ],
   "outputs": []
  },
  {
   "cell_type": "code",
   "execution_count": 149,
   "metadata": {
    "ExecuteTime": {
     "end_time": "2024-04-08T14:10:26.446338Z",
     "start_time": "2024-04-08T14:10:26.195044Z"
    }
   },
   "source": [
    "train_df = pd.read_csv(\"train.csv\")\n",
    "\n",
    "train_df.head()"
   ],
   "outputs": []
  },
  {
   "cell_type": "code",
   "execution_count": 3,
   "metadata": {
    "ExecuteTime": {
     "end_time": "2024-04-08T08:41:23.679906Z",
     "start_time": "2024-04-08T08:41:23.398808Z"
    }
   },
   "source": [
    "test_df = pd.read_csv(\"test.csv\")\n",
    "\n",
    "test_df.head()"
   ],
   "outputs": []
  },
  {
   "cell_type": "code",
   "execution_count": 4,
   "metadata": {
    "ExecuteTime": {
     "end_time": "2024-04-08T08:41:24.134033Z",
     "start_time": "2024-04-08T08:41:23.680907Z"
    }
   },
   "source": [
    "from sklearn.metrics import f1_score"
   ],
   "outputs": []
  },
  {
   "cell_type": "code",
   "execution_count": 5,
   "metadata": {
    "ExecuteTime": {
     "end_time": "2024-04-08T08:41:24.150033Z",
     "start_time": "2024-04-08T08:41:24.134033Z"
    }
   },
   "source": [
    "X_train = train_df[\"title\"].values\n",
    "X_test = test_df[\"title\"].values\n",
    "y_train = train_df[\"label\"].values"
   ],
   "outputs": []
  },
  {
   "cell_type": "markdown",
   "metadata": {},
   "source": [
    "# Simple baseline"
   ]
  },
  {
   "cell_type": "code",
   "execution_count": 6,
   "metadata": {
    "ExecuteTime": {
     "end_time": "2024-04-08T08:41:24.182036Z",
     "start_time": "2024-04-08T08:41:24.151033Z"
    }
   },
   "source": [
    "y_pred = [int(\"порно\" in text) for text in X_train]"
   ],
   "outputs": []
  },
  {
   "cell_type": "code",
   "execution_count": 7,
   "metadata": {
    "ExecuteTime": {
     "end_time": "2024-04-08T08:41:24.229552Z",
     "start_time": "2024-04-08T08:41:24.183034Z"
    }
   },
   "source": [
    "f1_score(y_train, y_pred)"
   ],
   "outputs": []
  },
  {
   "cell_type": "markdown",
   "metadata": {},
   "source": [
    "### Submit"
   ]
  },
  {
   "cell_type": "code",
   "execution_count": 8,
   "metadata": {
    "ExecuteTime": {
     "end_time": "2024-04-08T08:41:24.355069Z",
     "start_time": "2024-04-08T08:41:24.229552Z"
    }
   },
   "source": [
    "test_df[\"label\"] = [int(\"порно\" in text) for text in X_test]\n",
    "\n",
    "test_df[[\"ID\", \"label\"]].to_csv(\"simple_baseline.csv\", index=False)\n",
    "\n",
    "#!cat simple_baseline.csv | head"
   ],
   "outputs": []
  },
  {
   "cell_type": "markdown",
   "metadata": {},
   "source": [
    "### Не все так однозначно\n",
    "\n",
    "**не порно**:\n",
    "- Болезни опорно-двигательной системы и импотенция: взаимосвязь\n",
    "- Транссексуальные рыбы - National Geographic Россия: красота мира в каждом кадре\n",
    "- Групповая обзорная экскурсия по Афинам - цена €50\n",
    "- Больного раком Задорнова затравили в соцсетях.\n",
    "- Гомосексуалисты на «Первом канале»? Эрнст и Галкин – скрытая гей-пара российского шоу-бизнеса | Заметки о стиле, моде и жизни\n",
    "\n",
    "**порно**:\n",
    "- Отборная домашка\n",
    "- Сюзанна - карьера горничной / Susanna cameriera perversa (с русским переводом) 1995 г., DVDRip"
   ]
  },
  {
   "cell_type": "markdown",
   "metadata": {},
   "source": [
    "# ML baseline"
   ]
  },
  {
   "cell_type": "code",
   "execution_count": 9,
   "metadata": {
    "ExecuteTime": {
     "end_time": "2024-04-08T08:41:24.371064Z",
     "start_time": "2024-04-08T08:41:24.356069Z"
    }
   },
   "source": [
    "from sklearn.feature_extraction.text import CountVectorizer\n",
    "from sklearn.naive_bayes import MultinomialNB\n",
    "\n",
    "vectorizer = CountVectorizer()\n",
    "\n",
    "model = MultinomialNB()"
   ],
   "outputs": []
  },
  {
   "cell_type": "code",
   "execution_count": 10,
   "metadata": {
    "ExecuteTime": {
     "end_time": "2024-04-08T08:41:24.386064Z",
     "start_time": "2024-04-08T08:41:24.371064Z"
    }
   },
   "source": [
    "X_train"
   ],
   "outputs": []
  },
  {
   "cell_type": "code",
   "execution_count": 11,
   "metadata": {
    "ExecuteTime": {
     "end_time": "2024-04-08T08:41:25.391357Z",
     "start_time": "2024-04-08T08:41:24.386064Z"
    }
   },
   "source": [
    "X_train_vectorized = vectorizer.fit_transform(X_train)"
   ],
   "outputs": []
  },
  {
   "cell_type": "code",
   "execution_count": 12,
   "metadata": {
    "ExecuteTime": {
     "end_time": "2024-04-08T08:41:25.406873Z",
     "start_time": "2024-04-08T08:41:25.393358Z"
    }
   },
   "source": [
    "X_train_vectorized[0].shape"
   ],
   "outputs": []
  },
  {
   "cell_type": "code",
   "execution_count": 13,
   "metadata": {
    "ExecuteTime": {
     "end_time": "2024-04-08T08:41:25.533533Z",
     "start_time": "2024-04-08T08:41:25.407873Z"
    }
   },
   "source": [
    "feature_names = np.array(vectorizer.get_feature_names_out())"
   ],
   "outputs": []
  },
  {
   "cell_type": "code",
   "execution_count": 14,
   "metadata": {
    "ExecuteTime": {
     "end_time": "2024-04-08T08:41:25.549533Z",
     "start_time": "2024-04-08T08:41:25.533533Z"
    }
   },
   "source": [
    "feature_names"
   ],
   "outputs": []
  },
  {
   "cell_type": "code",
   "execution_count": 15,
   "metadata": {
    "ExecuteTime": {
     "end_time": "2024-04-08T08:41:25.565533Z",
     "start_time": "2024-04-08T08:41:25.550533Z"
    }
   },
   "source": [
    "id_ = 42\n",
    "\n",
    "print(X_train[id_])\n",
    "\n",
    "x_vector = X_train_vectorized.getrow(id_).toarray()[0]\n",
    "\n",
    "[feature for feature in feature_names[x_vector > 0]]"
   ],
   "outputs": []
  },
  {
   "cell_type": "code",
   "source": [
    "feature_names[41]"
   ],
   "metadata": {
    "collapsed": false,
    "ExecuteTime": {
     "end_time": "2024-04-08T08:41:25.581537Z",
     "start_time": "2024-04-08T08:41:25.566535Z"
    }
   },
   "execution_count": 16,
   "outputs": []
  },
  {
   "cell_type": "code",
   "execution_count": 17,
   "metadata": {
    "ExecuteTime": {
     "end_time": "2024-04-08T08:41:25.613055Z",
     "start_time": "2024-04-08T08:41:25.582537Z"
    }
   },
   "source": [
    "%%time\n",
    "\n",
    "model.fit(\n",
    "    X_train_vectorized,\n",
    "    y_train\n",
    ")\n",
    "\n",
    "y_pred = model.predict(\n",
    "    X_train_vectorized\n",
    ")"
   ],
   "outputs": []
  },
  {
   "cell_type": "code",
   "execution_count": 18,
   "metadata": {
    "ExecuteTime": {
     "end_time": "2024-04-08T08:41:25.645051Z",
     "start_time": "2024-04-08T08:41:25.613055Z"
    }
   },
   "source": [
    "f1_score(y_train, y_pred)"
   ],
   "outputs": []
  },
  {
   "cell_type": "markdown",
   "source": [
    "### My ML"
   ],
   "metadata": {
    "collapsed": false
   }
  },
  {
   "cell_type": "code",
   "source": [
    "from sklearn.model_selection import train_test_split\n",
    "from sklearn.pipeline import Pipeline\n",
    "from sklearn.linear_model import SGDClassifier\n",
    "from matplotlib import pyplot as plt\n",
    "from wordcloud import WordCloud\n",
    "\n",
    "from my_librery import *"
   ],
   "metadata": {
    "collapsed": false,
    "ExecuteTime": {
     "end_time": "2024-04-08T08:41:26.120749Z",
     "start_time": "2024-04-08T08:41:25.646052Z"
    }
   },
   "execution_count": 19,
   "outputs": []
  },
  {
   "cell_type": "code",
   "source": [
    "SEED = 42\n",
    "TOKEN_PATTERN = \"[а-яё]+\"\n",
    "STOP_WORDS = nltk.corpus.stopwords.words('russian') + nltk.corpus.stopwords.words('english')"
   ],
   "metadata": {
    "collapsed": false,
    "ExecuteTime": {
     "end_time": "2024-04-08T10:26:04.927442Z",
     "start_time": "2024-04-08T10:26:04.921441Z"
    }
   },
   "execution_count": 133,
   "outputs": []
  },
  {
   "cell_type": "code",
   "source": [
    "STOP_WORDS"
   ],
   "metadata": {
    "collapsed": false,
    "ExecuteTime": {
     "end_time": "2024-04-08T10:26:05.385105Z",
     "start_time": "2024-04-08T10:26:05.365599Z"
    }
   },
   "execution_count": 134,
   "outputs": []
  },
  {
   "cell_type": "raw",
   "source": [
    "def fit_predict(model, X_train, Y_train, X_test=None, Y_test=None):\n",
    "    model.fit(X_train, Y_train)\n",
    "    if (X_test is not None and Y_test is not None):\n",
    "        return {\n",
    "            'train' : f1_score(Y_train, model.predict(X_train)),\n",
    "            'test' : f1_score(Y_test, model.predict(X_test))\n",
    "            }\n",
    "    return {'train' : f1_score(Y_train, model.predict(X_train))}"
   ],
   "metadata": {
    "collapsed": false
   }
  },
  {
   "cell_type": "code",
   "source": [
    "# Получение текстовой строки из списка слов\n",
    "def str_corpus(corpus):\n",
    "    str_corpus = ''\n",
    "    for i in corpus:\n",
    "        str_corpus += ' ' + i\n",
    "    str_corpus = str_corpus.strip()\n",
    "    return str_corpus\n",
    "# Получение списка всех слов в корпусе\n",
    "def get_corpus(data):\n",
    "    corpus = []\n",
    "    for phrase in data:\n",
    "        for word in phrase.split():\n",
    "            corpus.append(word)\n",
    "    return corpus\n",
    "# Получение облака слов\n",
    "def get_wordCloud(corpus):\n",
    "    wordCloud = WordCloud(background_color='white',\n",
    "                          stopwords=STOP_WORDS,\n",
    "                          width=3000,\n",
    "                          height=2500,\n",
    "                          max_words=200,\n",
    "                          random_state=42\n",
    "                          ).generate(str_corpus(corpus))\n",
    "    return wordCloud\n",
    "\n",
    "corpus = get_corpus(train_df['title'].values)\n",
    "procWordCloud = get_wordCloud(corpus)\n",
    "\n",
    "fig = plt.figure(figsize=(20, 8))\n",
    "plt.subplot(1, 2, 1)\n",
    "plt.imshow(procWordCloud)\n",
    "plt.axis('off')\n",
    "plt.subplot(1, 2, 1)"
   ],
   "metadata": {
    "collapsed": false,
    "ExecuteTime": {
     "end_time": "2024-04-08T08:03:55.709286Z",
     "start_time": "2024-04-08T08:03:26.694606Z"
    }
   },
   "execution_count": 25,
   "outputs": []
  },
  {
   "cell_type": "code",
   "source": [
    "def preprocess_data(dataX, dataY, func_list=None, title_list=None) -> dict:\n",
    "    X_train, X_test, Y_train, Y_test = train_test_split(dataX, dataY, test_size=0.2, random_state=SEED)\n",
    "    dictionary = {'default' : [X_train,Y_train, X_test, Y_test]}\n",
    "    \n",
    "    if func_list is not None:\n",
    "        assert (len(func_list) == len(title_list))\n",
    "        for i in range(len(func_list)):\n",
    "            dictionary[title_list[i]] = [func_list[i](X_train), Y_train, func_list[i](X_test), Y_test]\n",
    "            \n",
    "    return dictionary"
   ],
   "metadata": {
    "collapsed": false,
    "ExecuteTime": {
     "end_time": "2024-04-08T09:54:55.991978Z",
     "start_time": "2024-04-08T09:54:55.978981Z"
    }
   },
   "execution_count": 85,
   "outputs": []
  },
  {
   "cell_type": "code",
   "source": [
    "df_train, df_test = train_test_split(train_df, test_size=0.2, random_state=SEED)\n",
    "X_tr = df_train['title'].values\n",
    "Y_tr = df_train['label'].values\n",
    "\n",
    "X_ts = df_test['title'].values\n",
    "Y_ts = df_test['label'].values\n",
    "\n",
    "len(X_tr), len(Y_tr), len(X_ts), len(Y_ts),"
   ],
   "metadata": {
    "collapsed": false,
    "ExecuteTime": {
     "end_time": "2024-04-08T09:54:56.731024Z",
     "start_time": "2024-04-08T09:54:56.705026Z"
    }
   },
   "execution_count": 86,
   "outputs": []
  },
  {
   "cell_type": "code",
   "source": [
    "data_inpl = {'default': [X_tr, Y_tr, X_ts, Y_ts]}\n",
    "\n",
    "def preprocess_data_inplace(func_list=None, title_list=None) -> None:\n",
    "\n",
    "    if func_list is not None:\n",
    "        assert (len(func_list) == len(title_list))\n",
    "        for i in range(len(func_list)):\n",
    "            data_inpl[title_list[i]] = [func_list[i](X_tr), Y_tr, func_list[i](X_ts), Y_ts]\n"
   ],
   "metadata": {
    "collapsed": false,
    "ExecuteTime": {
     "end_time": "2024-04-08T09:54:57.568379Z",
     "start_time": "2024-04-08T09:54:57.557377Z"
    }
   },
   "execution_count": 87,
   "outputs": []
  },
  {
   "cell_type": "code",
   "source": [
    "# nltk.download('universal_tagset')\n",
    "# nltk.download('punkt')\n",
    "# nltk.download('averaged_perceptron_tagger_ru')"
   ],
   "metadata": {
    "collapsed": false,
    "ExecuteTime": {
     "end_time": "2024-04-08T08:41:47.099189Z",
     "start_time": "2024-04-08T08:41:46.893650Z"
    }
   },
   "execution_count": 27,
   "outputs": []
  },
  {
   "cell_type": "code",
   "source": [
    "test = \"Эта песня стала известна многим телезрителям благодаря сериалу Диверсант-2 Банши 4 сезон 2 серия Бремя красоты смотреть онлайн! Не Беси Меня Картинки В Новомосковске сыграют следж-хоккеисты алексинской «Звезды» и сборной Китая | Т... Салат: корейская морковь + копченая курица + кукуруза + сухарики, мой: калорийность, белки, жиры, углеводы Угловой пневмогайковерт FUBAG RWC 105 1/2\"\" 100320 в Екатеринбурге - купить, цены, отзывы, характеристики, фото, инструкция Табачный магазин `Мир Табака` | КУРИТЕЛЬНЫЕ ТРУБКИ | Stanwell | Курительная труб league of legends » Page 5 » Porn comics free online 08:00 (4766р), Одесса - Ростов-на-Дону 20 сентября 2019, Фаворит ЧП ОГЭ, Математика. Функции: Задача №77FB90 | Ответ-Готов мировая экономика в схемах и таблицах - 12 млн результатов. Поиск Mail.Ru кримпай,мать и сын » Страница 5 » смотреть порно мультики, порно комиксы, хентай, онлайн бесплатно Мария Шорох - Без права выбора. Академия (СИ) читать онлайн В Днепре нашли пропавшую 16-летнюю девушку (1) Мой Мир@Mail.Ru Слава Медяник — Стучат колёса Инженерный институт Казанского (Приволжского) федерального университета — Учёба.ру каковы основные черты размещения отраслей топливной промышленности на территорий россии - 2 млн результатов. Поиск Mail.Ru Мужик поставил блондинку раком и отодрал ее тугое очко | порно видео на 24eropixel.net Портер Джейн - Под звездным дождем, скачать бесплатно книгу в формате fb2, doc, rtf, html, txt Порно которое ты искал / Видео - Spaces.ru / Spcs.me Услуга Городской номер - как подключить - Мобильный Билайн - Ульяновск Murodbek Qilichev - Bilmiram » Xorazm.Net погода в сочи в сентябре - 33 тыс. результатов. Поиск Mail.Ru GISMETEO: погода у Гостомелі на 10 днів — прогноз погоди на 10 днів, Ірпінь, Київська область, Україна Службы поддержки Моя учетная запись - Нальчик кожа,волосы,ногти - результаты поиска Форма наряда-допуска на производство работ в местах действия опасных или вредных факторов | СНиП 12-03-2001 Безопасность труда в строительстве Часть первая The Retuses - Ласточка, аккорды, текст, mp3, видео Школьная форма \"\"Солнце\"\" Мод-2 черного цвета, цена 79 руб., купить в Гомеле — Deal.by (ID#103835173) Диалог Купить Встраив. газовая панель Hotpoint-Ariston 641 TQG /HA(BK) в каталоге интернет магазина М.Видео по выгодной цене с доставкой, отзывы, фотографии - Вел AUTO3N Форма для леденцов и шоколада КУРОЧКА РЯБА купить Какой будет погода в ноябре - новости Казахстана | Tengrinews Видео DIO- Don't talk to strangers, ♥•*`✿⊱╮IRINA GERN╭⊰✿`*•♥ — Видео@Mail.Ru 5.11 Tactical Job Shirt 1/4 Zip XXL, fire navy | Lamnia OHM CS-18 Отзыв о Домкрат подкатной гидравлический Ombra ОНТ203 | Удобный но тяжелый домкрат. Лесбийский секс с кунилингусом двух стройных студенток: высококачественное порно видео (с участием Эмили Блум) Презентация на тему \"\"Приближенное значение. Абсолютная и относительная погрешнос Горбачев 29 октября намерен участвовать в заседании по иску Жириновского - Политика - ТАСС Москва - Марокко на 5 ночей - 79 497 руб Гоша Матарадзе - Два Сердца (Dj Movskii & Dj Karasev Remix) - слушать бесплатно онлайн\"\n"
   ],
   "metadata": {
    "collapsed": false,
    "ExecuteTime": {
     "end_time": "2024-04-08T08:46:10.649223Z",
     "start_time": "2024-04-08T08:46:10.643223Z"
    }
   },
   "execution_count": 33,
   "outputs": []
  },
  {
   "cell_type": "code",
   "source": [
    "clean_text(test)"
   ],
   "metadata": {
    "collapsed": false,
    "ExecuteTime": {
     "end_time": "2024-04-08T08:46:15.514087Z",
     "start_time": "2024-04-08T08:46:15.495090Z"
    }
   },
   "execution_count": 34,
   "outputs": []
  },
  {
   "cell_type": "code",
   "source": [
    "from tqdm import tqdm_notebook\n",
    "import pymorphy3\n",
    "\n",
    "lemmatizer_cache = {}\n",
    "lemmatizer = pymorphy3.MorphAnalyzer()\n",
    "def lemmatize(token):\n",
    "    if lemmatizer.word_is_known(token):\n",
    "        if token not in lemmatizer_cache:\n",
    "            lemmatizer_cache[token] = lemmatizer.parse(token)[0].normal_form\n",
    "        return lemmatizer_cache[token]\n",
    "    return token\n",
    "def lem_list(X):\n",
    "    lemmatized_docs = [[lemmatize(token) for token in text] for text in tqdm_notebook(X)]\n",
    "    cleared_docs = [[token for token in text if token not in STOP_WORDS] for text in lemmatized_docs]\n",
    "    cleared_docs = [''.join(x) for x in cleared_docs]\n",
    "    return cleared_docs\n"
   ],
   "metadata": {
    "collapsed": false,
    "ExecuteTime": {
     "end_time": "2024-04-08T08:54:24.484356Z",
     "start_time": "2024-04-08T08:54:24.364737Z"
    }
   },
   "execution_count": 40,
   "outputs": []
  },
  {
   "cell_type": "code",
   "source": [
    "def lem_after_clean(X):\n",
    "    X = clean_data_list(X)\n",
    "    X = lem_list(X)\n",
    "    return X"
   ],
   "metadata": {
    "collapsed": false,
    "ExecuteTime": {
     "end_time": "2024-04-08T08:54:24.934195Z",
     "start_time": "2024-04-08T08:54:24.916193Z"
    }
   },
   "execution_count": 41,
   "outputs": []
  },
  {
   "cell_type": "raw",
   "source": [
    "data = preprocess_data(train_df['title'].values, train_df['label'].values, [preprocess_news, clean_data_list, lem_list, lem_after_clean], ['just_lemm', 'clean_data_list', 'lem_list', 'lem_after_clean'])"
   ],
   "metadata": {
    "collapsed": false
   }
  },
  {
   "cell_type": "code",
   "source": [
    "count_model = Pipeline([\n",
    "    (\n",
    "        'vectorizer',\n",
    "        CountVectorizer(\n",
    "            lowercase=True, ngram_range=(1, 1), token_pattern=TOKEN_PATTERN,\n",
    "            stop_words=STOP_WORDS, min_df=3, max_df=0.8\n",
    "        )\n",
    "    ),\n",
    "    ('clf', SGDClassifier(random_state=SEED, loss='log_loss', class_weight='balanced'))\n",
    "])"
   ],
   "metadata": {
    "collapsed": false,
    "ExecuteTime": {
     "end_time": "2024-04-08T10:28:49.384201Z",
     "start_time": "2024-04-08T10:28:49.365695Z"
    }
   },
   "execution_count": 137,
   "outputs": []
  },
  {
   "cell_type": "code",
   "source": [
    "import pickle\n",
    "\n",
    "with open('data_inpl.pickle', 'wb') as file:\n",
    "    pickle.dump(data_inpl, file)\n",
    "\n",
    "\n"
   ],
   "metadata": {
    "collapsed": false,
    "ExecuteTime": {
     "end_time": "2024-04-08T10:44:20.739908Z",
     "start_time": "2024-04-08T10:44:20.514335Z"
    }
   },
   "execution_count": 139,
   "outputs": []
  },
  {
   "cell_type": "code",
   "source": [
    "with open('data_inpl.pickle', 'rb') as file:\n",
    "    loaded_dict = pickle.load(file)"
   ],
   "metadata": {
    "collapsed": false,
    "ExecuteTime": {
     "end_time": "2024-04-08T10:44:56.232651Z",
     "start_time": "2024-04-08T10:44:56.048616Z"
    }
   },
   "execution_count": 140,
   "outputs": []
  },
  {
   "cell_type": "code",
   "source": [
    "loaded_dict.keys()"
   ],
   "metadata": {
    "collapsed": false,
    "ExecuteTime": {
     "end_time": "2024-04-08T10:45:08.933641Z",
     "start_time": "2024-04-08T10:45:08.923641Z"
    }
   },
   "execution_count": 142,
   "outputs": []
  },
  {
   "cell_type": "code",
   "source": [
    "fit_predict(count_model, *data_inpl['clean_data_list'])"
   ],
   "metadata": {
    "collapsed": false,
    "ExecuteTime": {
     "end_time": "2024-04-08T10:28:50.980904Z",
     "start_time": "2024-04-08T10:28:49.764744Z"
    }
   },
   "execution_count": 138,
   "outputs": []
  },
  {
   "cell_type": "code",
   "source": [
    "vect_model = Pipeline([\n",
    "    (\n",
    "        'vectorizer',\n",
    "        CountVectorizer(\n",
    "            lowercase=True, ngram_range=(1, 1), token_pattern=TOKEN_PATTERN,\n",
    "            stop_words=STOP_WORDS, min_df=3, max_df=0.8\n",
    "        )\n",
    "    ),\n",
    "    ('clf', SGDClassifier(class_weight='balanced'))\n",
    "])"
   ],
   "metadata": {
    "collapsed": false,
    "ExecuteTime": {
     "end_time": "2024-04-07T20:01:59.338033Z",
     "start_time": "2024-04-07T20:01:59.328034Z"
    }
   },
   "execution_count": 102,
   "outputs": []
  },
  {
   "cell_type": "code",
   "source": [
    "import re\n",
    "from sklearn.feature_extraction.text import TfidfVectorizer\n",
    "\n",
    "\n",
    "def preprocessor(text):\n",
    "    whitespaced_text = re.sub(\"[^а-яё!:)(]\", ' ', text.lower())\n",
    "    return re.sub(' +', ' ',  whitespaced_text)\n",
    "\n",
    "\n",
    "tfdf_model = Pipeline([\n",
    "    ('vectorizer', TfidfVectorizer(\n",
    "                    lowercase=True, ngram_range=(2, 4), analyzer='char',\n",
    "                    preprocessor=preprocessor, min_df=5, max_df=0.8)),\n",
    "    ('clf', SGDClassifier(class_weight='balanced'))\n",
    "])"
   ],
   "metadata": {
    "collapsed": false,
    "ExecuteTime": {
     "end_time": "2024-04-08T09:37:25.570790Z",
     "start_time": "2024-04-08T09:37:25.567509Z"
    }
   },
   "execution_count": 59,
   "outputs": []
  },
  {
   "cell_type": "code",
   "source": [
    "from sklearn.ensemble import RandomForestClassifier\n",
    "\n",
    "forest_model = Pipeline([\n",
    "    ('vectorizer', TfidfVectorizer(\n",
    "        lowercase=True, ngram_range=(2, 4), analyzer='char',\n",
    "        preprocessor=preprocessor, min_df=5, max_df=0.8)),\n",
    "    ('clf', RandomForestClassifier())\n",
    "])"
   ],
   "metadata": {
    "collapsed": false,
    "ExecuteTime": {
     "end_time": "2024-04-08T10:07:00.634683Z",
     "start_time": "2024-04-08T10:07:00.618687Z"
    }
   },
   "execution_count": 114,
   "outputs": []
  },
  {
   "cell_type": "code",
   "source": [
    "miltinom_model = Pipeline([\n",
    "    ('vectorizer', TfidfVectorizer(lowercase=True, ngram_range=(0, 3), min_df=5, max_df=0.8, binary=True)),\n",
    "    ('clf', MultinomialNB())\n",
    "])"
   ],
   "metadata": {
    "collapsed": false,
    "ExecuteTime": {
     "end_time": "2024-04-08T10:11:20.337219Z",
     "start_time": "2024-04-08T10:11:20.265219Z"
    }
   },
   "execution_count": 126,
   "outputs": []
  },
  {
   "cell_type": "code",
   "source": [
    "from textblob import TextBlob\n",
    "\n",
    "# Пример лемматизации\n",
    "blob = TextBlob(\"Яблоки были очень вкусные\")\n",
    "lemmatized_words = [word.lemmatize(\"ru\") for word in blob.words]\n",
    "print(lemmatized_words)"
   ],
   "metadata": {
    "collapsed": false,
    "ExecuteTime": {
     "end_time": "2024-04-08T11:33:08.981320Z",
     "start_time": "2024-04-08T11:33:08.932772Z"
    }
   },
   "execution_count": 147,
   "outputs": []
  },
  {
   "cell_type": "code",
   "source": [
    "BEST_MODEL = miltinom_model"
   ],
   "metadata": {
    "collapsed": false
   },
   "execution_count": null,
   "outputs": []
  },
  {
   "cell_type": "code",
   "source": [
    "results = BEST_MODEL.predict(X_test)\n",
    "test_df[\"label\"] = results\n",
    "\n",
    "test_df[[\"ID\", \"label\"]].to_csv(\"Current_best.csv\", index=False)"
   ],
   "metadata": {
    "collapsed": false,
    "ExecuteTime": {
     "end_time": "2024-04-07T20:51:37.607381Z",
     "start_time": "2024-04-07T20:51:36.452755Z"
    }
   },
   "execution_count": 161,
   "outputs": []
  },
  {
   "cell_type": "markdown",
   "metadata": {},
   "source": [
    "### Submit"
   ]
  },
  {
   "cell_type": "code",
   "execution_count": 24,
   "metadata": {
    "ExecuteTime": {
     "end_time": "2024-04-07T17:57:50.267569Z",
     "start_time": "2024-04-07T17:57:49.252192Z"
    }
   },
   "source": [
    "X_test_vectorized = vectorizer.transform(X_test)\n",
    "\n",
    "test_df[\"label\"] = model.predict(X_test_vectorized)\n",
    "\n",
    "test_df[[\"ID\", \"label\"]].to_csv(\"ml_baseline.csv\", index=False)\n",
    "\n",
    "# !cat ml_baseline.csv | head"
   ],
   "outputs": []
  },
  {
   "cell_type": "code",
   "execution_count": 146,
   "metadata": {
    "ExecuteTime": {
     "end_time": "2024-04-08T11:32:53.265523Z",
     "start_time": "2024-04-08T11:32:53.005730Z"
    }
   },
   "source": [
    "import spacy\n",
    "\n",
    "# Загрузка русской модели spaCy\n",
    "nlp = spacy.load(\"ru_core_news_sm\")\n",
    "\n",
    "# Пример лемматизации\n",
    "doc = nlp(\"Яблоки были очень вкусные\")\n",
    "for token in doc:\n",
    "    print(token.text, token.lemma_)"
   ],
   "outputs": []
  },
  {
   "cell_type": "code",
   "source": [],
   "metadata": {
    "collapsed": false
   },
   "execution_count": null,
   "outputs": []
  }
 ],
 "metadata": {
  "kernelspec": {
   "display_name": "Python 3 (ipykernel)",
   "language": "python",
   "name": "python3"
  },
  "language_info": {
   "codemirror_mode": {
    "name": "ipython",
    "version": 3
   },
   "file_extension": ".py",
   "mimetype": "text/x-python",
   "name": "python",
   "nbconvert_exporter": "python",
   "pygments_lexer": "ipython3",
   "version": "3.10.9"
  }
 },
 "nbformat": 4,
 "nbformat_minor": 2
}
