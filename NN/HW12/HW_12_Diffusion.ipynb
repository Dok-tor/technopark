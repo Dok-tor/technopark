{
 "cells": [
  {
   "cell_type": "markdown",
   "id": "98dad417",
   "metadata": {
    "id": "98dad417"
   },
   "source": [
    "# Практическое задание по занятию Denosing Diffusional Models"
   ]
  },
  {
   "cell_type": "markdown",
   "id": "6cd938c6",
   "metadata": {
    "id": "6cd938c6"
   },
   "source": "ФИО:"
  },
  {
   "cell_type": "markdown",
   "id": "ece9576c",
   "metadata": {
    "id": "ece9576c"
   },
   "source": [
    "## Задание\n",
    "\n",
    "0) Скачайте репозиторий git clone https://github.com/awjuliani/pytorch-diffusion.git\n",
    "\n",
    "1) Обучите модель для датасета Fasion MNIST. Продемонстрируйте обратный диффузионный процесс с нескольких random seeds (1 балл)\n",
    "\n",
    "2) Добавьте к обучению DDPM условие на метку с помощью Classifier Free Guidance https://arxiv.org/abs/2207.12598. (2 балла)\n",
    "\n",
    "3) Обучите модель в режиме inpainting. Параграф 4.1 в https://arxiv.org/pdf/2201.09865.pdf . (1 балл)\n"
   ]
  },
  {
   "metadata": {},
   "cell_type": "markdown",
   "source": "### Перепишем реализацию модели из репозитория",
   "id": "5e9e0f5fec1e2229"
  },
  {
   "metadata": {
    "ExecuteTime": {
     "end_time": "2024-12-19T12:41:15.511749Z",
     "start_time": "2024-12-19T12:41:09.865315Z"
    }
   },
   "cell_type": "code",
   "source": [
    "import torch.nn as nn\n",
    "import torch.nn.functional as F\n",
    "from torch.utils.data import Dataset\n",
    "from torchvision.datasets import MNIST, FashionMNIST, CIFAR10\n",
    "from torchvision import transforms\n",
    "import math\n",
    "import torch\n",
    "import pytorch_lightning as pl\n",
    "from torch.utils.data import DataLoader"
   ],
   "id": "85f00e2369d23571",
   "outputs": [],
   "execution_count": 1
  },
  {
   "metadata": {
    "ExecuteTime": {
     "end_time": "2024-12-19T12:41:16.086757Z",
     "start_time": "2024-12-19T12:41:16.079875Z"
    }
   },
   "cell_type": "code",
   "source": [
    "class SelfAttention(nn.Module):\n",
    "    def __init__(self, h_size):\n",
    "        super(SelfAttention, self).__init__()\n",
    "        self.h_size = h_size\n",
    "        self.mha = nn.MultiheadAttention(h_size, 4, batch_first=True)\n",
    "        self.ln = nn.LayerNorm([h_size])\n",
    "        self.ff_self = nn.Sequential(\n",
    "            nn.LayerNorm([h_size]),\n",
    "            nn.Linear(h_size, h_size),\n",
    "            nn.GELU(),\n",
    "            nn.Linear(h_size, h_size),\n",
    "        )\n",
    "\n",
    "    def forward(self, x):\n",
    "        x_ln = self.ln(x)\n",
    "        attention_value, _ = self.mha(x_ln, x_ln, x_ln)\n",
    "        attention_value = attention_value + x\n",
    "        attention_value = self.ff_self(attention_value) + attention_value\n",
    "        return attention_value\n",
    "\n",
    "\n",
    "class SAWrapper(nn.Module):\n",
    "    def __init__(self, h_size, num_s):\n",
    "        super(SAWrapper, self).__init__()\n",
    "        self.sa = nn.Sequential(*[SelfAttention(h_size) for _ in range(1)])\n",
    "        self.num_s = num_s\n",
    "        self.h_size = h_size\n",
    "\n",
    "    def forward(self, x):\n",
    "        x = x.view(-1, self.h_size, self.num_s * self.num_s).swapaxes(1, 2)\n",
    "        x = self.sa(x)\n",
    "        x = x.swapaxes(2, 1).view(-1, self.h_size, self.num_s, self.num_s)\n",
    "        return x\n",
    "\n",
    "\n",
    "# U-Net code adapted from: https://github.com/milesial/Pytorch-UNet\n",
    "\n",
    "\n",
    "class DoubleConv(nn.Module):\n",
    "    def __init__(self, in_channels, out_channels, mid_channels=None, residual=False):\n",
    "        super().__init__()\n",
    "        self.residual = residual\n",
    "        if not mid_channels:\n",
    "            mid_channels = out_channels\n",
    "        self.double_conv = nn.Sequential(\n",
    "            nn.Conv2d(in_channels, mid_channels, kernel_size=3, padding=1, bias=False),\n",
    "            nn.GroupNorm(1, mid_channels),\n",
    "            nn.GELU(),\n",
    "            nn.Conv2d(mid_channels, out_channels, kernel_size=3, padding=1, bias=False),\n",
    "            nn.GroupNorm(1, out_channels),\n",
    "        )\n",
    "\n",
    "    def forward(self, x):\n",
    "        if self.residual:\n",
    "            return F.gelu(x + self.double_conv(x))\n",
    "        else:\n",
    "            return self.double_conv(x)\n",
    "\n",
    "\n",
    "class Down(nn.Module):\n",
    "    def __init__(self, in_channels, out_channels):\n",
    "        super().__init__()\n",
    "        self.maxpool_conv = nn.Sequential(\n",
    "            nn.MaxPool2d(2),\n",
    "            DoubleConv(in_channels, in_channels, residual=True),\n",
    "            DoubleConv(in_channels, out_channels),\n",
    "        )\n",
    "\n",
    "    def forward(self, x):\n",
    "        return self.maxpool_conv(x)\n",
    "\n",
    "\n",
    "class Up(nn.Module):\n",
    "    def __init__(self, in_channels, out_channels, bilinear=True):\n",
    "        super().__init__()\n",
    "\n",
    "        # if bilinear, use the normal convolutions to reduce the number of channels\n",
    "        if bilinear:\n",
    "            self.up = nn.Upsample(scale_factor=2, mode=\"bilinear\", align_corners=True)\n",
    "            self.conv = DoubleConv(in_channels, in_channels, residual=True)\n",
    "            self.conv2 = DoubleConv(in_channels, out_channels, in_channels // 2)\n",
    "        else:\n",
    "            self.up = nn.ConvTranspose2d(\n",
    "                in_channels, in_channels // 2, kernel_size=2, stride=2\n",
    "            )\n",
    "            self.conv = DoubleConv(in_channels, out_channels)\n",
    "\n",
    "    def forward(self, x1, x2):\n",
    "        x1 = self.up(x1)\n",
    "        # input is CHW\n",
    "        diffY = x2.size()[2] - x1.size()[2]\n",
    "        diffX = x2.size()[3] - x1.size()[3]\n",
    "\n",
    "        x1 = F.pad(x1, [diffX // 2, diffX - diffX // 2, diffY // 2, diffY - diffY // 2])\n",
    "        x = torch.cat([x2, x1], dim=1)\n",
    "        x = self.conv(x)\n",
    "        x = self.conv2(x)\n",
    "        return x\n",
    "\n",
    "\n",
    "class OutConv(nn.Module):\n",
    "    def __init__(self, in_channels, out_channels):\n",
    "        super(OutConv, self).__init__()\n",
    "        self.conv = nn.Conv2d(in_channels, out_channels, kernel_size=1)\n",
    "\n",
    "    def forward(self, x):\n",
    "        return self.conv(x)\n"
   ],
   "id": "20ae059e69e92866",
   "outputs": [],
   "execution_count": 2
  },
  {
   "metadata": {
    "ExecuteTime": {
     "end_time": "2024-12-19T12:41:16.763113Z",
     "start_time": "2024-12-19T12:41:16.759706Z"
    }
   },
   "cell_type": "code",
   "source": [
    "class DiffSet(Dataset):\n",
    "    def __init__(self, train, dataset=\"MNIST\"):\n",
    "        transform = transforms.Compose([transforms.ToTensor()])\n",
    "\n",
    "        datasets = {\n",
    "            \"MNIST\": MNIST,\n",
    "            \"Fashion\": FashionMNIST,\n",
    "            \"CIFAR\": CIFAR10,\n",
    "        }\n",
    "\n",
    "        train_dataset = datasets[dataset](\n",
    "            \"./data\", download=True, train=train, transform=transform\n",
    "        )\n",
    "\n",
    "        self.dataset_len = len(train_dataset.data)\n",
    "\n",
    "        if dataset == \"MNIST\" or dataset == \"Fashion\":\n",
    "            pad = transforms.Pad(2)\n",
    "            data = pad(train_dataset.data)\n",
    "            data = data.unsqueeze(3)\n",
    "            self.depth = 1\n",
    "            self.size = 32\n",
    "        elif dataset == \"CIFAR\":\n",
    "            data = torch.Tensor(train_dataset.data)\n",
    "            self.depth = 3\n",
    "            self.size = 32\n",
    "        self.input_seq = ((data / 255.0) * 2.0) - 1.0\n",
    "        self.input_seq = self.input_seq.moveaxis(3, 1)\n",
    "\n",
    "    def __len__(self):\n",
    "        return self.dataset_len\n",
    "\n",
    "    def __getitem__(self, item):\n",
    "        return self.input_seq[item]\n"
   ],
   "id": "aed021b37d6f88d2",
   "outputs": [],
   "execution_count": 3
  },
  {
   "metadata": {
    "ExecuteTime": {
     "end_time": "2024-12-19T12:41:17.101045Z",
     "start_time": "2024-12-19T12:41:17.094027Z"
    }
   },
   "cell_type": "code",
   "source": [
    "class DiffusionModel(pl.LightningModule):\n",
    "    def __init__(self, in_size, t_range, img_depth):\n",
    "        super().__init__()\n",
    "        self.beta_small = 1e-4\n",
    "        self.beta_large = 0.02\n",
    "        self.t_range = t_range\n",
    "        self.in_size = in_size\n",
    "\n",
    "        bilinear = True\n",
    "        self.inc = DoubleConv(img_depth, 64)\n",
    "        self.down1 = Down(64, 128)\n",
    "        self.down2 = Down(128, 256)\n",
    "        factor = 2 if bilinear else 1\n",
    "        self.down3 = Down(256, 512 // factor)\n",
    "        self.up1 = Up(512, 256 // factor, bilinear)\n",
    "        self.up2 = Up(256, 128 // factor, bilinear)\n",
    "        self.up3 = Up(128, 64, bilinear)\n",
    "        self.outc = OutConv(64, img_depth)\n",
    "        self.sa1 = SAWrapper(256, 8)\n",
    "        self.sa2 = SAWrapper(256, 4)\n",
    "        self.sa3 = SAWrapper(128, 8)\n",
    "\n",
    "    def pos_encoding(self, t, channels, embed_size):\n",
    "        inv_freq = 1.0 / (\n",
    "            10000\n",
    "            ** (torch.arange(0, channels, 2, device=self.device).float() / channels)\n",
    "        )\n",
    "        pos_enc_a = torch.sin(t.repeat(1, channels // 2) * inv_freq)\n",
    "        pos_enc_b = torch.cos(t.repeat(1, channels // 2) * inv_freq)\n",
    "        pos_enc = torch.cat([pos_enc_a, pos_enc_b], dim=-1)\n",
    "        return pos_enc.view(-1, channels, 1, 1).repeat(1, 1, embed_size, embed_size)\n",
    "\n",
    "    def forward(self, x, t):\n",
    "        \"\"\"\n",
    "        Model is U-Net with added positional encodings and self-attention layers.\n",
    "        \"\"\"\n",
    "        x1 = self.inc(x)\n",
    "        x2 = self.down1(x1) + self.pos_encoding(t, 128, 16)\n",
    "        x3 = self.down2(x2) + self.pos_encoding(t, 256, 8)\n",
    "        x3 = self.sa1(x3)\n",
    "        x4 = self.down3(x3) + self.pos_encoding(t, 256, 4)\n",
    "        x4 = self.sa2(x4)\n",
    "        x = self.up1(x4, x3) + self.pos_encoding(t, 128, 8)\n",
    "        x = self.sa3(x)\n",
    "        x = self.up2(x, x2) + self.pos_encoding(t, 64, 16)\n",
    "        x = self.up3(x, x1) + self.pos_encoding(t, 64, 32)\n",
    "        output = self.outc(x)\n",
    "        return output\n",
    "\n",
    "    def beta(self, t):\n",
    "        return self.beta_small + (t / self.t_range) * (\n",
    "            self.beta_large - self.beta_small\n",
    "        )\n",
    "\n",
    "    def alpha(self, t):\n",
    "        return 1 - self.beta(t)\n",
    "\n",
    "    def alpha_bar(self, t):\n",
    "        return math.prod([self.alpha(j) for j in range(t)])\n",
    "\n",
    "    def get_loss(self, batch, batch_idx):\n",
    "        \"\"\"\n",
    "        Corresponds to Algorithm 1 from (Ho et al., 2020).\n",
    "        \"\"\"\n",
    "        ts = torch.randint(0, self.t_range, [batch.shape[0]], device=self.device)\n",
    "        noise_imgs = []\n",
    "        epsilons = torch.randn(batch.shape, device=self.device)\n",
    "        for i in range(len(ts)):\n",
    "            a_hat = self.alpha_bar(ts[i])\n",
    "            noise_imgs.append(\n",
    "                (math.sqrt(a_hat) * batch[i]) + (math.sqrt(1 - a_hat) * epsilons[i])\n",
    "            )\n",
    "        noise_imgs = torch.stack(noise_imgs, dim=0)\n",
    "        e_hat = self.forward(noise_imgs, ts.unsqueeze(-1).type(torch.float))\n",
    "        loss = nn.functional.mse_loss(\n",
    "            e_hat.reshape(-1, self.in_size), epsilons.reshape(-1, self.in_size)\n",
    "        )\n",
    "        return loss\n",
    "\n",
    "    def denoise_sample(self, x, t):\n",
    "        \"\"\"\n",
    "        Corresponds to the inner loop of Algorithm 2 from (Ho et al., 2020).\n",
    "        \"\"\"\n",
    "        with torch.no_grad():\n",
    "            if t > 1:\n",
    "                z = torch.randn(x.shape)\n",
    "            else:\n",
    "                z = 0\n",
    "            e_hat = self.forward(x, t.view(1, 1).repeat(x.shape[0], 1))\n",
    "            pre_scale = 1 / math.sqrt(self.alpha(t))\n",
    "            e_scale = (1 - self.alpha(t)) / math.sqrt(1 - self.alpha_bar(t))\n",
    "            post_sigma = math.sqrt(self.beta(t)) * z\n",
    "            x = pre_scale * (x - e_scale * e_hat) + post_sigma\n",
    "            return x\n",
    "\n",
    "    def training_step(self, batch, batch_idx):\n",
    "        loss = self.get_loss(batch, batch_idx)\n",
    "        self.log(\"train/loss\", loss)\n",
    "        return loss\n",
    "\n",
    "    def validation_step(self, batch, batch_idx):\n",
    "        loss = self.get_loss(batch, batch_idx)\n",
    "        self.log(\"val/loss\", loss)\n",
    "        return\n",
    "\n",
    "    def configure_optimizers(self):\n",
    "        optimizer = torch.optim.Adam(self.parameters(), lr=2e-4)\n",
    "        return optimizer\n"
   ],
   "id": "89450ed99163a75e",
   "outputs": [],
   "execution_count": 4
  },
  {
   "metadata": {},
   "cell_type": "markdown",
   "source": [
    "# Задание 1. Обучите модель для датасета Fasion MNIST.  \n",
    " Продемонстрируйте обратный диффузионный процесс с нескольких random seeds"
   ],
   "id": "75c1a2beda0888e"
  },
  {
   "metadata": {
    "ExecuteTime": {
     "end_time": "2024-12-19T12:41:18.348223Z",
     "start_time": "2024-12-19T12:41:18.345709Z"
    }
   },
   "cell_type": "code",
   "source": [
    "# Training hyperparameters\n",
    "diffusion_steps = 1000\n",
    "dataset_choice = \"Fashion\"\n",
    "max_epoch = 10\n",
    "batch_size = 128\n",
    "\n",
    "# Loading parameters\n",
    "load_model = False\n",
    "load_version_num = 1\n",
    "\n",
    "torch.set_float32_matmul_precision(\"high\")"
   ],
   "id": "c38416157dd95331",
   "outputs": [],
   "execution_count": 5
  },
  {
   "metadata": {
    "ExecuteTime": {
     "end_time": "2024-12-19T12:41:18.930395Z",
     "start_time": "2024-12-19T12:41:18.927662Z"
    }
   },
   "cell_type": "code",
   "source": [
    "pass_version = None\n",
    "last_checkpoint = None"
   ],
   "id": "3fcea83e45cc9096",
   "outputs": [],
   "execution_count": 6
  },
  {
   "metadata": {
    "ExecuteTime": {
     "end_time": "2024-12-19T12:41:19.466290Z",
     "start_time": "2024-12-19T12:41:19.290498Z"
    }
   },
   "cell_type": "code",
   "source": [
    "# Create datasets and data loaders\n",
    "train_dataset = DiffSet(True, dataset_choice)\n",
    "val_dataset = DiffSet(False, dataset_choice)\n",
    "\n",
    "train_loader = DataLoader(train_dataset, batch_size=batch_size, shuffle=True)\n",
    "val_loader = DataLoader(val_dataset, batch_size=batch_size, shuffle=True)\n",
    "\n",
    "# Create model and trainer\n",
    "\n",
    "model = DiffusionModel(train_dataset.size*train_dataset.size, diffusion_steps, train_dataset.depth)"
   ],
   "id": "f619c6d4f98d536e",
   "outputs": [],
   "execution_count": 7
  },
  {
   "metadata": {
    "ExecuteTime": {
     "end_time": "2024-12-19T12:41:20.115351Z",
     "start_time": "2024-12-19T12:41:20.083156Z"
    }
   },
   "cell_type": "code",
   "source": [
    "# Load Trainer model\n",
    "tb_logger = pl.loggers.TensorBoardLogger(\n",
    "    \"lightning_logs/\",\n",
    "    name=dataset_choice,\n",
    "    version=pass_version,\n",
    ")\n",
    "\n",
    "trainer = pl.Trainer(\n",
    "    max_epochs=max_epoch, \n",
    "    log_every_n_steps=10, \n",
    "    logger=tb_logger\n",
    ")"
   ],
   "id": "d7bfc1af19dbaf9a",
   "outputs": [
    {
     "name": "stderr",
     "output_type": "stream",
     "text": [
      "GPU available: True (cuda), used: True\n",
      "TPU available: False, using: 0 TPU cores\n",
      "HPU available: False, using: 0 HPUs\n"
     ]
    }
   ],
   "execution_count": 8
  },
  {
   "metadata": {
    "ExecuteTime": {
     "end_time": "2024-12-19T12:56:26.235153Z",
     "start_time": "2024-12-19T12:41:21.578530Z"
    }
   },
   "cell_type": "code",
   "source": [
    "# Train model\n",
    "trainer.fit(model, train_loader, val_loader)"
   ],
   "id": "328c80f73b38bca3",
   "outputs": [
    {
     "name": "stderr",
     "output_type": "stream",
     "text": [
      "LOCAL_RANK: 0 - CUDA_VISIBLE_DEVICES: [0]\n",
      "\n",
      "   | Name  | Type       | Params | Mode \n",
      "----------------------------------------------\n",
      "0  | inc   | DoubleConv | 37.7 K | train\n",
      "1  | down1 | Down       | 295 K  | train\n",
      "2  | down2 | Down       | 1.2 M  | train\n",
      "3  | down3 | Down       | 2.4 M  | train\n",
      "4  | up1   | Up         | 6.2 M  | train\n",
      "5  | up2   | Up         | 1.5 M  | train\n",
      "6  | up3   | Up         | 406 K  | train\n",
      "7  | outc  | OutConv    | 65     | train\n",
      "8  | sa1   | SAWrapper  | 395 K  | train\n",
      "9  | sa2   | SAWrapper  | 395 K  | train\n",
      "10 | sa3   | SAWrapper  | 99.6 K | train\n",
      "----------------------------------------------\n",
      "12.9 M    Trainable params\n",
      "0         Non-trainable params\n",
      "12.9 M    Total params\n",
      "51.676    Total estimated model params size (MB)\n",
      "141       Modules in train mode\n",
      "0         Modules in eval mode\n"
     ]
    },
    {
     "data": {
      "text/plain": [
       "Sanity Checking: |          | 0/? [00:00<?, ?it/s]"
      ],
      "application/vnd.jupyter.widget-view+json": {
       "version_major": 2,
       "version_minor": 0,
       "model_id": "e7ec8cb002844ce19c410a16b1c93a0a"
      }
     },
     "metadata": {},
     "output_type": "display_data"
    },
    {
     "name": "stderr",
     "output_type": "stream",
     "text": [
      "C:\\Users\\zacgr\\Documents\\GitReps\\technopark\\NN\\.venv_nn\\Lib\\site-packages\\pytorch_lightning\\trainer\\connectors\\data_connector.py:475: Your `val_dataloader`'s sampler has shuffling enabled, it is strongly recommended that you turn shuffling off for val/test dataloaders.\n",
      "C:\\Users\\zacgr\\Documents\\GitReps\\technopark\\NN\\.venv_nn\\Lib\\site-packages\\pytorch_lightning\\trainer\\connectors\\data_connector.py:424: The 'val_dataloader' does not have many workers which may be a bottleneck. Consider increasing the value of the `num_workers` argument` to `num_workers=23` in the `DataLoader` to improve performance.\n",
      "C:\\Users\\zacgr\\Documents\\GitReps\\technopark\\NN\\.venv_nn\\Lib\\site-packages\\pytorch_lightning\\trainer\\connectors\\data_connector.py:424: The 'train_dataloader' does not have many workers which may be a bottleneck. Consider increasing the value of the `num_workers` argument` to `num_workers=23` in the `DataLoader` to improve performance.\n"
     ]
    },
    {
     "data": {
      "text/plain": [
       "Training: |          | 0/? [00:00<?, ?it/s]"
      ],
      "application/vnd.jupyter.widget-view+json": {
       "version_major": 2,
       "version_minor": 0,
       "model_id": "f11202f1009f4d88ae5219e4dcfdcbe5"
      }
     },
     "metadata": {},
     "output_type": "display_data"
    },
    {
     "data": {
      "text/plain": [
       "Validation: |          | 0/? [00:00<?, ?it/s]"
      ],
      "application/vnd.jupyter.widget-view+json": {
       "version_major": 2,
       "version_minor": 0,
       "model_id": "6635a776a8804a43ae12518fb7eeb9b9"
      }
     },
     "metadata": {},
     "output_type": "display_data"
    },
    {
     "data": {
      "text/plain": [
       "Validation: |          | 0/? [00:00<?, ?it/s]"
      ],
      "application/vnd.jupyter.widget-view+json": {
       "version_major": 2,
       "version_minor": 0,
       "model_id": "6eeb2707a8f74f239337d177a138759d"
      }
     },
     "metadata": {},
     "output_type": "display_data"
    },
    {
     "data": {
      "text/plain": [
       "Validation: |          | 0/? [00:00<?, ?it/s]"
      ],
      "application/vnd.jupyter.widget-view+json": {
       "version_major": 2,
       "version_minor": 0,
       "model_id": "0c968996788e4d64bf3b1741dbea1c45"
      }
     },
     "metadata": {},
     "output_type": "display_data"
    },
    {
     "data": {
      "text/plain": [
       "Validation: |          | 0/? [00:00<?, ?it/s]"
      ],
      "application/vnd.jupyter.widget-view+json": {
       "version_major": 2,
       "version_minor": 0,
       "model_id": "82a4cd19f5ea4621b2633775ef1726f9"
      }
     },
     "metadata": {},
     "output_type": "display_data"
    },
    {
     "data": {
      "text/plain": [
       "Validation: |          | 0/? [00:00<?, ?it/s]"
      ],
      "application/vnd.jupyter.widget-view+json": {
       "version_major": 2,
       "version_minor": 0,
       "model_id": "dbd0d1825b92433a8b88382a3653a06d"
      }
     },
     "metadata": {},
     "output_type": "display_data"
    },
    {
     "data": {
      "text/plain": [
       "Validation: |          | 0/? [00:00<?, ?it/s]"
      ],
      "application/vnd.jupyter.widget-view+json": {
       "version_major": 2,
       "version_minor": 0,
       "model_id": "bc4fff006c1f4e0e854f24c245081d30"
      }
     },
     "metadata": {},
     "output_type": "display_data"
    },
    {
     "data": {
      "text/plain": [
       "Validation: |          | 0/? [00:00<?, ?it/s]"
      ],
      "application/vnd.jupyter.widget-view+json": {
       "version_major": 2,
       "version_minor": 0,
       "model_id": "57634a14f624474485e996d462ca09ed"
      }
     },
     "metadata": {},
     "output_type": "display_data"
    },
    {
     "data": {
      "text/plain": [
       "Validation: |          | 0/? [00:00<?, ?it/s]"
      ],
      "application/vnd.jupyter.widget-view+json": {
       "version_major": 2,
       "version_minor": 0,
       "model_id": "d8746e95fbc44a8d8aaff957f25fe8d9"
      }
     },
     "metadata": {},
     "output_type": "display_data"
    },
    {
     "data": {
      "text/plain": [
       "Validation: |          | 0/? [00:00<?, ?it/s]"
      ],
      "application/vnd.jupyter.widget-view+json": {
       "version_major": 2,
       "version_minor": 0,
       "model_id": "2a0116450ccd4475ba3e14fbab06bfaf"
      }
     },
     "metadata": {},
     "output_type": "display_data"
    },
    {
     "data": {
      "text/plain": [
       "Validation: |          | 0/? [00:00<?, ?it/s]"
      ],
      "application/vnd.jupyter.widget-view+json": {
       "version_major": 2,
       "version_minor": 0,
       "model_id": "1086a242ce424a639c40909a0a29c46d"
      }
     },
     "metadata": {},
     "output_type": "display_data"
    },
    {
     "name": "stderr",
     "output_type": "stream",
     "text": [
      "`Trainer.fit` stopped: `max_epochs=10` reached.\n"
     ]
    }
   ],
   "execution_count": 9
  },
  {
   "metadata": {},
   "cell_type": "markdown",
   "source": "Посмотрим на результаты генерации",
   "id": "1a2f0026b5dcad1e"
  },
  {
   "metadata": {
    "ExecuteTime": {
     "end_time": "2024-12-19T13:08:53.812160Z",
     "start_time": "2024-12-19T13:08:17.131500Z"
    }
   },
   "cell_type": "code",
   "source": [
    "gif_shape = [3, 3]\n",
    "sample_batch_size = gif_shape[0] * gif_shape[1]\n",
    "n_hold_final = 10\n",
    "\n",
    "# Generate samples from denoising process\n",
    "gen_samples = []\n",
    "x = torch.randn((sample_batch_size, train_dataset.depth, train_dataset.size, train_dataset.size))\n",
    "sample_steps = torch.arange(model.t_range-1, 0, -1)\n",
    "for t in sample_steps:\n",
    "    x = model.denoise_sample(x, t)\n",
    "    if t % 50 == 0:\n",
    "        gen_samples.append(x)\n",
    "for _ in range(n_hold_final):\n",
    "    gen_samples.append(x)\n",
    "gen_samples = torch.stack(gen_samples, dim=0).moveaxis(2, 4).squeeze(-1)\n",
    "gen_samples = (gen_samples.clamp(-1, 1) + 1) / 2"
   ],
   "id": "6ced6d6b15d3d5a1",
   "outputs": [],
   "execution_count": 10
  },
  {
   "metadata": {
    "ExecuteTime": {
     "end_time": "2024-12-19T13:08:54.488584Z",
     "start_time": "2024-12-19T13:08:54.485167Z"
    }
   },
   "cell_type": "code",
   "source": [
    "gen_samples = gen_samples.reshape(-1, train_dataset.size, train_dataset.size, train_dataset.depth)\n",
    "\n",
    "if train_dataset.depth == 1:\n",
    "    gen_samples = gen_samples.squeeze(-1)  # Убираем лишнее измерение для черно-белых изображений\n",
    "\n",
    "frames = [frame.numpy() for frame in gen_samples]"
   ],
   "id": "2862aca518435dfb",
   "outputs": [],
   "execution_count": 11
  },
  {
   "metadata": {
    "ExecuteTime": {
     "end_time": "2024-12-19T13:08:55.082298Z",
     "start_time": "2024-12-19T13:08:55.026009Z"
    }
   },
   "cell_type": "code",
   "source": [
    "import matplotlib.pyplot as plt\n",
    "\n",
    "final_image = gen_samples[-3]\n",
    "final_image = final_image.squeeze()\n",
    "final_image = (final_image * 255).type(torch.uint8).numpy() \n",
    "\n",
    "plt.figure(figsize=(8, 8))\n",
    "if final_image.ndim == 3 and final_image.shape[-1] == 1:\n",
    "    plt.imshow(final_image[:, :, 0], cmap='gray')\n",
    "elif final_image.ndim == 2:\n",
    "    plt.imshow(final_image, cmap='gray')\n",
    "else:\n",
    "    plt.imshow(final_image)\n",
    "plt.axis('off')\n",
    "plt.title(\"Итоговое сгенерированное изображение\")\n",
    "plt.show()"
   ],
   "id": "dd5757dcf1440b8",
   "outputs": [
    {
     "data": {
      "text/plain": [
       "<Figure size 800x800 with 1 Axes>"
      ],
      "image/png": "[encoded data removed]"
     },
     "metadata": {},
     "output_type": "display_data"
    }
   ],
   "execution_count": 12
  },
  {
   "metadata": {},
   "cell_type": "code",
   "outputs": [],
   "execution_count": null,
   "source": "",
   "id": "bd7f04dd37be5f2e"
  },
  {
   "metadata": {
    "ExecuteTime": {
     "end_time": "2024-12-19T13:26:18.397772Z",
     "start_time": "2024-12-19T13:26:07.851496Z"
    }
   },
   "cell_type": "code",
   "source": [
    "import matplotlib.pyplot as plt\n",
    "\n",
    "sample_batch_size = 1 \n",
    "x = torch.randn((sample_batch_size, train_dataset.depth, train_dataset.size, train_dataset.size))\n",
    "\n",
    "sample_steps = torch.arange(model.t_range-1, 0, -1)\n",
    "for t in sample_steps:\n",
    "    x = model.denoise_sample(x, t)\n",
    "\n",
    "final_image = (x.squeeze().clamp(-1, 1) + 1) / 2 \n",
    "final_image = (final_image * 255).type(torch.uint8).numpy()\n",
    "\n",
    "plt.figure(figsize=(8, 8))\n",
    "if final_image.ndim == 3 and final_image.shape[-1] == 1:\n",
    "    plt.imshow(final_image[:, :, 0], cmap='gray')\n",
    "elif final_image.ndim == 2:\n",
    "    plt.imshow(final_image, cmap='gray')\n",
    "else:\n",
    "    plt.imshow(final_image)\n",
    "plt.axis('off')\n",
    "plt.title(\"Итоговое сгенерированное изображение\")\n",
    "plt.show()\n"
   ],
   "id": "c6f21273d8bd99eb",
   "outputs": [
    {
     "data": {
      "text/plain": [
       "<Figure size 800x800 with 1 Axes>"
      ],
      "image/png": "[encoded data removed]"
     },
     "metadata": {},
     "output_type": "display_data"
    }
   ],
   "execution_count": 26
  },
  {
   "metadata": {
    "ExecuteTime": {
     "end_time": "2024-12-19T13:29:57.931333Z",
     "start_time": "2024-12-19T13:29:26.587718Z"
    }
   },
   "cell_type": "code",
   "source": [
    "import matplotlib.pyplot as plt\n",
    "\n",
    "seeds = [0, 42, 1234]\n",
    "all_final_images = []\n",
    "\n",
    "for s in seeds:\n",
    "    torch.manual_seed(s)\n",
    "    x = torch.randn((sample_batch_size, train_dataset.depth, train_dataset.size, train_dataset.size))\n",
    "    sample_steps = torch.arange(model.t_range-1, 0, -1)\n",
    "    for t in sample_steps:\n",
    "        x = model.denoise_sample(x, t)\n",
    "    final_image = x[-1]\n",
    "    all_final_images.append(final_image)\n",
    "\n",
    "fig, axes = plt.subplots(1, len(seeds), figsize=(3*len(seeds),3))\n",
    "for ax, img, sd in zip(axes, all_final_images, seeds):\n",
    "    img_disp = (img.clamp(-1, 1) + 1) / 2\n",
    "    img_disp = img_disp.squeeze().detach().cpu().numpy()\n",
    "    ax.imshow(img_disp, cmap='gray')\n",
    "    ax.set_title(f\"Seed: {sd}\")\n",
    "    ax.axis('off')\n",
    "plt.show()"
   ],
   "id": "1bd08a96f7fdfe9d",
   "outputs": [
    {
     "data": {
      "text/plain": [
       "<Figure size 900x300 with 3 Axes>"
      ],
      "image/png": "[encoded data removed]"
     },
     "metadata": {},
     "output_type": "display_data"
    }
   ],
   "execution_count": 27
  },
  {
   "metadata": {},
   "cell_type": "markdown",
   "source": "# Задание 2. Добавьте к обучению DDPM условие на метку с помощью Classifier Free Guidance",
   "id": "ad0077197e03ac2d"
  },
  {
   "metadata": {},
   "cell_type": "markdown",
   "source": [
    "\n",
    "В данном пункте мы расширим обучение модели диффузии условием на метку класса.  \n",
    "Для реализации classifier-free guidance, мы будем использовать идею из https://arxiv.org/abs/2207.12598:\n",
    "- С вероятностью p часть батча мы будем заменять на «безметочный» вариант, т.е. условие отсутствует.\n",
    "- Во время генерации мы сможем интерполировать условный и безусловный прогноз, тем самым управляя степенью \"направления\" (guidance)."
   ],
   "id": "e535bab000f36a72"
  },
  {
   "metadata": {
    "ExecuteTime": {
     "end_time": "2024-12-19T13:47:44.221805Z",
     "start_time": "2024-12-19T13:47:44.218495Z"
    }
   },
   "cell_type": "code",
   "source": [
    "class DiffSetWithLabels(DiffSet):\n",
    "    def __init__(self, train, dataset=\"MNIST\"):\n",
    "        super().__init__(train, dataset)\n",
    "\n",
    "        transform = transforms.Compose([transforms.ToTensor()])\n",
    "        datasets = {\n",
    "            \"MNIST\": MNIST,\n",
    "            \"Fashion\": FashionMNIST,\n",
    "            \"CIFAR\": CIFAR10,\n",
    "        }\n",
    "\n",
    "        train_dataset = datasets[dataset](\n",
    "            \"./data\", download=True, train=train, transform=transform\n",
    "        )\n",
    "        self.labels = torch.tensor(train_dataset.targets if hasattr(train_dataset, 'targets') else train_dataset.labels)\n",
    "\n",
    "    def __getitem__(self, idx):\n",
    "        img = self.input_seq[idx]\n",
    "        label = self.labels[idx]\n",
    "        return img, label"
   ],
   "id": "7d3af9da556ea8af",
   "outputs": [],
   "execution_count": 40
  },
  {
   "metadata": {
    "ExecuteTime": {
     "end_time": "2024-12-19T13:51:55.980692Z",
     "start_time": "2024-12-19T13:51:55.974644Z"
    }
   },
   "cell_type": "code",
   "source": [
    "\n",
    "class CondDiffusionModel(DiffusionModel):\n",
    "    def __init__(self, in_size, t_range, img_depth, num_classes=10, class_emb_dim=128, guidance_prob=0.1):\n",
    "        super().__init__(in_size, t_range, img_depth)\n",
    "        self.num_classes = num_classes\n",
    "        self.class_emb = nn.Embedding(num_classes, class_emb_dim)\n",
    "        self.null_emb = nn.Parameter(torch.zeros(1, class_emb_dim))\n",
    "        self.guidance_prob = guidance_prob\n",
    "\n",
    "        self.image_size = int(math.sqrt(in_size))\n",
    "        \n",
    "        self.class_proj = nn.Sequential(\n",
    "            nn.Linear(class_emb_dim, self.image_size*self.image_size)\n",
    "        )\n",
    "\n",
    "    def forward_model(self, x, t, class_vec=None):\n",
    "        B = x.shape[0]\n",
    "        if class_vec is not None:\n",
    "            class_features = self.class_proj(class_vec)  # (B,1)\n",
    "            class_features = class_features.view(B, 1, self.image_size, self.image_size)\n",
    "            x = torch.cat([x, class_features], dim=1)\n",
    "        else:\n",
    "            zero_feat = torch.zeros(B,1,self.image_size,self.image_size, device=x.device)\n",
    "            x = torch.cat([x, zero_feat], dim=1)\n",
    "    \n",
    "        return self.cond_unet(x, t)\n",
    "\n",
    "    def get_loss(self, batch, batch_idx):\n",
    "        imgs, labels = batch  #  (img, label)\n",
    "        mask = torch.rand(labels.size(), device=self.device) < self.guidance_prob\n",
    "        # Для безусловных примеров используем null_emb, для остальных class_emb\n",
    "        class_embeddings = torch.zeros((labels.size(0), self.class_emb.embedding_dim), device=self.device)\n",
    "        class_embeddings[mask] = self.null_emb\n",
    "        class_embeddings[~mask] = self.class_emb(labels[~mask])\n",
    "\n",
    "        ts = torch.randint(0, self.t_range, [imgs.shape[0]], device=self.device)\n",
    "        epsilons = torch.randn(imgs.shape, device=self.device)\n",
    "\n",
    "        noise_imgs = []\n",
    "        for i in range(len(ts)):\n",
    "            a_hat = self.alpha_bar(ts[i])\n",
    "            noise_imgs.append(\n",
    "                (math.sqrt(a_hat) * imgs[i]) + (math.sqrt(1 - a_hat) * epsilons[i])\n",
    "            )\n",
    "        noise_imgs = torch.stack(noise_imgs, dim=0)\n",
    "        # Прогон через модель с учетом класса\n",
    "        e_hat = self.forward_model(noise_imgs, ts.unsqueeze(-1).type(torch.float), class_embeddings)\n",
    "        loss = nn.functional.mse_loss(\n",
    "            e_hat.reshape(-1, self.in_size), epsilons.reshape(-1, self.in_size)\n",
    "        )\n",
    "        return loss\n",
    "\n",
    "    def denoise_sample_guided(self, x, t, class_label=None, guidance_scale=5.0):\n",
    "        with torch.no_grad():\n",
    "            # безусловное предсказание\n",
    "            e_hat_uncond = self.forward_model(x, t.view(1, 1).repeat(x.shape[0], 1),\n",
    "                                              self.null_emb.repeat(x.shape[0], 1))\n",
    "            # условное предсказание\n",
    "            if class_label is not None:\n",
    "                class_emb = self.class_emb(torch.tensor([class_label] * x.shape[0], device=self.device))\n",
    "            else:\n",
    "                class_emb = self.null_emb.repeat(x.shape[0], 1)\n",
    "            e_hat_cond = self.forward_model(x, t.view(1, 1).repeat(x.shape[0], 1), class_emb)\n",
    "\n",
    "            e_hat = e_hat_uncond + guidance_scale * (e_hat_cond - e_hat_uncond)\n",
    "\n",
    "            if t > 1:\n",
    "                z = torch.randn_like(x)\n",
    "            else:\n",
    "                z = 0\n",
    "            pre_scale = 1 / math.sqrt(self.alpha(t))\n",
    "            e_scale = (1 - self.alpha(t)) / math.sqrt(1 - self.alpha_bar(t))\n",
    "            post_sigma = math.sqrt(self.beta(t)) * z\n",
    "            x = pre_scale * (x - e_scale * e_hat) + post_sigma\n",
    "            return x"
   ],
   "id": "26fefb0a360d4bd2",
   "outputs": [],
   "execution_count": 47
  },
  {
   "metadata": {
    "ExecuteTime": {
     "end_time": "2024-12-19T13:51:56.260616Z",
     "start_time": "2024-12-19T13:51:56.257097Z"
    }
   },
   "cell_type": "code",
   "source": [
    "class CondUNet(DiffusionModel):\n",
    "    def __init__(self, in_size, t_range, img_depth):\n",
    "        super().__init__(in_size, t_range, img_depth)\n",
    "\n",
    "        bilinear = True\n",
    "        self.inc = DoubleConv(img_depth + 1, 64)  # вход теперь img_depth+1\n",
    "\n",
    "    def forward(self, x, t):\n",
    "        x1 = self.inc(x)\n",
    "        x2 = self.down1(x1) + self.pos_encoding(t, 128, 16)\n",
    "        x3 = self.down2(x2) + self.pos_encoding(t, 256, 8)\n",
    "        x3 = self.sa1(x3)\n",
    "        x4 = self.down3(x3) + self.pos_encoding(t, 256, 4)\n",
    "        x4 = self.sa2(x4)\n",
    "        x = self.up1(x4, x3) + self.pos_encoding(t, 128, 8)\n",
    "        x = self.sa3(x)\n",
    "        x = self.up2(x, x2) + self.pos_encoding(t, 64, 16)\n",
    "        x = self.up3(x, x1) + self.pos_encoding(t, 64, 32)\n",
    "        output = self.outc(x)\n",
    "        return output"
   ],
   "id": "c731315e18a376ce",
   "outputs": [],
   "execution_count": 48
  },
  {
   "metadata": {
    "ExecuteTime": {
     "end_time": "2024-12-19T13:51:56.610373Z",
     "start_time": "2024-12-19T13:51:56.606869Z"
    }
   },
   "cell_type": "code",
   "source": [
    "class FullCondDiffusionModel(CondDiffusionModel):\n",
    "    def __init__(self, in_size, t_range, img_depth, num_classes=10, class_emb_dim=128, guidance_prob=0.1):\n",
    "        super().__init__(in_size, t_range, img_depth, num_classes, class_emb_dim, guidance_prob)\n",
    "        self.cond_unet = CondUNet(in_size, t_range, img_depth)\n",
    "        self.image_size = int(math.sqrt(in_size))\n",
    "\n",
    "    def forward_model(self, x, t, class_vec=None):\n",
    "        if class_vec is not None:\n",
    "            class_features = self.class_proj(class_vec)  # (B,pixels)\n",
    "            B = x.shape[0]\n",
    "            class_features = class_features.view(B, 1, self.image_size, self.image_size)\n",
    "            x = torch.cat([x, class_features], dim=1)\n",
    "        else:\n",
    "            # Если нет вектора класса, просто добавляем канал нулей\n",
    "            B = x.shape[0]\n",
    "            zero_feat = torch.zeros(B, 1, self.image_size, self.image_size, device=x.device)\n",
    "            x = torch.cat([x, zero_feat], dim=1)\n",
    "        return self.cond_unet(x, t)"
   ],
   "id": "26ddd9c89aaea6b7",
   "outputs": [],
   "execution_count": 49
  },
  {
   "metadata": {
    "ExecuteTime": {
     "end_time": "2024-12-19T14:26:40.923697Z",
     "start_time": "2024-12-19T14:21:22.600898Z"
    }
   },
   "cell_type": "code",
   "source": [
    "diffusion_steps_cond = 200\n",
    "max_epoch_cond = 5\n",
    "batch_size_cond = 128\n",
    "dataset_choice_cond = \"Fashion\"\n",
    "\n",
    "train_dataset_cond = DiffSetWithLabels(True, dataset_choice_cond)\n",
    "val_dataset_cond = DiffSetWithLabels(False, dataset_choice_cond)\n",
    "\n",
    "train_loader_cond = DataLoader(train_dataset_cond, batch_size=batch_size_cond, shuffle=True)\n",
    "val_loader_cond = DataLoader(val_dataset_cond, batch_size=batch_size_cond, shuffle=False)\n",
    "\n",
    "cond_model = FullCondDiffusionModel(train_dataset_cond.size * train_dataset_cond.size, diffusion_steps_cond,\n",
    "                                    train_dataset_cond.depth)\n",
    "\n",
    "tb_logger_cond = pl.loggers.TensorBoardLogger(\n",
    "    \"lightning_logs/\",\n",
    "    name=dataset_choice_cond + \"_cond\",\n",
    ")\n",
    "\n",
    "trainer_cond = pl.Trainer(\n",
    "    max_epochs=max_epoch_cond,\n",
    "    log_every_n_steps=10,\n",
    "    logger=tb_logger_cond\n",
    ")\n",
    "\n",
    "trainer_cond.fit(cond_model, train_loader_cond, val_loader_cond)"
   ],
   "id": "90b7b54456b9efcb",
   "outputs": [
    {
     "name": "stderr",
     "output_type": "stream",
     "text": [
      "C:\\Users\\zacgr\\AppData\\Local\\Temp\\ipykernel_9724\\3562888579.py:17: UserWarning: To copy construct from a tensor, it is recommended to use sourceTensor.clone().detach() or sourceTensor.clone().detach().requires_grad_(True), rather than torch.tensor(sourceTensor).\n",
      "  self.labels = torch.tensor(train_dataset.targets if hasattr(train_dataset, 'targets') else train_dataset.labels)\n",
      "GPU available: True (cuda), used: True\n",
      "TPU available: False, using: 0 TPU cores\n",
      "HPU available: False, using: 0 HPUs\n",
      "LOCAL_RANK: 0 - CUDA_VISIBLE_DEVICES: [0]\n",
      "\n",
      "   | Name         | Type       | Params | Mode \n",
      "-----------------------------------------------------\n",
      "0  | inc          | DoubleConv | 37.7 K | train\n",
      "1  | down1        | Down       | 295 K  | train\n",
      "2  | down2        | Down       | 1.2 M  | train\n",
      "3  | down3        | Down       | 2.4 M  | train\n",
      "4  | up1          | Up         | 6.2 M  | train\n",
      "5  | up2          | Up         | 1.5 M  | train\n",
      "6  | up3          | Up         | 406 K  | train\n",
      "7  | outc         | OutConv    | 65     | train\n",
      "8  | sa1          | SAWrapper  | 395 K  | train\n",
      "9  | sa2          | SAWrapper  | 395 K  | train\n",
      "10 | sa3          | SAWrapper  | 99.6 K | train\n",
      "11 | class_emb    | Embedding  | 1.3 K  | train\n",
      "12 | class_proj   | Sequential | 132 K  | train\n",
      "13 | cond_unet    | CondUNet   | 12.9 M | train\n",
      "   | other params | n/a        | 128    | n/a  \n",
      "-----------------------------------------------------\n",
      "26.0 M    Trainable params\n",
      "0         Non-trainable params\n",
      "26.0 M    Total params\n",
      "103.889   Total estimated model params size (MB)\n",
      "286       Modules in train mode\n",
      "0         Modules in eval mode\n"
     ]
    },
    {
     "data": {
      "text/plain": [
       "Sanity Checking: |          | 0/? [00:00<?, ?it/s]"
      ],
      "application/vnd.jupyter.widget-view+json": {
       "version_major": 2,
       "version_minor": 0,
       "model_id": "d908b4f56e044c17a4bde4f3df44e7d1"
      }
     },
     "metadata": {},
     "output_type": "display_data"
    },
    {
     "data": {
      "text/plain": [
       "Training: |          | 0/? [00:00<?, ?it/s]"
      ],
      "application/vnd.jupyter.widget-view+json": {
       "version_major": 2,
       "version_minor": 0,
       "model_id": "cd6d09aee366478e94dd03c15783f6df"
      }
     },
     "metadata": {},
     "output_type": "display_data"
    },
    {
     "data": {
      "text/plain": [
       "Validation: |          | 0/? [00:00<?, ?it/s]"
      ],
      "application/vnd.jupyter.widget-view+json": {
       "version_major": 2,
       "version_minor": 0,
       "model_id": "0c530d20c28141b593514c588d0ac46f"
      }
     },
     "metadata": {},
     "output_type": "display_data"
    },
    {
     "data": {
      "text/plain": [
       "Validation: |          | 0/? [00:00<?, ?it/s]"
      ],
      "application/vnd.jupyter.widget-view+json": {
       "version_major": 2,
       "version_minor": 0,
       "model_id": "42940bc4d8f8400d9944864eb5938977"
      }
     },
     "metadata": {},
     "output_type": "display_data"
    },
    {
     "data": {
      "text/plain": [
       "Validation: |          | 0/? [00:00<?, ?it/s]"
      ],
      "application/vnd.jupyter.widget-view+json": {
       "version_major": 2,
       "version_minor": 0,
       "model_id": "686e1efb28354b2a9ecf3e3b29d26c38"
      }
     },
     "metadata": {},
     "output_type": "display_data"
    },
    {
     "data": {
      "text/plain": [
       "Validation: |          | 0/? [00:00<?, ?it/s]"
      ],
      "application/vnd.jupyter.widget-view+json": {
       "version_major": 2,
       "version_minor": 0,
       "model_id": "55e27ecf335343ecb543e1c6b1c883b5"
      }
     },
     "metadata": {},
     "output_type": "display_data"
    },
    {
     "data": {
      "text/plain": [
       "Validation: |          | 0/? [00:00<?, ?it/s]"
      ],
      "application/vnd.jupyter.widget-view+json": {
       "version_major": 2,
       "version_minor": 0,
       "model_id": "4768aaaf25d94bc3822c7f6b5152549e"
      }
     },
     "metadata": {},
     "output_type": "display_data"
    },
    {
     "name": "stderr",
     "output_type": "stream",
     "text": [
      "`Trainer.fit` stopped: `max_epochs=5` reached.\n"
     ]
    }
   ],
   "execution_count": 56
  },
  {
   "metadata": {
    "ExecuteTime": {
     "end_time": "2024-12-19T14:27:54.634557Z",
     "start_time": "2024-12-19T14:27:39.576810Z"
    }
   },
   "cell_type": "code",
   "source": [
    "cond_model.eval()\n",
    "torch.manual_seed(0)\n",
    "sample_class = 5  # Сандали\n",
    "x = torch.randn((9, train_dataset_cond.depth, train_dataset_cond.size, train_dataset_cond.size))\n",
    "sample_steps = torch.arange(cond_model.t_range - 1, 0, -1)\n",
    "for t in sample_steps:\n",
    "    x = cond_model.denoise_sample_guided(x, t, class_label=sample_class, guidance_scale=5.0)\n",
    "\n",
    "gen_image = (x.clamp(-1, 1) + 1) / 2\n",
    "gen_image = gen_image.squeeze().detach().cpu().numpy()\n",
    "\n",
    "import matplotlib.pyplot as plt\n",
    "\n",
    "fig, axes = plt.subplots(3, 3, figsize=(6, 6))\n",
    "for i, ax in enumerate(axes.flat):\n",
    "    img_disp = gen_image[i]\n",
    "    ax.imshow(img_disp, cmap='gray')\n",
    "    ax.axis('off')\n",
    "plt.suptitle(f\"Classifier-Free Guidance, класс: {sample_class}, Сандали\")\n",
    "plt.show()"
   ],
   "id": "f5947739cb78c9b4",
   "outputs": [
    {
     "data": {
      "text/plain": [
       "<Figure size 600x600 with 9 Axes>"
      ],
      "image/png": "[encoded data removed]"
     },
     "metadata": {},
     "output_type": "display_data"
    }
   ],
   "execution_count": 59
  },
  {
   "metadata": {
    "ExecuteTime": {
     "end_time": "2024-12-19T14:17:54.799570Z",
     "start_time": "2024-12-19T14:17:39.826462Z"
    }
   },
   "cell_type": "code",
   "source": [
    "cond_model.eval()\n",
    "torch.manual_seed(0)\n",
    "sample_class = 3  # Платье\n",
    "x = torch.randn((9, train_dataset_cond.depth, train_dataset_cond.size, train_dataset_cond.size))\n",
    "sample_steps = torch.arange(cond_model.t_range - 1, 0, -1)\n",
    "for t in sample_steps:\n",
    "    x = cond_model.denoise_sample_guided(x, t, class_label=sample_class, guidance_scale=5.0)\n",
    "\n",
    "gen_image = (x.clamp(-1, 1) + 1) / 2\n",
    "gen_image = gen_image.squeeze().detach().cpu().numpy()\n",
    "\n",
    "import matplotlib.pyplot as plt\n",
    "\n",
    "fig, axes = plt.subplots(3, 3, figsize=(6, 6))\n",
    "for i, ax in enumerate(axes.flat):\n",
    "    img_disp = gen_image[i]\n",
    "    ax.imshow(img_disp, cmap='gray')\n",
    "    ax.axis('off')\n",
    "plt.suptitle(f\"Classifier-Free Guidance, класс: {sample_class}, Платье\")\n",
    "plt.show()"
   ],
   "id": "2f107b5d9042c90",
   "outputs": [
    {
     "data": {
      "text/plain": [
       "<Figure size 600x600 with 9 Axes>"
      ],
      "image/png": "[encoded data removed]"
     },
     "metadata": {},
     "output_type": "display_data"
    }
   ],
   "execution_count": 54
  },
  {
   "metadata": {
    "ExecuteTime": {
     "end_time": "2024-12-19T14:18:14.083947Z",
     "start_time": "2024-12-19T14:17:58.625400Z"
    }
   },
   "cell_type": "code",
   "source": [
    "cond_model.eval()\n",
    "torch.manual_seed(0)\n",
    "sample_class = 8  # Сумка\n",
    "x = torch.randn((9, train_dataset_cond.depth, train_dataset_cond.size, train_dataset_cond.size))\n",
    "sample_steps = torch.arange(cond_model.t_range - 1, 0, -1)\n",
    "for t in sample_steps:\n",
    "    x = cond_model.denoise_sample_guided(x, t, class_label=sample_class, guidance_scale=5.0)\n",
    "\n",
    "gen_image = (x.clamp(-1, 1) + 1) / 2\n",
    "gen_image = gen_image.squeeze().detach().cpu().numpy()\n",
    "\n",
    "import matplotlib.pyplot as plt\n",
    "\n",
    "fig, axes = plt.subplots(3, 3, figsize=(6, 6))\n",
    "for i, ax in enumerate(axes.flat):\n",
    "    img_disp = gen_image[i]\n",
    "    ax.imshow(img_disp, cmap='gray')\n",
    "    ax.axis('off')\n",
    "plt.suptitle(f\"Classifier-Free Guidance, класс: {sample_class}, Сумка\")\n",
    "plt.show()"
   ],
   "id": "2657f548769d28ed",
   "outputs": [
    {
     "data": {
      "text/plain": [
       "<Figure size 600x600 with 9 Axes>"
      ],
      "image/png": "[encoded data removed]"
     },
     "metadata": {},
     "output_type": "display_data"
    }
   ],
   "execution_count": 55
  },
  {
   "metadata": {},
   "cell_type": "markdown",
   "source": "Как видно, условная генерация работает",
   "id": "a0fe41661ed72ac3"
  },
  {
   "metadata": {},
   "cell_type": "markdown",
   "source": "# Задание 3. Обучите модель в режиме inpainting",
   "id": "4ef5e0cde92fd7d2"
  },
  {
   "metadata": {},
   "cell_type": "markdown",
   "source": [
    "В процессе обучения мы будем \"маскировать\" часть изображения (например, центральный квадратик) и требовать от модели восстановить исходное изображение,  \n",
    "при этом используя диффузионную модель как реставратор.  \n",
    "\n",
    "Для этого нам понадобится модифицировать датасет так, чтобы он возвращал не только оригинальное изображение,  \n",
    "но и \"зашумленное/маскированное\" изображение, а также маску, показывающую, какие пиксели скрыты.  \n",
    "\n",
    "Модель будет принимать на вход зашумленное изображение с пропусками и пытаться предсказать шум таким образом,  \n",
    "чтобы восстановить исходный сигнал.  \n",
    "\n",
    "По сути, при обучении мы будем подавать модель через тот же механизм, но входное изображение будет частично затёрто маской (например, заполненной шумом).  "
   ],
   "id": "476a2006d7778b3b"
  },
  {
   "metadata": {
    "ExecuteTime": {
     "end_time": "2024-12-19T14:42:48.910130Z",
     "start_time": "2024-12-19T14:42:48.906689Z"
    }
   },
   "cell_type": "code",
   "source": [
    "class InpaintDataset(DiffSet):\n",
    "    def __init__(self, train, dataset=\"MNIST\", mask_size=8):\n",
    "        super().__init__(train, dataset)\n",
    "        self.mask_size = mask_size\n",
    "        self.center = (self.size // 2, self.size // 2)\n",
    "        half = mask_size // 2\n",
    "        self.start = self.center[0] - half\n",
    "        self.end = self.center[0] + half\n",
    "\n",
    "    def __getitem__(self, idx):\n",
    "        img = self.input_seq[idx].clone()\n",
    "        mask = torch.ones_like(img)\n",
    "        mask[:, self.start:self.end, self.start:self.end] = 0.0\n",
    "        # Зашумляем замаскированную область\n",
    "        noised_img = img.clone()\n",
    "        noised_img[:, self.start:self.end, self.start:self.end] = torch.randn_like(\n",
    "            noised_img[:, self.start:self.end, self.start:self.end]) * 0.5\n",
    "        return img, noised_img, mask"
   ],
   "id": "f8a9bfbfc58a4b29",
   "outputs": [],
   "execution_count": 64
  },
  {
   "metadata": {
    "ExecuteTime": {
     "end_time": "2024-12-19T14:42:49.701941Z",
     "start_time": "2024-12-19T14:42:49.697369Z"
    }
   },
   "cell_type": "code",
   "source": [
    "class InpaintDiffusionModel(DiffusionModel):\n",
    "    def alpha_bar(self, t):\n",
    "        # Приводим t к int\n",
    "        t_int = int(t.item()) if hasattr(t, 'item') else t\n",
    "        return math.prod([self.alpha(j) for j in range(t_int)])\n",
    "    \n",
    "    def get_loss(self, batch, batch_idx):\n",
    "        orig, noised_img, mask = batch\n",
    "        ts = torch.randint(0, self.t_range, [orig.shape[0]], device=self.device)\n",
    "        epsilons = torch.randn(orig.shape, device=self.device)\n",
    "\n",
    "        noise_imgs = []\n",
    "        for i in range(len(ts)):\n",
    "            a_hat = self.alpha_bar(ts[i])\n",
    "            noisy = (math.sqrt(a_hat) * orig[i]) + (math.sqrt(1 - a_hat) * epsilons[i])\n",
    "            # На вход модели подаем смешанное изображение: в известных областях noisy, в замаскированных - noised_img\n",
    "            inp = noisy * mask[i] + noised_img[i] * (1 - mask[i])\n",
    "            noise_imgs.append(inp)\n",
    "        noise_imgs = torch.stack(noise_imgs, dim=0)\n",
    "\n",
    "        e_hat = self.forward(noise_imgs, ts.unsqueeze(-1).type(torch.float))\n",
    "        loss = nn.functional.mse_loss(e_hat.reshape(-1, self.in_size), epsilons.reshape(-1, self.in_size))\n",
    "        return loss\n",
    "\n",
    "    @torch.no_grad()\n",
    "    def inpaint_sample(self, noised_img, mask):\n",
    "        x = noised_img.clone()\n",
    "        steps = torch.arange(self.t_range - 1, 0, -1, device=self.device)\n",
    "        for t in steps:\n",
    "            t_int = int(t.item())\n",
    "            if t_int > 1:\n",
    "                z = torch.randn_like(x)\n",
    "            else:\n",
    "                z = 0\n",
    "            \n",
    "            e_hat = self.forward(x, t.view(1,1).float())\n",
    "            \n",
    "            a_t = self.alpha(t_int)\n",
    "            ab_t = self.alpha_bar(t_int)\n",
    "            b_t = self.beta(t_int)\n",
    "\n",
    "            pre_scale = 1 / math.sqrt(a_t)\n",
    "            e_scale = (1 - a_t) / math.sqrt(1 - ab_t)\n",
    "            post_sigma = math.sqrt(b_t) * z\n",
    "            x = pre_scale * (x - e_scale * e_hat) + post_sigma\n",
    "\n",
    "            x = x * mask + noised_img * (1 - mask)\n",
    "        return x"
   ],
   "id": "2c5a508585defedf",
   "outputs": [],
   "execution_count": 65
  },
  {
   "metadata": {
    "ExecuteTime": {
     "end_time": "2024-12-19T14:48:16.970595Z",
     "start_time": "2024-12-19T14:42:50.087386Z"
    }
   },
   "cell_type": "code",
   "source": [
    "inpaint_steps = 200\n",
    "max_epoch_inpaint = 5\n",
    "batch_size_inpaint = 128\n",
    "dataset_choice_inpaint = \"Fashion\"\n",
    "\n",
    "inpaint_train_dataset = InpaintDataset(True, dataset_choice_inpaint, mask_size=8)\n",
    "inpaint_val_dataset = InpaintDataset(False, dataset_choice_inpaint, mask_size=8)\n",
    "\n",
    "inpaint_train_loader = DataLoader(inpaint_train_dataset, batch_size=batch_size_inpaint, shuffle=True)\n",
    "inpaint_val_loader = DataLoader(inpaint_val_dataset, batch_size=batch_size_inpaint, shuffle=False)\n",
    "\n",
    "inpaint_model = InpaintDiffusionModel(inpaint_train_dataset.size * inpaint_train_dataset.size, inpaint_steps,\n",
    "                                      inpaint_train_dataset.depth)\n",
    "\n",
    "tb_logger_inpaint = pl.loggers.TensorBoardLogger(\n",
    "    \"lightning_logs/\",\n",
    "    name=dataset_choice_inpaint + \"_inpaint\",\n",
    ")\n",
    "\n",
    "trainer_inpaint = pl.Trainer(\n",
    "    max_epochs=max_epoch_inpaint,\n",
    "    log_every_n_steps=10,\n",
    "    logger=tb_logger_inpaint\n",
    ")\n",
    "\n",
    "trainer_inpaint.fit(inpaint_model, inpaint_train_loader, inpaint_val_loader)"
   ],
   "id": "88a96acdc468ffe1",
   "outputs": [
    {
     "name": "stderr",
     "output_type": "stream",
     "text": [
      "GPU available: True (cuda), used: True\n",
      "TPU available: False, using: 0 TPU cores\n",
      "HPU available: False, using: 0 HPUs\n",
      "LOCAL_RANK: 0 - CUDA_VISIBLE_DEVICES: [0]\n",
      "\n",
      "   | Name  | Type       | Params | Mode \n",
      "----------------------------------------------\n",
      "0  | inc   | DoubleConv | 37.7 K | train\n",
      "1  | down1 | Down       | 295 K  | train\n",
      "2  | down2 | Down       | 1.2 M  | train\n",
      "3  | down3 | Down       | 2.4 M  | train\n",
      "4  | up1   | Up         | 6.2 M  | train\n",
      "5  | up2   | Up         | 1.5 M  | train\n",
      "6  | up3   | Up         | 406 K  | train\n",
      "7  | outc  | OutConv    | 65     | train\n",
      "8  | sa1   | SAWrapper  | 395 K  | train\n",
      "9  | sa2   | SAWrapper  | 395 K  | train\n",
      "10 | sa3   | SAWrapper  | 99.6 K | train\n",
      "----------------------------------------------\n",
      "12.9 M    Trainable params\n",
      "0         Non-trainable params\n",
      "12.9 M    Total params\n",
      "51.676    Total estimated model params size (MB)\n",
      "141       Modules in train mode\n",
      "0         Modules in eval mode\n"
     ]
    },
    {
     "data": {
      "text/plain": [
       "Sanity Checking: |          | 0/? [00:00<?, ?it/s]"
      ],
      "application/vnd.jupyter.widget-view+json": {
       "version_major": 2,
       "version_minor": 0,
       "model_id": "48c7f7b08e8348679c8501f69b43a86e"
      }
     },
     "metadata": {},
     "output_type": "display_data"
    },
    {
     "data": {
      "text/plain": [
       "Training: |          | 0/? [00:00<?, ?it/s]"
      ],
      "application/vnd.jupyter.widget-view+json": {
       "version_major": 2,
       "version_minor": 0,
       "model_id": "912b5a24f516462095862b424482922a"
      }
     },
     "metadata": {},
     "output_type": "display_data"
    },
    {
     "data": {
      "text/plain": [
       "Validation: |          | 0/? [00:00<?, ?it/s]"
      ],
      "application/vnd.jupyter.widget-view+json": {
       "version_major": 2,
       "version_minor": 0,
       "model_id": "4202a4dddd3f49708a6f6a14d5a9cf9d"
      }
     },
     "metadata": {},
     "output_type": "display_data"
    },
    {
     "data": {
      "text/plain": [
       "Validation: |          | 0/? [00:00<?, ?it/s]"
      ],
      "application/vnd.jupyter.widget-view+json": {
       "version_major": 2,
       "version_minor": 0,
       "model_id": "b9de27aab6ec44489b799606f233a727"
      }
     },
     "metadata": {},
     "output_type": "display_data"
    },
    {
     "data": {
      "text/plain": [
       "Validation: |          | 0/? [00:00<?, ?it/s]"
      ],
      "application/vnd.jupyter.widget-view+json": {
       "version_major": 2,
       "version_minor": 0,
       "model_id": "f9022467d0c3449ab19b9ecfd98eb0ff"
      }
     },
     "metadata": {},
     "output_type": "display_data"
    },
    {
     "data": {
      "text/plain": [
       "Validation: |          | 0/? [00:00<?, ?it/s]"
      ],
      "application/vnd.jupyter.widget-view+json": {
       "version_major": 2,
       "version_minor": 0,
       "model_id": "ca43760274354470a85b044f7402dfaf"
      }
     },
     "metadata": {},
     "output_type": "display_data"
    },
    {
     "data": {
      "text/plain": [
       "Validation: |          | 0/? [00:00<?, ?it/s]"
      ],
      "application/vnd.jupyter.widget-view+json": {
       "version_major": 2,
       "version_minor": 0,
       "model_id": "f95fe4316baa40f99260a7cd0c275cff"
      }
     },
     "metadata": {},
     "output_type": "display_data"
    },
    {
     "name": "stderr",
     "output_type": "stream",
     "text": [
      "`Trainer.fit` stopped: `max_epochs=5` reached.\n"
     ]
    }
   ],
   "execution_count": 66
  },
  {
   "metadata": {
    "ExecuteTime": {
     "end_time": "2024-12-19T14:48:25.750613Z",
     "start_time": "2024-12-19T14:48:20.760193Z"
    }
   },
   "cell_type": "code",
   "source": [
    "inpaint_model.eval()\n",
    "torch.manual_seed(0)\n",
    "sample_batch_size = 4\n",
    "orig, noised_img, mask = next(iter(inpaint_val_loader))\n",
    "orig = orig[:sample_batch_size].to(inpaint_model.device)\n",
    "noised_img = noised_img[:sample_batch_size].to(inpaint_model.device)\n",
    "mask = mask[:sample_batch_size].to(inpaint_model.device)\n",
    "\n",
    "restored = inpaint_model.inpaint_sample(noised_img, mask)\n",
    "\n",
    "orig_disp = (orig.clamp(-1, 1) + 1) / 2\n",
    "noised_disp = (noised_img.clamp(-1, 1) + 1) / 2\n",
    "restored_disp = (restored.clamp(-1, 1) + 1) / 2\n",
    "\n",
    "orig_disp = orig_disp.squeeze().detach().cpu().numpy()\n",
    "noised_disp = noised_disp.squeeze().detach().cpu().numpy()\n",
    "restored_disp = restored_disp.squeeze().detach().cpu().numpy()\n",
    "\n",
    "import matplotlib.pyplot as plt\n",
    "\n",
    "fig, axes = plt.subplots(3, sample_batch_size, figsize=(3 * sample_batch_size, 9))\n",
    "for i in range(sample_batch_size):\n",
    "    axes[0, i].imshow(orig_disp[i], cmap='gray')\n",
    "    axes[0, i].set_title('Original')\n",
    "    axes[0, i].axis('off')\n",
    "\n",
    "    axes[1, i].imshow(noised_disp[i], cmap='gray')\n",
    "    axes[1, i].set_title('Masked+Noisy')\n",
    "    axes[1, i].axis('off')\n",
    "\n",
    "    axes[2, i].imshow(restored_disp[i], cmap='gray')\n",
    "    axes[2, i].set_title('Restored')\n",
    "    axes[2, i].axis('off')\n",
    "\n",
    "plt.show()"
   ],
   "id": "8be34f5403cf0b4b",
   "outputs": [
    {
     "data": {
      "text/plain": [
       "<Figure size 1200x900 with 12 Axes>"
      ],
      "image/png": "[encoded data removed]"
     },
     "metadata": {},
     "output_type": "display_data"
    }
   ],
   "execution_count": 67
  },
  {
   "metadata": {},
   "cell_type": "markdown",
   "source": "Ну, какой-то результат всё же есть, возможно нужно обучать сильно дольше",
   "id": "8f60d793cec1aeb2"
  },
  {
   "metadata": {},
   "cell_type": "markdown",
   "source": "Выводы: Я познакомился с возможностями применения и особенностями диффузионных моделей. Получил вменяемые результаты генерации.",
   "id": "6d2635b85ceb6340"
  }
 ],
 "metadata": {
  "kernelspec": {
   "display_name": "Python 3 (ipykernel)",
   "language": "python",
   "name": "python3"
  },
  "language_info": {
   "codemirror_mode": {
    "name": "ipython",
    "version": 3
   },
   "file_extension": ".py",
   "mimetype": "text/x-python",
   "name": "python",
   "nbconvert_exporter": "python",
   "pygments_lexer": "ipython3",
   "version": "3.8.12"
  },
  "colab": {
   "provenance": []
  }
 },
 "nbformat": 4,
 "nbformat_minor": 5
}
