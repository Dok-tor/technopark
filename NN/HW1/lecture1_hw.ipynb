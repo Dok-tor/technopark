{
 "cells": [
  {
   "cell_type": "code",
   "id": "8cc148dc-d83d-4c32-bbb0-3ffd82ba4e98",
   "metadata": {
    "ExecuteTime": {
     "end_time": "2024-09-19T10:03:03.238476Z",
     "start_time": "2024-09-19T10:03:00.600089Z"
    }
   },
   "source": [
    "import numpy as np\n",
    "import pandas as pd\n",
    "import matplotlib.pyplot as plt\n",
    "\n",
    "from sklearn.linear_model import LinearRegression\n",
    "from sklearn.model_selection import train_test_split\n",
    "from sklearn.metrics import r2_score\n",
    "from sklearn.preprocessing import MinMaxScaler\n",
    "from tqdm import tqdm\n",
    "\n",
    "%matplotlib inline"
   ],
   "outputs": [],
   "execution_count": 1
  },
  {
   "cell_type": "markdown",
   "id": "e3a06e1e-3bc0-4667-84f3-7e86698c3737",
   "metadata": {},
   "source": [
    "# Загружаем выборку Diamonds"
   ]
  },
  {
   "cell_type": "markdown",
   "id": "c731a143-3dc9-43e7-96f5-b1eff9093345",
   "metadata": {},
   "source": [
    "1. PRICE: price in US dollars (326-18,823)\n",
    "2. CARAT: weight of the diamond (0.2--5.01)\n",
    "3. CUT: quality of the cut (Fair, Good, Very Good, Premium, Ideal)\n",
    "4. COLOR: diamond colour, from J (worst) to D (best)\n",
    "5. CLARITY: a measurement of how clear the diamond is (I1 (worst), SI2, SI1, VS2, VS1, VVS2, VVS1, IF (best))\n",
    "6. X: length in mm (0--10.74)\n",
    "7. Y: width in mm (0--58.9)\n",
    "8. Z: depth in mm (0--31.8)\n",
    "9. DEPTH: total depth percentage = z / mean(x, y) = 2 * z / (x + y) (43--79)\n",
    "10. TABLE: width of top of diamond relative to widest point (43--95)"
   ]
  },
  {
   "cell_type": "code",
   "id": "0f24cf86-653a-422b-9df1-8029fdccf153",
   "metadata": {
    "ExecuteTime": {
     "end_time": "2024-09-19T10:03:03.270096Z",
     "start_time": "2024-09-19T10:03:03.238476Z"
    }
   },
   "source": [
    "diamonds_df = pd.read_csv('diamonds.csv')"
   ],
   "outputs": [],
   "execution_count": 2
  },
  {
   "cell_type": "code",
   "id": "70d9ccfe-e1cf-4c90-a5ab-40ae0852f1ce",
   "metadata": {
    "ExecuteTime": {
     "end_time": "2024-09-19T10:03:03.280434Z",
     "start_time": "2024-09-19T10:03:03.270096Z"
    }
   },
   "source": "diamonds_df",
   "outputs": [
    {
     "data": {
      "text/plain": [
       "       Unnamed: 0  carat        cut color clarity  depth  table  price     x  \\\n",
       "0               1   0.23      Ideal     E     SI2   61.5   55.0    326  3.95   \n",
       "1               2   0.21    Premium     E     SI1   59.8   61.0    326  3.89   \n",
       "2               3   0.23       Good     E     VS1   56.9   65.0    327  4.05   \n",
       "3               4   0.29    Premium     I     VS2   62.4   58.0    334  4.20   \n",
       "4               5   0.31       Good     J     SI2   63.3   58.0    335  4.34   \n",
       "...           ...    ...        ...   ...     ...    ...    ...    ...   ...   \n",
       "53935       53936   0.72      Ideal     D     SI1   60.8   57.0   2757  5.75   \n",
       "53936       53937   0.72       Good     D     SI1   63.1   55.0   2757  5.69   \n",
       "53937       53938   0.70  Very Good     D     SI1   62.8   60.0   2757  5.66   \n",
       "53938       53939   0.86    Premium     H     SI2   61.0   58.0   2757  6.15   \n",
       "53939       53940   0.75      Ideal     D     SI2   62.2   55.0   2757  5.83   \n",
       "\n",
       "          y     z  \n",
       "0      3.98  2.43  \n",
       "1      3.84  2.31  \n",
       "2      4.07  2.31  \n",
       "3      4.23  2.63  \n",
       "4      4.35  2.75  \n",
       "...     ...   ...  \n",
       "53935  5.76  3.50  \n",
       "53936  5.75  3.61  \n",
       "53937  5.68  3.56  \n",
       "53938  6.12  3.74  \n",
       "53939  5.87  3.64  \n",
       "\n",
       "[53940 rows x 11 columns]"
      ],
      "text/html": [
       "<div>\n",
       "<style scoped>\n",
       "    .dataframe tbody tr th:only-of-type {\n",
       "        vertical-align: middle;\n",
       "    }\n",
       "\n",
       "    .dataframe tbody tr th {\n",
       "        vertical-align: top;\n",
       "    }\n",
       "\n",
       "    .dataframe thead th {\n",
       "        text-align: right;\n",
       "    }\n",
       "</style>\n",
       "<table border=\"1\" class=\"dataframe\">\n",
       "  <thead>\n",
       "    <tr style=\"text-align: right;\">\n",
       "      <th></th>\n",
       "      <th>Unnamed: 0</th>\n",
       "      <th>carat</th>\n",
       "      <th>cut</th>\n",
       "      <th>color</th>\n",
       "      <th>clarity</th>\n",
       "      <th>depth</th>\n",
       "      <th>table</th>\n",
       "      <th>price</th>\n",
       "      <th>x</th>\n",
       "      <th>y</th>\n",
       "      <th>z</th>\n",
       "    </tr>\n",
       "  </thead>\n",
       "  <tbody>\n",
       "    <tr>\n",
       "      <th>0</th>\n",
       "      <td>1</td>\n",
       "      <td>0.23</td>\n",
       "      <td>Ideal</td>\n",
       "      <td>E</td>\n",
       "      <td>SI2</td>\n",
       "      <td>61.5</td>\n",
       "      <td>55.0</td>\n",
       "      <td>326</td>\n",
       "      <td>3.95</td>\n",
       "      <td>3.98</td>\n",
       "      <td>2.43</td>\n",
       "    </tr>\n",
       "    <tr>\n",
       "      <th>1</th>\n",
       "      <td>2</td>\n",
       "      <td>0.21</td>\n",
       "      <td>Premium</td>\n",
       "      <td>E</td>\n",
       "      <td>SI1</td>\n",
       "      <td>59.8</td>\n",
       "      <td>61.0</td>\n",
       "      <td>326</td>\n",
       "      <td>3.89</td>\n",
       "      <td>3.84</td>\n",
       "      <td>2.31</td>\n",
       "    </tr>\n",
       "    <tr>\n",
       "      <th>2</th>\n",
       "      <td>3</td>\n",
       "      <td>0.23</td>\n",
       "      <td>Good</td>\n",
       "      <td>E</td>\n",
       "      <td>VS1</td>\n",
       "      <td>56.9</td>\n",
       "      <td>65.0</td>\n",
       "      <td>327</td>\n",
       "      <td>4.05</td>\n",
       "      <td>4.07</td>\n",
       "      <td>2.31</td>\n",
       "    </tr>\n",
       "    <tr>\n",
       "      <th>3</th>\n",
       "      <td>4</td>\n",
       "      <td>0.29</td>\n",
       "      <td>Premium</td>\n",
       "      <td>I</td>\n",
       "      <td>VS2</td>\n",
       "      <td>62.4</td>\n",
       "      <td>58.0</td>\n",
       "      <td>334</td>\n",
       "      <td>4.20</td>\n",
       "      <td>4.23</td>\n",
       "      <td>2.63</td>\n",
       "    </tr>\n",
       "    <tr>\n",
       "      <th>4</th>\n",
       "      <td>5</td>\n",
       "      <td>0.31</td>\n",
       "      <td>Good</td>\n",
       "      <td>J</td>\n",
       "      <td>SI2</td>\n",
       "      <td>63.3</td>\n",
       "      <td>58.0</td>\n",
       "      <td>335</td>\n",
       "      <td>4.34</td>\n",
       "      <td>4.35</td>\n",
       "      <td>2.75</td>\n",
       "    </tr>\n",
       "    <tr>\n",
       "      <th>...</th>\n",
       "      <td>...</td>\n",
       "      <td>...</td>\n",
       "      <td>...</td>\n",
       "      <td>...</td>\n",
       "      <td>...</td>\n",
       "      <td>...</td>\n",
       "      <td>...</td>\n",
       "      <td>...</td>\n",
       "      <td>...</td>\n",
       "      <td>...</td>\n",
       "      <td>...</td>\n",
       "    </tr>\n",
       "    <tr>\n",
       "      <th>53935</th>\n",
       "      <td>53936</td>\n",
       "      <td>0.72</td>\n",
       "      <td>Ideal</td>\n",
       "      <td>D</td>\n",
       "      <td>SI1</td>\n",
       "      <td>60.8</td>\n",
       "      <td>57.0</td>\n",
       "      <td>2757</td>\n",
       "      <td>5.75</td>\n",
       "      <td>5.76</td>\n",
       "      <td>3.50</td>\n",
       "    </tr>\n",
       "    <tr>\n",
       "      <th>53936</th>\n",
       "      <td>53937</td>\n",
       "      <td>0.72</td>\n",
       "      <td>Good</td>\n",
       "      <td>D</td>\n",
       "      <td>SI1</td>\n",
       "      <td>63.1</td>\n",
       "      <td>55.0</td>\n",
       "      <td>2757</td>\n",
       "      <td>5.69</td>\n",
       "      <td>5.75</td>\n",
       "      <td>3.61</td>\n",
       "    </tr>\n",
       "    <tr>\n",
       "      <th>53937</th>\n",
       "      <td>53938</td>\n",
       "      <td>0.70</td>\n",
       "      <td>Very Good</td>\n",
       "      <td>D</td>\n",
       "      <td>SI1</td>\n",
       "      <td>62.8</td>\n",
       "      <td>60.0</td>\n",
       "      <td>2757</td>\n",
       "      <td>5.66</td>\n",
       "      <td>5.68</td>\n",
       "      <td>3.56</td>\n",
       "    </tr>\n",
       "    <tr>\n",
       "      <th>53938</th>\n",
       "      <td>53939</td>\n",
       "      <td>0.86</td>\n",
       "      <td>Premium</td>\n",
       "      <td>H</td>\n",
       "      <td>SI2</td>\n",
       "      <td>61.0</td>\n",
       "      <td>58.0</td>\n",
       "      <td>2757</td>\n",
       "      <td>6.15</td>\n",
       "      <td>6.12</td>\n",
       "      <td>3.74</td>\n",
       "    </tr>\n",
       "    <tr>\n",
       "      <th>53939</th>\n",
       "      <td>53940</td>\n",
       "      <td>0.75</td>\n",
       "      <td>Ideal</td>\n",
       "      <td>D</td>\n",
       "      <td>SI2</td>\n",
       "      <td>62.2</td>\n",
       "      <td>55.0</td>\n",
       "      <td>2757</td>\n",
       "      <td>5.83</td>\n",
       "      <td>5.87</td>\n",
       "      <td>3.64</td>\n",
       "    </tr>\n",
       "  </tbody>\n",
       "</table>\n",
       "<p>53940 rows × 11 columns</p>\n",
       "</div>"
      ]
     },
     "execution_count": 3,
     "metadata": {},
     "output_type": "execute_result"
    }
   ],
   "execution_count": 3
  },
  {
   "cell_type": "code",
   "id": "fad21c95-f542-44ec-8f06-8f57fd42ddef",
   "metadata": {
    "ExecuteTime": {
     "end_time": "2024-09-19T10:03:03.385722Z",
     "start_time": "2024-09-19T10:03:03.280434Z"
    }
   },
   "source": [
    "plt.hist(diamonds_df['price'], bins=100)\n",
    "plt.grid();"
   ],
   "outputs": [
    {
     "data": {
      "text/plain": [
       "<Figure size 640x480 with 1 Axes>"
      ],
      "image/png": "[encoded data removed]"
     },
     "metadata": {},
     "output_type": "display_data"
    }
   ],
   "execution_count": 4
  },
  {
   "cell_type": "markdown",
   "id": "17ac44bb-86c7-424a-8b9b-0a21bf490683",
   "metadata": {},
   "source": [
    "# Подготовка данных"
   ]
  },
  {
   "cell_type": "code",
   "id": "e19945ea-cecf-481e-a28b-3f9c11001918",
   "metadata": {
    "ExecuteTime": {
     "end_time": "2024-09-19T10:03:03.389019Z",
     "start_time": "2024-09-19T10:03:03.386726Z"
    }
   },
   "source": [
    "features = ['carat', 'cut', 'color', 'clarity', 'depth', 'table', 'x', 'y', 'z']\n",
    "target = ['price']"
   ],
   "outputs": [],
   "execution_count": 5
  },
  {
   "cell_type": "code",
   "id": "fbc43eb0-e77f-4765-8b0e-b9052c093855",
   "metadata": {
    "ExecuteTime": {
     "end_time": "2024-09-19T10:03:03.396089Z",
     "start_time": "2024-09-19T10:03:03.389019Z"
    }
   },
   "source": [
    "cut_transform = {'Fair': 0, 'Good': 1, 'Very Good': 2, 'Premium': 3, 'Ideal': 4}\n",
    "clarity_transform = {'I1': 0, 'SI2': 1, 'SI1': 2, 'VS2': 3, 'VS1': 4, 'VVS2': 5, 'VVS1': 6, 'IF': 7}\n",
    "color_transorm = {'D': 0, 'E': 1, 'F': 2, 'G': 3, 'H': 4, 'I': 5, 'J': 6}"
   ],
   "outputs": [],
   "execution_count": 6
  },
  {
   "cell_type": "code",
   "id": "6f82b34f-9ffc-478f-a103-b2cbbca49a94",
   "metadata": {
    "ExecuteTime": {
     "end_time": "2024-09-19T10:03:03.426389Z",
     "start_time": "2024-09-19T10:03:03.396089Z"
    }
   },
   "source": [
    "diamonds_df['cut'] = diamonds_df['cut'].apply(lambda x: cut_transform.get(x))\n",
    "diamonds_df['color'] = diamonds_df['color'].apply(lambda x: color_transorm.get(x))\n",
    "diamonds_df['clarity'] = diamonds_df['clarity'].apply(lambda x: clarity_transform.get(x))"
   ],
   "outputs": [],
   "execution_count": 7
  },
  {
   "cell_type": "code",
   "id": "8e5fa82b-92ed-4e79-adf2-422204b45e82",
   "metadata": {
    "ExecuteTime": {
     "end_time": "2024-09-19T10:03:03.432038Z",
     "start_time": "2024-09-19T10:03:03.427394Z"
    }
   },
   "source": [
    "X = diamonds_df[features].copy().values\n",
    "y = diamonds_df[target].values"
   ],
   "outputs": [],
   "execution_count": 8
  },
  {
   "cell_type": "code",
   "id": "baafcd96-b32e-469e-b354-fa0aba09db8f",
   "metadata": {
    "ExecuteTime": {
     "end_time": "2024-09-19T10:03:03.437878Z",
     "start_time": "2024-09-19T10:03:03.432038Z"
    }
   },
   "source": [
    "scaler = MinMaxScaler()\n",
    "X = scaler.fit_transform(X)"
   ],
   "outputs": [],
   "execution_count": 9
  },
  {
   "cell_type": "code",
   "id": "64c11d68-dc5c-4753-9cc4-3cc4e136f3cb",
   "metadata": {
    "ExecuteTime": {
     "end_time": "2024-09-19T10:03:03.446103Z",
     "start_time": "2024-09-19T10:03:03.437878Z"
    }
   },
   "source": [
    "X_train, X_test, y_train, y_test = train_test_split(X, y, random_state=47, test_size=0.3)"
   ],
   "outputs": [],
   "execution_count": 10
  },
  {
   "cell_type": "markdown",
   "id": "3b743ed1-d0cf-485d-b8f2-8c71fc174e8b",
   "metadata": {},
   "source": [
    "# Обучаем модель линейной регрессии"
   ]
  },
  {
   "cell_type": "code",
   "id": "0068e36f-040e-4aa3-bb06-88aa95051478",
   "metadata": {
    "ExecuteTime": {
     "end_time": "2024-09-19T10:03:03.458436Z",
     "start_time": "2024-09-19T10:03:03.446103Z"
    }
   },
   "source": [
    "reg = LinearRegression().fit(X_train, y_train)"
   ],
   "outputs": [],
   "execution_count": 11
  },
  {
   "cell_type": "code",
   "id": "f968e336-4049-41b2-81d1-4c24f0969bbb",
   "metadata": {
    "ExecuteTime": {
     "end_time": "2024-09-19T10:03:03.461204Z",
     "start_time": "2024-09-19T10:03:03.458436Z"
    }
   },
   "source": [
    "y_pred = reg.predict(X_test)"
   ],
   "outputs": [],
   "execution_count": 12
  },
  {
   "cell_type": "code",
   "id": "0952990a-b3d6-4da4-9cc6-1ab3a7a25ac7",
   "metadata": {
    "ExecuteTime": {
     "end_time": "2024-09-19T10:03:03.468073Z",
     "start_time": "2024-09-19T10:03:03.461204Z"
    }
   },
   "source": [
    "score = r2_score(y_pred, y_test)"
   ],
   "outputs": [],
   "execution_count": 13
  },
  {
   "cell_type": "code",
   "id": "f89c3bbd-0a3a-48ac-b1ab-b75dc0c5bcce",
   "metadata": {
    "ExecuteTime": {
     "end_time": "2024-09-19T10:03:03.621449Z",
     "start_time": "2024-09-19T10:03:03.469079Z"
    }
   },
   "source": [
    "plt.title(f'R2: {str(score)[:5]}')\n",
    "plt.hist(y_pred.reshape(1, -1)[0], bins=100, label='PREDICTION')\n",
    "plt.hist(y_test.reshape(1, -1)[0], bins=100, label='GT')\n",
    "plt.legend()\n",
    "plt.grid();"
   ],
   "outputs": [
    {
     "data": {
      "text/plain": [
       "<Figure size 640x480 with 1 Axes>"
      ],
      "image/png": "[encoded data removed]"
     },
     "metadata": {},
     "output_type": "display_data"
    }
   ],
   "execution_count": 14
  },
  {
   "metadata": {
    "ExecuteTime": {
     "end_time": "2024-09-19T10:03:03.624777Z",
     "start_time": "2024-09-19T10:03:03.621449Z"
    }
   },
   "cell_type": "code",
   "source": "X_train",
   "id": "eb042f433c520a87",
   "outputs": [
    {
     "data": {
      "text/plain": [
       "array([[0.05197505, 0.75      , 0.83333333, ..., 0.45623836, 0.08285229,\n",
       "        0.09685535],\n",
       "       [0.31185031, 1.        , 0.33333333, ..., 0.7122905 , 0.12852292,\n",
       "        0.14937107],\n",
       "       [0.07068607, 1.        , 0.16666667, ..., 0.49068901, 0.08981324,\n",
       "        0.10062893],\n",
       "       ...,\n",
       "       [0.07276507, 0.5       , 0.33333333, ..., 0.49255121, 0.09032258,\n",
       "        0.10125786],\n",
       "       [0.07068607, 1.        , 0.33333333, ..., 0.49068901, 0.08913413,\n",
       "        0.10125786],\n",
       "       [0.03950104, 0.75      , 0.5       , ..., 0.44134078, 0.07962649,\n",
       "        0.09025157]])"
      ]
     },
     "execution_count": 15,
     "metadata": {},
     "output_type": "execute_result"
    }
   ],
   "execution_count": 15
  },
  {
   "cell_type": "markdown",
   "id": "7886f8b7-ba2e-4fde-8b91-f815ea961fe5",
   "metadata": {},
   "source": [
    "# Создаём модель MLP для задачи регрессии"
   ]
  },
  {
   "metadata": {},
   "cell_type": "markdown",
   "source": "Для удобства создаём слои в виде классов",
   "id": "8f3ed475eb36e885"
  },
  {
   "metadata": {
    "ExecuteTime": {
     "end_time": "2024-09-19T10:03:03.630937Z",
     "start_time": "2024-09-19T10:03:03.624777Z"
    }
   },
   "cell_type": "code",
   "source": [
    "class LinearLayer:\n",
    "    def __init__(self, input_size, output_size):\n",
    "        self.w = np.random.randn(input_size, output_size) * np.sqrt(2. / input_size)\n",
    "        self.b = np.zeros(output_size)\n",
    "        self.result = 0\n",
    "\n",
    "    def forward(self, x):\n",
    "        self.result = x.dot(self.w) + self.b\n",
    "        return self.result\n",
    "\n",
    "    def getWeights(self):\n",
    "        return self.w\n",
    "\n",
    "    def getBias(self):\n",
    "        return self.b\n",
    "\n",
    "    def setWeights(self, weights):\n",
    "        self.w = weights\n",
    "\n",
    "    def setBias(self, bias):\n",
    "        self.b = bias\n",
    "\n",
    "    def getResult(self):\n",
    "        return self.result\n"
   ],
   "id": "8c46aac85e2d572c",
   "outputs": [],
   "execution_count": 16
  },
  {
   "metadata": {},
   "cell_type": "markdown",
   "source": "### Функция активации - сигмоида",
   "id": "3174c5ef89d395b5"
  },
  {
   "metadata": {
    "ExecuteTime": {
     "end_time": "2024-09-19T10:03:03.637380Z",
     "start_time": "2024-09-19T10:03:03.630937Z"
    }
   },
   "cell_type": "code",
   "source": [
    "class SigmoidLayer:\n",
    "    def __init__(self):\n",
    "        self.result = 0\n",
    "\n",
    "    def forward(self, x):\n",
    "        self.result = 1 / (1 + np.exp(-x))\n",
    "        return self.result\n",
    "\n",
    "    def derivative(self):\n",
    "        return self.result * (1 - self.result)\n",
    "\n",
    "    def getResult(self):\n",
    "        return self.result\n",
    "\n",
    "def sigmoid_derivative(X):\n",
    "    return X * (1 - X)\n"
   ],
   "id": "93ea4dc5720263fa",
   "outputs": [],
   "execution_count": 17
  },
  {
   "metadata": {},
   "cell_type": "markdown",
   "source": "### Функция активации - ReLU",
   "id": "7992e55df6beb230"
  },
  {
   "metadata": {
    "ExecuteTime": {
     "end_time": "2024-09-19T10:03:03.643625Z",
     "start_time": "2024-09-19T10:03:03.637380Z"
    }
   },
   "cell_type": "code",
   "source": [
    "class ReLULayer:\n",
    "    def __init__(self):\n",
    "        self.result = 0\n",
    "        \n",
    "    def forward(self, x):\n",
    "        self.result = np.maximum(0, x)\n",
    "        return self.result\n",
    "    \n",
    "    def derivative(self, x):\n",
    "        return np.where(x > 0, 1, 0)\n",
    "    \n",
    "    def getResult(self):\n",
    "        return self.result\n",
    "    \n",
    "\n",
    "def relu_derivative(x):\n",
    "    return np.where(x > 0, 1, 0)"
   ],
   "id": "4946e82c4326aa61",
   "outputs": [],
   "execution_count": 18
  },
  {
   "metadata": {},
   "cell_type": "markdown",
   "source": "### Построение Модели",
   "id": "d1977b7e823d0157"
  },
  {
   "metadata": {},
   "cell_type": "markdown",
   "source": "Данная модель может иметь сколько угодно скрытых слоев, при условии, что все слои будут линейными и после каждого будет функция активации",
   "id": "771332d7a0704b4d"
  },
  {
   "metadata": {
    "ExecuteTime": {
     "end_time": "2024-09-19T10:03:03.651460Z",
     "start_time": "2024-09-19T10:03:03.643625Z"
    }
   },
   "cell_type": "code",
   "source": [
    "class MLPRegressor:\n",
    "    \n",
    "    def __init__(self, input_shape=9, hidden_layer_sizes=(100,), learning_rate=0.001, max_iter=10, batch_size = 100, activation = \"relu\"):\n",
    "         \n",
    "        if activation == \"relu\":\n",
    "            self.activation = ReLULayer\n",
    "            self.derivative = relu_derivative\n",
    "        elif activation == \"sigmoid\":  # В данном случае сигмоида сработала очень плохо, но по тому же принципу можно использовать другие функции активации, логика модели останется такой же\n",
    "            self.activation = SigmoidLayer\n",
    "            self.derivative = sigmoid_derivative\n",
    "        \n",
    "        self.layers = [\n",
    "            LinearLayer(input_shape, hidden_layer_sizes[0]),\n",
    "            self.activation(),\n",
    "        ]\n",
    "\n",
    "        for i in range(1, len(hidden_layer_sizes)):\n",
    "            self.layers.append(LinearLayer(hidden_layer_sizes[i - 1], hidden_layer_sizes[i]))\n",
    "            self.layers.append(self.activation())\n",
    "\n",
    "        self.layers.append(LinearLayer(hidden_layer_sizes[-1], 1))\n",
    "\n",
    "        self.lr = learning_rate\n",
    "        self.max_iter = max_iter\n",
    "        self.batch_size = batch_size\n",
    "        \n",
    "\n",
    "    def train(self, X, y):\n",
    "        \n",
    "        for epoch in range(1, self.max_iter + 1):\n",
    "            batches_X = [X[j:j + self.batch_size] for j in range(0, len(X), self.batch_size)]\n",
    "            batches_y = [y[j:j + self.batch_size] for j in range(0, len(y), self.batch_size)]       \n",
    "\n",
    "            for j in tqdm(range(len(batches_X)), desc=f\"Batch processing - Epoch {epoch}\"):\n",
    "                batch = batches_X[j]\n",
    "                y_b = batches_y[j]\n",
    "                \n",
    "                # Воспользуемся тем, что при прямом прогоне слои запоминают внутри себя результат\n",
    "                y_pred = self.predict(batch)\n",
    "                \n",
    "                L = np.mean(1/2 * (y_pred - y_b) ** 2)\n",
    "                \n",
    "                # Вычислим градиенты для последнего линейного слоя отдельно\n",
    "                dL_dy_pred = (y_pred - y_b) / y_b.size\n",
    "                \n",
    "                dL_dz = dL_dy_pred\n",
    "                dL_dw = self.layers[-2].getResult().T.dot(dL_dz)\n",
    "                dL_db = np.sum(dL_dz, axis=0)\n",
    "                \n",
    "                first = [(dL_dw, dL_db)]\n",
    "                \n",
    "                # А теперь можем вычеслять остальные градиенты по цепочке\n",
    "                for i in range(len(self.layers) - 1, 0, -2):\n",
    "                    dL_da = dL_dz.dot(self.layers[i].getWeights().T)\n",
    "                    dL_dz = dL_da * self.derivative(self.layers[i-2].getResult())\n",
    "                    if i == 2:\n",
    "                        dL_dw = batch.T.dot(dL_dz)\n",
    "                    else:\n",
    "                        dL_dw = self.layers[i-3].getResult().T.dot(dL_dz)\n",
    "                    dL_db = np.sum(dL_dz, axis=0)\n",
    "                    first.append((dL_dw, dL_db))\n",
    "                    \n",
    "                \n",
    "                \n",
    "                first.reverse()\n",
    "                \n",
    "                \n",
    "                # Корректируем веса всех линейных слоёв\n",
    "                k = 0\n",
    "                for i in range(0, len(self.layers), 2):\n",
    "                    delta_w = self.lr * first[k][0]\n",
    "                    delta_b = self.lr * first[k][1]\n",
    "                    \n",
    "                    new_w = self.layers[i].getWeights() - delta_w\n",
    "                    new_b = self.layers[i].getBias() - delta_b\n",
    "                    \n",
    "                    self.layers[i].setWeights(new_w)\n",
    "                    self.layers[i].setBias(new_b)\n",
    "                    \n",
    "                    k += 1\n",
    "            \n",
    "        \n",
    "            print(f'epoch: {epoch}, loss: {L:.4f}')\n",
    "        \n",
    "        return first\n",
    "            \n",
    "\n",
    "            \n",
    "    def predict(self, X):\n",
    "        X1 = X.copy()\n",
    "        for layer in self.layers:\n",
    "            X1 = layer.forward(X1)\n",
    "        return X1\n",
    "    "
   ],
   "id": "c8a2732708fc66c2",
   "outputs": [],
   "execution_count": 19
  },
  {
   "metadata": {},
   "cell_type": "markdown",
   "source": "# Проверяем модель MLP на выборке Diamonds",
   "id": "6501f80df4184bf1"
  },
  {
   "metadata": {
    "ExecuteTime": {
     "end_time": "2024-09-19T10:03:04.781585Z",
     "start_time": "2024-09-19T10:03:03.651460Z"
    }
   },
   "cell_type": "code",
   "source": [
    "np.random.seed(25)\n",
    "\n",
    "model = MLPRegressor(learning_rate=0.00001, max_iter=100, hidden_layer_sizes=(4,))\n",
    "\n",
    "_ = model.train(X_train, y_train)"
   ],
   "id": "71265fa7e938566c",
   "outputs": [
    {
     "name": "stderr",
     "output_type": "stream",
     "text": [
      "Batch processing - Epoch 1: 100%|██████████| 378/378 [00:00<00:00, 37791.93it/s]\n"
     ]
    },
    {
     "name": "stdout",
     "output_type": "stream",
     "text": [
      "epoch: 1, loss: 4829963.0850\n"
     ]
    },
    {
     "name": "stderr",
     "output_type": "stream",
     "text": [
      "Batch processing - Epoch 2: 100%|██████████| 378/378 [00:00<00:00, 41993.03it/s]\n"
     ]
    },
    {
     "name": "stdout",
     "output_type": "stream",
     "text": [
      "epoch: 2, loss: 1339808.9031\n"
     ]
    },
    {
     "name": "stderr",
     "output_type": "stream",
     "text": [
      "Batch processing - Epoch 3: 100%|██████████| 378/378 [00:00<00:00, 42010.84it/s]\n"
     ]
    },
    {
     "name": "stdout",
     "output_type": "stream",
     "text": [
      "epoch: 3, loss: 796639.3981\n"
     ]
    },
    {
     "name": "stderr",
     "output_type": "stream",
     "text": [
      "Batch processing - Epoch 4: 100%|██████████| 378/378 [00:00<00:00, 42005.27it/s]\n"
     ]
    },
    {
     "name": "stdout",
     "output_type": "stream",
     "text": [
      "epoch: 4, loss: 696328.9680\n"
     ]
    },
    {
     "name": "stderr",
     "output_type": "stream",
     "text": [
      "Batch processing - Epoch 5: 100%|██████████| 378/378 [00:00<00:00, 41993.03it/s]\n"
     ]
    },
    {
     "name": "stdout",
     "output_type": "stream",
     "text": [
      "epoch: 5, loss: 689487.9007\n"
     ]
    },
    {
     "name": "stderr",
     "output_type": "stream",
     "text": [
      "Batch processing - Epoch 6: 100%|██████████| 378/378 [00:00<00:00, 34374.32it/s]\n"
     ]
    },
    {
     "name": "stdout",
     "output_type": "stream",
     "text": [
      "epoch: 6, loss: 681880.7369\n"
     ]
    },
    {
     "name": "stderr",
     "output_type": "stream",
     "text": [
      "Batch processing - Epoch 7: 100%|██████████| 378/378 [00:00<00:00, 34348.26it/s]\n"
     ]
    },
    {
     "name": "stdout",
     "output_type": "stream",
     "text": [
      "epoch: 7, loss: 672879.2208\n"
     ]
    },
    {
     "name": "stderr",
     "output_type": "stream",
     "text": [
      "Batch processing - Epoch 8: 100%|██████████| 378/378 [00:00<00:00, 32837.23it/s]\n"
     ]
    },
    {
     "name": "stdout",
     "output_type": "stream",
     "text": [
      "epoch: 8, loss: 665226.0233\n"
     ]
    },
    {
     "name": "stderr",
     "output_type": "stream",
     "text": [
      "Batch processing - Epoch 9: 100%|██████████| 378/378 [00:00<00:00, 31497.90it/s]\n"
     ]
    },
    {
     "name": "stdout",
     "output_type": "stream",
     "text": [
      "epoch: 9, loss: 658212.8700\n"
     ]
    },
    {
     "name": "stderr",
     "output_type": "stream",
     "text": [
      "Batch processing - Epoch 10: 100%|██████████| 378/378 [00:00<00:00, 37802.74it/s]\n"
     ]
    },
    {
     "name": "stdout",
     "output_type": "stream",
     "text": [
      "epoch: 10, loss: 652028.9853\n"
     ]
    },
    {
     "name": "stderr",
     "output_type": "stream",
     "text": [
      "Batch processing - Epoch 11: 100%|██████████| 378/378 [00:00<00:00, 37807.25it/s]\n"
     ]
    },
    {
     "name": "stdout",
     "output_type": "stream",
     "text": [
      "epoch: 11, loss: 646088.9982\n"
     ]
    },
    {
     "name": "stderr",
     "output_type": "stream",
     "text": [
      "Batch processing - Epoch 12: 100%|██████████| 378/378 [00:00<00:00, 37800.04it/s]\n"
     ]
    },
    {
     "name": "stdout",
     "output_type": "stream",
     "text": [
      "epoch: 12, loss: 640757.2075\n"
     ]
    },
    {
     "name": "stderr",
     "output_type": "stream",
     "text": [
      "Batch processing - Epoch 13: 100%|██████████| 378/378 [00:00<00:00, 34356.45it/s]\n"
     ]
    },
    {
     "name": "stdout",
     "output_type": "stream",
     "text": [
      "epoch: 13, loss: 635819.3011\n"
     ]
    },
    {
     "name": "stderr",
     "output_type": "stream",
     "text": [
      "Batch processing - Epoch 14: 100%|██████████| 378/378 [00:00<00:00, 37787.42it/s]\n"
     ]
    },
    {
     "name": "stdout",
     "output_type": "stream",
     "text": [
      "epoch: 14, loss: 631402.0906\n"
     ]
    },
    {
     "name": "stderr",
     "output_type": "stream",
     "text": [
      "Batch processing - Epoch 15: 100%|██████████| 378/378 [00:00<00:00, 41989.70it/s]\n"
     ]
    },
    {
     "name": "stdout",
     "output_type": "stream",
     "text": [
      "epoch: 15, loss: 627242.2715\n"
     ]
    },
    {
     "name": "stderr",
     "output_type": "stream",
     "text": [
      "Batch processing - Epoch 16: 100%|██████████| 378/378 [00:00<00:00, 37807.25it/s]\n"
     ]
    },
    {
     "name": "stdout",
     "output_type": "stream",
     "text": [
      "epoch: 16, loss: 623176.1185\n"
     ]
    },
    {
     "name": "stderr",
     "output_type": "stream",
     "text": [
      "Batch processing - Epoch 17: 100%|██████████| 378/378 [00:00<00:00, 35973.20it/s]\n"
     ]
    },
    {
     "name": "stdout",
     "output_type": "stream",
     "text": [
      "epoch: 17, loss: 619485.3706\n"
     ]
    },
    {
     "name": "stderr",
     "output_type": "stream",
     "text": [
      "Batch processing - Epoch 18: 100%|██████████| 378/378 [00:00<00:00, 37802.74it/s]\n"
     ]
    },
    {
     "name": "stdout",
     "output_type": "stream",
     "text": [
      "epoch: 18, loss: 616190.0033\n"
     ]
    },
    {
     "name": "stderr",
     "output_type": "stream",
     "text": [
      "Batch processing - Epoch 19: 100%|██████████| 378/378 [00:00<00:00, 37803.64it/s]\n"
     ]
    },
    {
     "name": "stdout",
     "output_type": "stream",
     "text": [
      "epoch: 19, loss: 613118.0021\n"
     ]
    },
    {
     "name": "stderr",
     "output_type": "stream",
     "text": [
      "Batch processing - Epoch 20: 100%|██████████| 378/378 [00:00<00:00, 37798.23it/s]\n"
     ]
    },
    {
     "name": "stdout",
     "output_type": "stream",
     "text": [
      "epoch: 20, loss: 610305.6809\n"
     ]
    },
    {
     "name": "stderr",
     "output_type": "stream",
     "text": [
      "Batch processing - Epoch 21: 100%|██████████| 378/378 [00:00<00:00, 31494.77it/s]\n"
     ]
    },
    {
     "name": "stdout",
     "output_type": "stream",
     "text": [
      "epoch: 21, loss: 607581.5895\n"
     ]
    },
    {
     "name": "stderr",
     "output_type": "stream",
     "text": [
      "Batch processing - Epoch 22: 100%|██████████| 378/378 [00:00<00:00, 37808.15it/s]\n"
     ]
    },
    {
     "name": "stdout",
     "output_type": "stream",
     "text": [
      "epoch: 22, loss: 604970.8481\n"
     ]
    },
    {
     "name": "stderr",
     "output_type": "stream",
     "text": [
      "Batch processing - Epoch 23: 100%|██████████| 378/378 [00:00<00:00, 37786.52it/s]\n"
     ]
    },
    {
     "name": "stdout",
     "output_type": "stream",
     "text": [
      "epoch: 23, loss: 602590.1732\n"
     ]
    },
    {
     "name": "stderr",
     "output_type": "stream",
     "text": [
      "Batch processing - Epoch 24: 100%|██████████| 378/378 [00:00<00:00, 37788.32it/s]\n"
     ]
    },
    {
     "name": "stdout",
     "output_type": "stream",
     "text": [
      "epoch: 24, loss: 600477.5649\n"
     ]
    },
    {
     "name": "stderr",
     "output_type": "stream",
     "text": [
      "Batch processing - Epoch 25: 100%|██████████| 378/378 [00:00<00:00, 41999.71it/s]\n"
     ]
    },
    {
     "name": "stdout",
     "output_type": "stream",
     "text": [
      "epoch: 25, loss: 598079.3024\n"
     ]
    },
    {
     "name": "stderr",
     "output_type": "stream",
     "text": [
      "Batch processing - Epoch 26: 100%|██████████| 378/378 [00:00<00:00, 36742.69it/s]\n"
     ]
    },
    {
     "name": "stdout",
     "output_type": "stream",
     "text": [
      "epoch: 26, loss: 595833.9247\n"
     ]
    },
    {
     "name": "stderr",
     "output_type": "stream",
     "text": [
      "Batch processing - Epoch 27: 100%|██████████| 378/378 [00:00<00:00, 37803.64it/s]\n"
     ]
    },
    {
     "name": "stdout",
     "output_type": "stream",
     "text": [
      "epoch: 27, loss: 593408.4721\n"
     ]
    },
    {
     "name": "stderr",
     "output_type": "stream",
     "text": [
      "Batch processing - Epoch 28: 100%|██████████| 378/378 [00:00<00:00, 37799.13it/s]\n"
     ]
    },
    {
     "name": "stdout",
     "output_type": "stream",
     "text": [
      "epoch: 28, loss: 591503.0070\n"
     ]
    },
    {
     "name": "stderr",
     "output_type": "stream",
     "text": [
      "Batch processing - Epoch 29: 100%|██████████| 378/378 [00:00<00:00, 37800.04it/s]\n"
     ]
    },
    {
     "name": "stdout",
     "output_type": "stream",
     "text": [
      "epoch: 29, loss: 589353.7223\n"
     ]
    },
    {
     "name": "stderr",
     "output_type": "stream",
     "text": [
      "Batch processing - Epoch 30: 100%|██████████| 378/378 [00:00<00:00, 37792.83it/s]\n"
     ]
    },
    {
     "name": "stdout",
     "output_type": "stream",
     "text": [
      "epoch: 30, loss: 587223.0329\n"
     ]
    },
    {
     "name": "stderr",
     "output_type": "stream",
     "text": [
      "Batch processing - Epoch 31: 100%|██████████| 378/378 [00:00<00:00, 37788.32it/s]\n"
     ]
    },
    {
     "name": "stdout",
     "output_type": "stream",
     "text": [
      "epoch: 31, loss: 585109.2546\n"
     ]
    },
    {
     "name": "stderr",
     "output_type": "stream",
     "text": [
      "Batch processing - Epoch 32: 100%|██████████| 378/378 [00:00<00:00, 37815.36it/s]\n"
     ]
    },
    {
     "name": "stdout",
     "output_type": "stream",
     "text": [
      "epoch: 32, loss: 582959.8734\n"
     ]
    },
    {
     "name": "stderr",
     "output_type": "stream",
     "text": [
      "Batch processing - Epoch 33: 100%|██████████| 378/378 [00:00<00:00, 37794.63it/s]\n"
     ]
    },
    {
     "name": "stdout",
     "output_type": "stream",
     "text": [
      "epoch: 33, loss: 580905.6731\n"
     ]
    },
    {
     "name": "stderr",
     "output_type": "stream",
     "text": [
      "Batch processing - Epoch 34: 100%|██████████| 378/378 [00:00<00:00, 34352.72it/s]\n"
     ]
    },
    {
     "name": "stdout",
     "output_type": "stream",
     "text": [
      "epoch: 34, loss: 578570.1866\n"
     ]
    },
    {
     "name": "stderr",
     "output_type": "stream",
     "text": [
      "Batch processing - Epoch 35: 100%|██████████| 378/378 [00:00<00:00, 36472.21it/s]\n"
     ]
    },
    {
     "name": "stdout",
     "output_type": "stream",
     "text": [
      "epoch: 35, loss: 576344.3731\n"
     ]
    },
    {
     "name": "stderr",
     "output_type": "stream",
     "text": [
      "Batch processing - Epoch 36: 100%|██████████| 378/378 [00:00<00:00, 37804.54it/s]\n"
     ]
    },
    {
     "name": "stdout",
     "output_type": "stream",
     "text": [
      "epoch: 36, loss: 574131.1955\n"
     ]
    },
    {
     "name": "stderr",
     "output_type": "stream",
     "text": [
      "Batch processing - Epoch 37: 100%|██████████| 378/378 [00:00<00:00, 37800.94it/s]\n"
     ]
    },
    {
     "name": "stdout",
     "output_type": "stream",
     "text": [
      "epoch: 37, loss: 572105.4564\n"
     ]
    },
    {
     "name": "stderr",
     "output_type": "stream",
     "text": [
      "Batch processing - Epoch 38: 100%|██████████| 378/378 [00:00<00:00, 42007.50it/s]\n"
     ]
    },
    {
     "name": "stdout",
     "output_type": "stream",
     "text": [
      "epoch: 38, loss: 569915.5648\n"
     ]
    },
    {
     "name": "stderr",
     "output_type": "stream",
     "text": [
      "Batch processing - Epoch 39: 100%|██████████| 378/378 [00:00<00:00, 29077.96it/s]\n"
     ]
    },
    {
     "name": "stdout",
     "output_type": "stream",
     "text": [
      "epoch: 39, loss: 567745.0352\n"
     ]
    },
    {
     "name": "stderr",
     "output_type": "stream",
     "text": [
      "Batch processing - Epoch 40: 100%|██████████| 378/378 [00:00<00:00, 34378.05it/s]\n"
     ]
    },
    {
     "name": "stdout",
     "output_type": "stream",
     "text": [
      "epoch: 40, loss: 565778.1167\n"
     ]
    },
    {
     "name": "stderr",
     "output_type": "stream",
     "text": [
      "Batch processing - Epoch 41: 100%|██████████| 378/378 [00:00<00:00, 34366.87it/s]\n"
     ]
    },
    {
     "name": "stdout",
     "output_type": "stream",
     "text": [
      "epoch: 41, loss: 563677.0387\n"
     ]
    },
    {
     "name": "stderr",
     "output_type": "stream",
     "text": [
      "Batch processing - Epoch 42: 100%|██████████| 378/378 [00:00<00:00, 37776.62it/s]\n"
     ]
    },
    {
     "name": "stdout",
     "output_type": "stream",
     "text": [
      "epoch: 42, loss: 558600.4743\n"
     ]
    },
    {
     "name": "stderr",
     "output_type": "stream",
     "text": [
      "Batch processing - Epoch 43: 100%|██████████| 378/378 [00:00<00:00, 39733.52it/s]\n"
     ]
    },
    {
     "name": "stdout",
     "output_type": "stream",
     "text": [
      "epoch: 43, loss: 554260.5472\n"
     ]
    },
    {
     "name": "stderr",
     "output_type": "stream",
     "text": [
      "Batch processing - Epoch 44: 100%|██████████| 378/378 [00:00<00:00, 42004.16it/s]\n"
     ]
    },
    {
     "name": "stdout",
     "output_type": "stream",
     "text": [
      "epoch: 44, loss: 550231.2352\n"
     ]
    },
    {
     "name": "stderr",
     "output_type": "stream",
     "text": [
      "Batch processing - Epoch 45: 100%|██████████| 378/378 [00:00<00:00, 37802.74it/s]\n"
     ]
    },
    {
     "name": "stdout",
     "output_type": "stream",
     "text": [
      "epoch: 45, loss: 546203.2371\n"
     ]
    },
    {
     "name": "stderr",
     "output_type": "stream",
     "text": [
      "Batch processing - Epoch 46: 100%|██████████| 378/378 [00:00<00:00, 37803.64it/s]\n"
     ]
    },
    {
     "name": "stdout",
     "output_type": "stream",
     "text": [
      "epoch: 46, loss: 542649.7325\n"
     ]
    },
    {
     "name": "stderr",
     "output_type": "stream",
     "text": [
      "Batch processing - Epoch 47: 100%|██████████| 378/378 [00:00<00:00, 37790.13it/s]\n"
     ]
    },
    {
     "name": "stdout",
     "output_type": "stream",
     "text": [
      "epoch: 47, loss: 538896.0711\n"
     ]
    },
    {
     "name": "stderr",
     "output_type": "stream",
     "text": [
      "Batch processing - Epoch 48: 100%|██████████| 378/378 [00:00<00:00, 42004.16it/s]\n"
     ]
    },
    {
     "name": "stdout",
     "output_type": "stream",
     "text": [
      "epoch: 48, loss: 535479.7375\n"
     ]
    },
    {
     "name": "stderr",
     "output_type": "stream",
     "text": [
      "Batch processing - Epoch 49: 100%|██████████| 378/378 [00:00<00:00, 34342.31it/s]\n"
     ]
    },
    {
     "name": "stdout",
     "output_type": "stream",
     "text": [
      "epoch: 49, loss: 532510.1568\n"
     ]
    },
    {
     "name": "stderr",
     "output_type": "stream",
     "text": [
      "Batch processing - Epoch 50: 100%|██████████| 378/378 [00:00<00:00, 37803.64it/s]\n"
     ]
    },
    {
     "name": "stdout",
     "output_type": "stream",
     "text": [
      "epoch: 50, loss: 529939.3662\n"
     ]
    },
    {
     "name": "stderr",
     "output_type": "stream",
     "text": [
      "Batch processing - Epoch 51: 100%|██████████| 378/378 [00:00<00:00, 31492.90it/s]\n"
     ]
    },
    {
     "name": "stdout",
     "output_type": "stream",
     "text": [
      "epoch: 51, loss: 527049.0881\n"
     ]
    },
    {
     "name": "stderr",
     "output_type": "stream",
     "text": [
      "Batch processing - Epoch 52: 100%|██████████| 378/378 [00:00<00:00, 39746.47it/s]\n"
     ]
    },
    {
     "name": "stdout",
     "output_type": "stream",
     "text": [
      "epoch: 52, loss: 523627.6736\n"
     ]
    },
    {
     "name": "stderr",
     "output_type": "stream",
     "text": [
      "Batch processing - Epoch 53: 100%|██████████| 378/378 [00:00<00:00, 37784.72it/s]\n"
     ]
    },
    {
     "name": "stdout",
     "output_type": "stream",
     "text": [
      "epoch: 53, loss: 520598.6794\n"
     ]
    },
    {
     "name": "stderr",
     "output_type": "stream",
     "text": [
      "Batch processing - Epoch 54: 100%|██████████| 378/378 [00:00<00:00, 41980.80it/s]\n"
     ]
    },
    {
     "name": "stdout",
     "output_type": "stream",
     "text": [
      "epoch: 54, loss: 518572.6151\n"
     ]
    },
    {
     "name": "stderr",
     "output_type": "stream",
     "text": [
      "Batch processing - Epoch 55: 100%|██████████| 378/378 [00:00<00:00, 42006.38it/s]\n"
     ]
    },
    {
     "name": "stdout",
     "output_type": "stream",
     "text": [
      "epoch: 55, loss: 516737.9984\n"
     ]
    },
    {
     "name": "stderr",
     "output_type": "stream",
     "text": [
      "Batch processing - Epoch 56: 100%|██████████| 378/378 [00:00<00:00, 41993.03it/s]\n"
     ]
    },
    {
     "name": "stdout",
     "output_type": "stream",
     "text": [
      "epoch: 56, loss: 515821.6695\n"
     ]
    },
    {
     "name": "stderr",
     "output_type": "stream",
     "text": [
      "Batch processing - Epoch 57: 100%|██████████| 378/378 [00:00<00:00, 42003.04it/s]\n"
     ]
    },
    {
     "name": "stdout",
     "output_type": "stream",
     "text": [
      "epoch: 57, loss: 515266.1144\n"
     ]
    },
    {
     "name": "stderr",
     "output_type": "stream",
     "text": [
      "Batch processing - Epoch 58: 100%|██████████| 378/378 [00:00<00:00, 37802.74it/s]\n"
     ]
    },
    {
     "name": "stdout",
     "output_type": "stream",
     "text": [
      "epoch: 58, loss: 514886.1674\n"
     ]
    },
    {
     "name": "stderr",
     "output_type": "stream",
     "text": [
      "Batch processing - Epoch 59: 100%|██████████| 378/378 [00:00<00:00, 37799.13it/s]\n"
     ]
    },
    {
     "name": "stdout",
     "output_type": "stream",
     "text": [
      "epoch: 59, loss: 514603.1989\n"
     ]
    },
    {
     "name": "stderr",
     "output_type": "stream",
     "text": [
      "Batch processing - Epoch 60: 100%|██████████| 378/378 [00:00<00:00, 34369.11it/s]\n"
     ]
    },
    {
     "name": "stdout",
     "output_type": "stream",
     "text": [
      "epoch: 60, loss: 514348.3560\n"
     ]
    },
    {
     "name": "stderr",
     "output_type": "stream",
     "text": [
      "Batch processing - Epoch 61: 100%|██████████| 378/378 [00:00<00:00, 39767.41it/s]\n"
     ]
    },
    {
     "name": "stdout",
     "output_type": "stream",
     "text": [
      "epoch: 61, loss: 512670.2614\n"
     ]
    },
    {
     "name": "stderr",
     "output_type": "stream",
     "text": [
      "Batch processing - Epoch 62: 100%|██████████| 378/378 [00:00<00:00, 37792.83it/s]\n"
     ]
    },
    {
     "name": "stdout",
     "output_type": "stream",
     "text": [
      "epoch: 62, loss: 510096.6646\n"
     ]
    },
    {
     "name": "stderr",
     "output_type": "stream",
     "text": [
      "Batch processing - Epoch 63: 100%|██████████| 378/378 [00:00<00:00, 37818.97it/s]\n"
     ]
    },
    {
     "name": "stdout",
     "output_type": "stream",
     "text": [
      "epoch: 63, loss: 508100.7958\n"
     ]
    },
    {
     "name": "stderr",
     "output_type": "stream",
     "text": [
      "Batch processing - Epoch 64: 100%|██████████| 378/378 [00:00<00:00, 37799.13it/s]\n"
     ]
    },
    {
     "name": "stdout",
     "output_type": "stream",
     "text": [
      "epoch: 64, loss: 506629.6776\n"
     ]
    },
    {
     "name": "stderr",
     "output_type": "stream",
     "text": [
      "Batch processing - Epoch 65: 100%|██████████| 378/378 [00:00<00:00, 37803.64it/s]\n"
     ]
    },
    {
     "name": "stdout",
     "output_type": "stream",
     "text": [
      "epoch: 65, loss: 505380.2384\n"
     ]
    },
    {
     "name": "stderr",
     "output_type": "stream",
     "text": [
      "Batch processing - Epoch 66: 100%|██████████| 378/378 [00:00<00:00, 37800.94it/s]\n"
     ]
    },
    {
     "name": "stdout",
     "output_type": "stream",
     "text": [
      "epoch: 66, loss: 503906.6563\n"
     ]
    },
    {
     "name": "stderr",
     "output_type": "stream",
     "text": [
      "Batch processing - Epoch 67: 100%|██████████| 378/378 [00:00<00:00, 42005.27it/s]\n"
     ]
    },
    {
     "name": "stdout",
     "output_type": "stream",
     "text": [
      "epoch: 67, loss: 502925.2778\n"
     ]
    },
    {
     "name": "stderr",
     "output_type": "stream",
     "text": [
      "Batch processing - Epoch 68: 100%|██████████| 378/378 [00:00<00:00, 31504.79it/s]\n"
     ]
    },
    {
     "name": "stdout",
     "output_type": "stream",
     "text": [
      "epoch: 68, loss: 501789.7666\n"
     ]
    },
    {
     "name": "stderr",
     "output_type": "stream",
     "text": [
      "Batch processing - Epoch 69: 100%|██████████| 378/378 [00:00<00:00, 34357.94it/s]\n"
     ]
    },
    {
     "name": "stdout",
     "output_type": "stream",
     "text": [
      "epoch: 69, loss: 500974.4285\n"
     ]
    },
    {
     "name": "stderr",
     "output_type": "stream",
     "text": [
      "Batch processing - Epoch 70: 100%|██████████| 378/378 [00:00<00:00, 39771.40it/s]\n"
     ]
    },
    {
     "name": "stdout",
     "output_type": "stream",
     "text": [
      "epoch: 70, loss: 499747.2257\n"
     ]
    },
    {
     "name": "stderr",
     "output_type": "stream",
     "text": [
      "Batch processing - Epoch 71: 100%|██████████| 378/378 [00:00<00:00, 42011.95it/s]\n"
     ]
    },
    {
     "name": "stdout",
     "output_type": "stream",
     "text": [
      "epoch: 71, loss: 498895.4676\n"
     ]
    },
    {
     "name": "stderr",
     "output_type": "stream",
     "text": [
      "Batch processing - Epoch 72: 100%|██████████| 378/378 [00:00<00:00, 37784.72it/s]\n"
     ]
    },
    {
     "name": "stdout",
     "output_type": "stream",
     "text": [
      "epoch: 72, loss: 497925.9062\n"
     ]
    },
    {
     "name": "stderr",
     "output_type": "stream",
     "text": [
      "Batch processing - Epoch 73: 100%|██████████| 378/378 [00:00<00:00, 37816.27it/s]\n"
     ]
    },
    {
     "name": "stdout",
     "output_type": "stream",
     "text": [
      "epoch: 73, loss: 497031.7956\n"
     ]
    },
    {
     "name": "stderr",
     "output_type": "stream",
     "text": [
      "Batch processing - Epoch 74: 100%|██████████| 378/378 [00:00<00:00, 37805.44it/s]\n"
     ]
    },
    {
     "name": "stdout",
     "output_type": "stream",
     "text": [
      "epoch: 74, loss: 496487.9942\n"
     ]
    },
    {
     "name": "stderr",
     "output_type": "stream",
     "text": [
      "Batch processing - Epoch 75: 100%|██████████| 378/378 [00:00<00:00, 41974.13it/s]\n"
     ]
    },
    {
     "name": "stdout",
     "output_type": "stream",
     "text": [
      "epoch: 75, loss: 495627.6355\n"
     ]
    },
    {
     "name": "stderr",
     "output_type": "stream",
     "text": [
      "Batch processing - Epoch 76: 100%|██████████| 378/378 [00:00<00:00, 41986.36it/s]\n"
     ]
    },
    {
     "name": "stdout",
     "output_type": "stream",
     "text": [
      "epoch: 76, loss: 494542.9996\n"
     ]
    },
    {
     "name": "stderr",
     "output_type": "stream",
     "text": [
      "Batch processing - Epoch 77: 100%|██████████| 378/378 [00:00<00:00, 42017.52it/s]\n"
     ]
    },
    {
     "name": "stdout",
     "output_type": "stream",
     "text": [
      "epoch: 77, loss: 493682.8207\n"
     ]
    },
    {
     "name": "stderr",
     "output_type": "stream",
     "text": [
      "Batch processing - Epoch 78: 100%|██████████| 378/378 [00:00<00:00, 37773.02it/s]\n"
     ]
    },
    {
     "name": "stdout",
     "output_type": "stream",
     "text": [
      "epoch: 78, loss: 492445.7331\n"
     ]
    },
    {
     "name": "stderr",
     "output_type": "stream",
     "text": [
      "Batch processing - Epoch 79: 100%|██████████| 378/378 [00:00<00:00, 35960.96it/s]\n"
     ]
    },
    {
     "name": "stdout",
     "output_type": "stream",
     "text": [
      "epoch: 79, loss: 491400.5807\n"
     ]
    },
    {
     "name": "stderr",
     "output_type": "stream",
     "text": [
      "Batch processing - Epoch 80: 100%|██████████| 378/378 [00:00<00:00, 37791.93it/s]\n"
     ]
    },
    {
     "name": "stdout",
     "output_type": "stream",
     "text": [
      "epoch: 80, loss: 490413.1042\n"
     ]
    },
    {
     "name": "stderr",
     "output_type": "stream",
     "text": [
      "Batch processing - Epoch 81: 100%|██████████| 378/378 [00:00<00:00, 41999.71it/s]\n"
     ]
    },
    {
     "name": "stdout",
     "output_type": "stream",
     "text": [
      "epoch: 81, loss: 489458.4186\n"
     ]
    },
    {
     "name": "stderr",
     "output_type": "stream",
     "text": [
      "Batch processing - Epoch 82: 100%|██████████| 378/378 [00:00<00:00, 31502.28it/s]\n"
     ]
    },
    {
     "name": "stdout",
     "output_type": "stream",
     "text": [
      "epoch: 82, loss: 488183.2620\n"
     ]
    },
    {
     "name": "stderr",
     "output_type": "stream",
     "text": [
      "Batch processing - Epoch 83: 100%|██████████| 378/378 [00:00<00:00, 37802.74it/s]\n"
     ]
    },
    {
     "name": "stdout",
     "output_type": "stream",
     "text": [
      "epoch: 83, loss: 487264.9600\n"
     ]
    },
    {
     "name": "stderr",
     "output_type": "stream",
     "text": [
      "Batch processing - Epoch 84: 100%|██████████| 378/378 [00:00<00:00, 37808.15it/s]\n"
     ]
    },
    {
     "name": "stdout",
     "output_type": "stream",
     "text": [
      "epoch: 84, loss: 485900.9146\n"
     ]
    },
    {
     "name": "stderr",
     "output_type": "stream",
     "text": [
      "Batch processing - Epoch 85: 100%|██████████| 378/378 [00:00<00:00, 42007.50it/s]\n"
     ]
    },
    {
     "name": "stdout",
     "output_type": "stream",
     "text": [
      "epoch: 85, loss: 484432.0927\n"
     ]
    },
    {
     "name": "stderr",
     "output_type": "stream",
     "text": [
      "Batch processing - Epoch 86: 100%|██████████| 378/378 [00:00<00:00, 42001.93it/s]\n"
     ]
    },
    {
     "name": "stdout",
     "output_type": "stream",
     "text": [
      "epoch: 86, loss: 483531.1653\n"
     ]
    },
    {
     "name": "stderr",
     "output_type": "stream",
     "text": [
      "Batch processing - Epoch 87: 100%|██████████| 378/378 [00:00<00:00, 37796.43it/s]\n"
     ]
    },
    {
     "name": "stdout",
     "output_type": "stream",
     "text": [
      "epoch: 87, loss: 482708.3479\n"
     ]
    },
    {
     "name": "stderr",
     "output_type": "stream",
     "text": [
      "Batch processing - Epoch 88: 100%|██████████| 378/378 [00:00<00:00, 39735.51it/s]\n"
     ]
    },
    {
     "name": "stdout",
     "output_type": "stream",
     "text": [
      "epoch: 88, loss: 482166.4072\n"
     ]
    },
    {
     "name": "stderr",
     "output_type": "stream",
     "text": [
      "Batch processing - Epoch 89: 100%|██████████| 378/378 [00:00<00:00, 42001.93it/s]\n"
     ]
    },
    {
     "name": "stdout",
     "output_type": "stream",
     "text": [
      "epoch: 89, loss: 481578.0956\n"
     ]
    },
    {
     "name": "stderr",
     "output_type": "stream",
     "text": [
      "Batch processing - Epoch 90: 100%|██████████| 378/378 [00:00<00:00, 37811.76it/s]\n"
     ]
    },
    {
     "name": "stdout",
     "output_type": "stream",
     "text": [
      "epoch: 90, loss: 481291.7135\n"
     ]
    },
    {
     "name": "stderr",
     "output_type": "stream",
     "text": [
      "Batch processing - Epoch 91: 100%|██████████| 378/378 [00:00<00:00, 41999.71it/s]\n"
     ]
    },
    {
     "name": "stdout",
     "output_type": "stream",
     "text": [
      "epoch: 91, loss: 481158.0706\n"
     ]
    },
    {
     "name": "stderr",
     "output_type": "stream",
     "text": [
      "Batch processing - Epoch 92: 100%|██████████| 378/378 [00:00<00:00, 37809.95it/s]\n"
     ]
    },
    {
     "name": "stdout",
     "output_type": "stream",
     "text": [
      "epoch: 92, loss: 480896.2086\n"
     ]
    },
    {
     "name": "stderr",
     "output_type": "stream",
     "text": [
      "Batch processing - Epoch 93: 100%|██████████| 378/378 [00:00<00:00, 37799.13it/s]\n"
     ]
    },
    {
     "name": "stdout",
     "output_type": "stream",
     "text": [
      "epoch: 93, loss: 480706.2976\n"
     ]
    },
    {
     "name": "stderr",
     "output_type": "stream",
     "text": [
      "Batch processing - Epoch 94: 100%|██████████| 378/378 [00:00<00:00, 34354.96it/s]\n"
     ]
    },
    {
     "name": "stdout",
     "output_type": "stream",
     "text": [
      "epoch: 94, loss: 480408.9647\n"
     ]
    },
    {
     "name": "stderr",
     "output_type": "stream",
     "text": [
      "Batch processing - Epoch 95: 100%|██████████| 378/378 [00:00<00:00, 41997.48it/s]\n"
     ]
    },
    {
     "name": "stdout",
     "output_type": "stream",
     "text": [
      "epoch: 95, loss: 480559.5473\n"
     ]
    },
    {
     "name": "stderr",
     "output_type": "stream",
     "text": [
      "Batch processing - Epoch 96: 100%|██████████| 378/378 [00:00<00:00, 37791.03it/s]\n"
     ]
    },
    {
     "name": "stdout",
     "output_type": "stream",
     "text": [
      "epoch: 96, loss: 480376.5827\n"
     ]
    },
    {
     "name": "stderr",
     "output_type": "stream",
     "text": [
      "Batch processing - Epoch 97: 100%|██████████| 378/378 [00:00<00:00, 41986.36it/s]\n"
     ]
    },
    {
     "name": "stdout",
     "output_type": "stream",
     "text": [
      "epoch: 97, loss: 480074.2674\n"
     ]
    },
    {
     "name": "stderr",
     "output_type": "stream",
     "text": [
      "Batch processing - Epoch 98: 100%|██████████| 378/378 [00:00<00:00, 37783.82it/s]\n"
     ]
    },
    {
     "name": "stdout",
     "output_type": "stream",
     "text": [
      "epoch: 98, loss: 479757.2770\n"
     ]
    },
    {
     "name": "stderr",
     "output_type": "stream",
     "text": [
      "Batch processing - Epoch 99: 100%|██████████| 378/378 [00:00<00:00, 41998.59it/s]\n"
     ]
    },
    {
     "name": "stdout",
     "output_type": "stream",
     "text": [
      "epoch: 99, loss: 479546.2668\n"
     ]
    },
    {
     "name": "stderr",
     "output_type": "stream",
     "text": [
      "Batch processing - Epoch 100: 100%|██████████| 378/378 [00:00<00:00, 41991.92it/s]"
     ]
    },
    {
     "name": "stdout",
     "output_type": "stream",
     "text": [
      "epoch: 100, loss: 478985.4171\n"
     ]
    },
    {
     "name": "stderr",
     "output_type": "stream",
     "text": [
      "\n"
     ]
    }
   ],
   "execution_count": 20
  },
  {
   "metadata": {
    "ExecuteTime": {
     "end_time": "2024-09-19T10:03:04.981789Z",
     "start_time": "2024-09-19T10:03:04.781585Z"
    }
   },
   "cell_type": "code",
   "source": [
    "preds = model.predict(X_test)\n",
    "# Проверяем модель MLP на выборке Diamonds\n",
    "score_MLP = r2_score(preds, y_test)\n",
    "plt.title(f'R2: {str(score_MLP)[:5]}')\n",
    "plt.hist(preds.reshape(1, -1)[0], bins=100, label='PREDICTION')\n",
    "plt.hist(y_test.reshape(1, -1)[0], bins=100, label='GT')\n",
    "plt.legend()\n",
    "plt.grid();"
   ],
   "id": "7779821ce03b56e2",
   "outputs": [
    {
     "data": {
      "text/plain": [
       "<Figure size 640x480 with 1 Axes>"
      ],
      "image/png": "[encoded data removed]"
     },
     "metadata": {},
     "output_type": "display_data"
    }
   ],
   "execution_count": 21
  },
  {
   "metadata": {},
   "cell_type": "markdown",
   "source": "Как можно заметить по метрике R2 результат лучше чем от простой модели линейной регрессии. График распределения подтверждает эти результаты.",
   "id": "9bc429392168a8f0"
  }
 ],
 "metadata": {
  "kernelspec": {
   "display_name": "Python 3",
   "language": "python",
   "name": "python3"
  },
  "language_info": {
   "codemirror_mode": {
    "name": "ipython",
    "version": 3
   },
   "file_extension": ".py",
   "mimetype": "text/x-python",
   "name": "python",
   "nbconvert_exporter": "python",
   "pygments_lexer": "ipython3",
   "version": "3.9.6"
  }
 },
 "nbformat": 4,
 "nbformat_minor": 5
}
